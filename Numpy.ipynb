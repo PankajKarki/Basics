{
  "nbformat": 4,
  "nbformat_minor": 0,
  "metadata": {
    "colab": {
      "name": "Numpy.ipynb",
      "provenance": [],
      "collapsed_sections": [
        "iwx93TN2UVxs",
        "7ykyHQZ4f7cM",
        "UlPXe4P-uGHZ",
        "i2EDL1kpRbez",
        "wsMRdQzb3Oes",
        "ZQ53jZ2qVl0W",
        "0TuLuz53eCuQ",
        "eR0zrR4-CSXP",
        "z7jdI2e8LnEE",
        "RcPVSpgjVXVO",
        "ZngAtXpZoN3w"
      ]
    },
    "kernelspec": {
      "name": "python3",
      "display_name": "Python 3"
    }
  },
  "cells": [
    {
      "cell_type": "markdown",
      "metadata": {
        "id": "iwx93TN2UVxs",
        "colab_type": "text"
      },
      "source": [
        "## Comparing performance with list"
      ]
    },
    {
      "cell_type": "code",
      "metadata": {
        "id": "Ka992xQlZ5df",
        "colab_type": "code",
        "colab": {}
      },
      "source": [
        "import numpy as np"
      ],
      "execution_count": 2,
      "outputs": []
    },
    {
      "cell_type": "code",
      "metadata": {
        "id": "P3CIUa5BQc1U",
        "colab_type": "code",
        "colab": {}
      },
      "source": [
        "N = 100000000"
      ],
      "execution_count": 1,
      "outputs": []
    },
    {
      "cell_type": "code",
      "metadata": {
        "id": "r8XKj__4UkN6",
        "colab_type": "code",
        "colab": {
          "base_uri": "https://localhost:8080/",
          "height": 51
        },
        "outputId": "97bf64bb-4f1f-45e2-d221-283c5e914436"
      },
      "source": [
        "%%time\n",
        "list_ = list(range(N))\n",
        "for i in range(N):\n",
        "  list_[i] = list_[i] * list_[i]"
      ],
      "execution_count": 10,
      "outputs": [
        {
          "output_type": "stream",
          "text": [
            "CPU times: user 20.9 s, sys: 1.42 s, total: 22.3 s\n",
            "Wall time: 22.3 s\n"
          ],
          "name": "stdout"
        }
      ]
    },
    {
      "cell_type": "code",
      "metadata": {
        "id": "R0wFi6VqVZ2K",
        "colab_type": "code",
        "colab": {
          "base_uri": "https://localhost:8080/",
          "height": 51
        },
        "outputId": "b7f6b459-1728-42fb-8296-b63c317723de"
      },
      "source": [
        "%%time \n",
        "list_ = list(range(N))\n",
        "list_ = [item * item for item in list_]"
      ],
      "execution_count": 2,
      "outputs": [
        {
          "output_type": "stream",
          "text": [
            "CPU times: user 8.83 s, sys: 4.23 s, total: 13.1 s\n",
            "Wall time: 13.1 s\n"
          ],
          "name": "stdout"
        }
      ]
    },
    {
      "cell_type": "code",
      "metadata": {
        "id": "YWHC8qsHWkf4",
        "colab_type": "code",
        "colab": {
          "base_uri": "https://localhost:8080/",
          "height": 51
        },
        "outputId": "109bddc4-0fed-4701-b00c-b3a5dfa1aa76"
      },
      "source": [
        "%%time\n",
        "list_ = list(range(N))\n",
        "item_ = map(lambda x: x * x, list_)"
      ],
      "execution_count": 3,
      "outputs": [
        {
          "output_type": "stream",
          "text": [
            "CPU times: user 2.63 s, sys: 1.78 s, total: 4.42 s\n",
            "Wall time: 4.4 s\n"
          ],
          "name": "stdout"
        }
      ]
    },
    {
      "cell_type": "code",
      "metadata": {
        "id": "2rGlgreDXW3g",
        "colab_type": "code",
        "colab": {
          "base_uri": "https://localhost:8080/",
          "height": 51
        },
        "outputId": "18f57e76-79c2-4fbc-c6d6-888a1a13d99e"
      },
      "source": [
        "%%time\n",
        "list_ = list(range(N))\n",
        "list_sum = 0\n",
        "for item in list_:\n",
        "  list_sum += item\n"
      ],
      "execution_count": 5,
      "outputs": [
        {
          "output_type": "stream",
          "text": [
            "CPU times: user 12.6 s, sys: 3.33 s, total: 15.9 s\n",
            "Wall time: 15.9 s\n"
          ],
          "name": "stdout"
        }
      ]
    },
    {
      "cell_type": "code",
      "metadata": {
        "id": "zfbryLX2YyPv",
        "colab_type": "code",
        "colab": {
          "base_uri": "https://localhost:8080/",
          "height": 51
        },
        "outputId": "a7f39b5f-95d5-4566-b28c-8642f2600086"
      },
      "source": [
        "%%time\n",
        "list_ = list(range(N))\n",
        "list_sum = sum(list_)"
      ],
      "execution_count": 6,
      "outputs": [
        {
          "output_type": "stream",
          "text": [
            "CPU times: user 3.13 s, sys: 3.38 s, total: 6.51 s\n",
            "Wall time: 6.59 s\n"
          ],
          "name": "stdout"
        }
      ]
    },
    {
      "cell_type": "code",
      "metadata": {
        "id": "O2c0TcGdZYko",
        "colab_type": "code",
        "colab": {
          "base_uri": "https://localhost:8080/",
          "height": 51
        },
        "outputId": "09852f23-9994-47d4-a276-7d7e439bf071"
      },
      "source": [
        "%%time\n",
        "arr = np.arange(N)\n",
        "arr = arr * arr"
      ],
      "execution_count": 10,
      "outputs": [
        {
          "output_type": "stream",
          "text": [
            "CPU times: user 558 ms, sys: 705 ms, total: 1.26 s\n",
            "Wall time: 1.28 s\n"
          ],
          "name": "stdout"
        }
      ]
    },
    {
      "cell_type": "code",
      "metadata": {
        "id": "BknoxaAUZ20b",
        "colab_type": "code",
        "colab": {
          "base_uri": "https://localhost:8080/",
          "height": 51
        },
        "outputId": "f5a7b46d-5ed8-4b76-9f8d-f1e5c639b147"
      },
      "source": [
        "%%time\n",
        "arr = np.arange(N)\n",
        "arr_sum = np.sum(arr)"
      ],
      "execution_count": 11,
      "outputs": [
        {
          "output_type": "stream",
          "text": [
            "CPU times: user 334 ms, sys: 36.6 ms, total: 370 ms\n",
            "Wall time: 376 ms\n"
          ],
          "name": "stdout"
        }
      ]
    },
    {
      "cell_type": "markdown",
      "metadata": {
        "id": "7ykyHQZ4f7cM",
        "colab_type": "text"
      },
      "source": [
        "## Creating up arrays\n",
        "\n",
        "*   **np.arrange()**\n",
        "*   **np.linspace()**\n",
        "*   **np.array()**\n",
        "*   **np.randon.randn()**\n",
        "*   **np.randon.rand()**\n",
        "*   **np.randon.randint()**\n",
        "*   **np.ones()**\n",
        "*   **np.zeros()**"
      ]
    },
    {
      "cell_type": "code",
      "metadata": {
        "id": "a-gOqJYMaPK1",
        "colab_type": "code",
        "colab": {
          "base_uri": "https://localhost:8080/",
          "height": 34
        },
        "outputId": "a9f5f83a-50be-4dad-86b7-49404e326167"
      },
      "source": [
        "arr = np.arange(5)\n",
        "print(arr, type(arr))"
      ],
      "execution_count": 2,
      "outputs": [
        {
          "output_type": "stream",
          "text": [
            "[0 1 2 3 4] <class 'numpy.ndarray'>\n"
          ],
          "name": "stdout"
        }
      ]
    },
    {
      "cell_type": "code",
      "metadata": {
        "id": "2WBk5rxKgHKb",
        "colab_type": "code",
        "colab": {
          "base_uri": "https://localhost:8080/",
          "height": 34
        },
        "outputId": "91fc41fc-6f7b-40ac-f8c4-f295973ad31f"
      },
      "source": [
        "arr = np.array([0, 1, 2, 3, 4])\n",
        "print(arr, type(arr))"
      ],
      "execution_count": 4,
      "outputs": [
        {
          "output_type": "stream",
          "text": [
            "[0 1 2 3 4] <class 'numpy.ndarray'>\n"
          ],
          "name": "stdout"
        }
      ]
    },
    {
      "cell_type": "code",
      "metadata": {
        "id": "3wh20gZUgPOF",
        "colab_type": "code",
        "colab": {
          "base_uri": "https://localhost:8080/",
          "height": 119
        },
        "outputId": "53fb7baf-6f59-4792-d09c-7a73f4c5995c"
      },
      "source": [
        "print(\"dtype\", arr.dtype)\n",
        "print(\"ndim\", arr.ndim)\n",
        "print(\"shape\", arr.shape)\n",
        "print(\"size\", arr.size)\n",
        "print(\"itemsize\", arr.itemsize)  # int64 requires 8 bytes to store"
      ],
      "execution_count": 19,
      "outputs": [
        {
          "output_type": "stream",
          "text": [
            "dtype int64\n",
            "ndim 1\n",
            "shape (5,)\n",
            "size 5\n",
            "itemsize 8\n",
            "\n"
          ],
          "name": "stdout"
        }
      ]
    },
    {
      "cell_type": "code",
      "metadata": {
        "id": "H9xrL3z4gsW0",
        "colab_type": "code",
        "colab": {
          "base_uri": "https://localhost:8080/",
          "height": 119
        },
        "outputId": "88261598-9499-4c64-b103-3e7fbb3309a9"
      },
      "source": [
        "arr = np.array([0., 1, 2, 3, 4])\n",
        "print(arr, type(arr))\n",
        "print(\"dtype\", arr.dtype)\n",
        "print(\"ndim\", arr.ndim)\n",
        "print(\"shape\", arr.shape)\n",
        "print(\"size\", arr.size)\n",
        "print(\"itemsize\", arr.itemsize)  # int64 requires 8 bytes to store"
      ],
      "execution_count": 20,
      "outputs": [
        {
          "output_type": "stream",
          "text": [
            "[0. 1. 2. 3. 4.] <class 'numpy.ndarray'>\n",
            "dtype float64\n",
            "ndim 1\n",
            "shape (5,)\n",
            "size 5\n",
            "itemsize 8\n"
          ],
          "name": "stdout"
        }
      ]
    },
    {
      "cell_type": "code",
      "metadata": {
        "id": "fr-33wEKij7I",
        "colab_type": "code",
        "colab": {
          "base_uri": "https://localhost:8080/",
          "height": 136
        },
        "outputId": "e2dfa682-2d93-4b1b-ed04-68b615cddd99"
      },
      "source": [
        "arr2d = np.array([\n",
        "                   [1, 2, 3],\n",
        "                   [4, 5, 6]\n",
        "])\n",
        "print(arr2d, type(arr2d))\n",
        "print(\"dtype\", arr2d.dtype)\n",
        "print(\"ndim\", arr2d.ndim)\n",
        "print(\"shape\", arr2d.shape)    # We move backwards dim_1 <- dim_2  => (2, 3)\n",
        "print(\"size\", arr2d.size)\n",
        "print(\"itemsize\", arr2d.itemsize) "
      ],
      "execution_count": 25,
      "outputs": [
        {
          "output_type": "stream",
          "text": [
            "[[1 2 3]\n",
            " [4 5 6]] <class 'numpy.ndarray'>\n",
            "dtype int64\n",
            "ndim 2\n",
            "shape (2, 3)\n",
            "size 6\n",
            "itemsize 8\n"
          ],
          "name": "stdout"
        }
      ]
    },
    {
      "cell_type": "code",
      "metadata": {
        "id": "P7VSP6gDkZyB",
        "colab_type": "code",
        "colab": {
          "base_uri": "https://localhost:8080/",
          "height": 187
        },
        "outputId": "74220160-d2e8-4387-e330-adfc20968c1d"
      },
      "source": [
        "arr3d = np.array([\n",
        "                  [\n",
        "                   [1, 2, 3],\n",
        "                   [4, 5, 6]\n",
        "                  ],\n",
        "                  [\n",
        "                   [7, 8, 9],\n",
        "                   [10, 11, 12]\n",
        "                  ]\n",
        "])\n",
        "print(arr3d, type(arr3d))\n",
        "print(\"dtype\", arr3d.dtype)\n",
        "print(\"ndim\", arr3d.ndim)\n",
        "print(\"shape\", arr3d.shape)    # We move backwards dim_0 <- dim_1 <- dim_2  => (2, 2, 3)\n",
        "print(\"size\", arr3d.size)\n",
        "print(\"itemsize\", arr3d.itemsize)\n",
        " "
      ],
      "execution_count": 26,
      "outputs": [
        {
          "output_type": "stream",
          "text": [
            "[[[ 1  2  3]\n",
            "  [ 4  5  6]]\n",
            "\n",
            " [[ 7  8  9]\n",
            "  [10 11 12]]] <class 'numpy.ndarray'>\n",
            "dtype int64\n",
            "ndim 3\n",
            "shape (2, 2, 3)\n",
            "size 12\n",
            "itemsize 8\n"
          ],
          "name": "stdout"
        }
      ]
    },
    {
      "cell_type": "code",
      "metadata": {
        "id": "L2pm4ynknxXZ",
        "colab_type": "code",
        "colab": {
          "base_uri": "https://localhost:8080/",
          "height": 68
        },
        "outputId": "d21a7d65-8b58-4e68-960b-e8077d86d4a5"
      },
      "source": [
        "np.ones((3,4))"
      ],
      "execution_count": 27,
      "outputs": [
        {
          "output_type": "execute_result",
          "data": {
            "text/plain": [
              "array([[1., 1., 1., 1.],\n",
              "       [1., 1., 1., 1.],\n",
              "       [1., 1., 1., 1.]])"
            ]
          },
          "metadata": {
            "tags": []
          },
          "execution_count": 27
        }
      ]
    },
    {
      "cell_type": "code",
      "metadata": {
        "id": "r6skBiBXoUlW",
        "colab_type": "code",
        "colab": {
          "base_uri": "https://localhost:8080/",
          "height": 153
        },
        "outputId": "7109fa9e-76f7-4651-b188-88f124bf3918"
      },
      "source": [
        "7 * np.ones((3, 2, 4))"
      ],
      "execution_count": 29,
      "outputs": [
        {
          "output_type": "execute_result",
          "data": {
            "text/plain": [
              "array([[[7., 7., 7., 7.],\n",
              "        [7., 7., 7., 7.]],\n",
              "\n",
              "       [[7., 7., 7., 7.],\n",
              "        [7., 7., 7., 7.]],\n",
              "\n",
              "       [[7., 7., 7., 7.],\n",
              "        [7., 7., 7., 7.]]])"
            ]
          },
          "metadata": {
            "tags": []
          },
          "execution_count": 29
        }
      ]
    },
    {
      "cell_type": "code",
      "metadata": {
        "id": "MxGG9Ei1oamr",
        "colab_type": "code",
        "colab": {
          "base_uri": "https://localhost:8080/",
          "height": 136
        },
        "outputId": "52563c77-4653-4fe9-b180-a4b991e13d5a"
      },
      "source": [
        "np.zeros((2,3,4))"
      ],
      "execution_count": 33,
      "outputs": [
        {
          "output_type": "execute_result",
          "data": {
            "text/plain": [
              "array([[[0., 0., 0., 0.],\n",
              "        [0., 0., 0., 0.],\n",
              "        [0., 0., 0., 0.]],\n",
              "\n",
              "       [[0., 0., 0., 0.],\n",
              "        [0., 0., 0., 0.],\n",
              "        [0., 0., 0., 0.]]])"
            ]
          },
          "metadata": {
            "tags": []
          },
          "execution_count": 33
        }
      ]
    },
    {
      "cell_type": "code",
      "metadata": {
        "id": "YC8H0wuEoh9l",
        "colab_type": "code",
        "colab": {
          "base_uri": "https://localhost:8080/",
          "height": 68
        },
        "outputId": "814ee689-6f7f-4c31-e2f2-64fdb135d17b"
      },
      "source": [
        "np.random.randn(3,5)    # numbers sampled from normal distribution with mean -> 0, variance -> 1 (rand n-> denotes normal distribution)"
      ],
      "execution_count": 35,
      "outputs": [
        {
          "output_type": "execute_result",
          "data": {
            "text/plain": [
              "array([[-0.18046979,  2.05720755, -1.15158523,  1.88360195, -0.53092506],\n",
              "       [ 0.44580324,  0.64281046,  1.61658394,  0.14385076, -0.09909543],\n",
              "       [ 0.84498516, -0.08147961,  0.33974856, -0.01269024, -0.00274298]])"
            ]
          },
          "metadata": {
            "tags": []
          },
          "execution_count": 35
        }
      ]
    },
    {
      "cell_type": "code",
      "metadata": {
        "id": "JQuG5fFhoymF",
        "colab_type": "code",
        "colab": {
          "base_uri": "https://localhost:8080/",
          "height": 68
        },
        "outputId": "a2e9a6d4-9b7e-4142-ea30-4575df654fea"
      },
      "source": [
        "np.random.rand(3,5)    # numbers uniformally sampled between 0 and 1"
      ],
      "execution_count": 36,
      "outputs": [
        {
          "output_type": "execute_result",
          "data": {
            "text/plain": [
              "array([[0.8479349 , 0.1204364 , 0.16865522, 0.41918278, 0.55520041],\n",
              "       [0.55237442, 0.9319078 , 0.98744012, 0.61321006, 0.23625287],\n",
              "       [0.34102103, 0.85956913, 0.86330049, 0.33054649, 0.49919491]])"
            ]
          },
          "metadata": {
            "tags": []
          },
          "execution_count": 36
        }
      ]
    },
    {
      "cell_type": "code",
      "metadata": {
        "id": "ij9IdNyRqP4W",
        "colab_type": "code",
        "colab": {
          "base_uri": "https://localhost:8080/",
          "height": 51
        },
        "outputId": "8845674c-7474-496c-c64b-9ffe82462d34"
      },
      "source": [
        "np.random.randint(0, 10, (2, 3))"
      ],
      "execution_count": 37,
      "outputs": [
        {
          "output_type": "execute_result",
          "data": {
            "text/plain": [
              "array([[3, 8, 6],\n",
              "       [7, 2, 8]])"
            ]
          },
          "metadata": {
            "tags": []
          },
          "execution_count": 37
        }
      ]
    },
    {
      "cell_type": "code",
      "metadata": {
        "id": "EK1oiJr-qhEW",
        "colab_type": "code",
        "colab": {
          "base_uri": "https://localhost:8080/",
          "height": 34
        },
        "outputId": "e6dc43b7-241b-4b4f-b826-878eddf77993"
      },
      "source": [
        "np.arange(1, 10, 2)     # 2 is step size"
      ],
      "execution_count": 38,
      "outputs": [
        {
          "output_type": "execute_result",
          "data": {
            "text/plain": [
              "array([1, 3, 5, 7, 9])"
            ]
          },
          "metadata": {
            "tags": []
          },
          "execution_count": 38
        }
      ]
    },
    {
      "cell_type": "code",
      "metadata": {
        "id": "jKrbHRKHqqpR",
        "colab_type": "code",
        "colab": {
          "base_uri": "https://localhost:8080/",
          "height": 34
        },
        "outputId": "43f47f91-ad5e-4bc4-97a5-dc1591875b55"
      },
      "source": [
        "np.linspace(7, 70, 10)   # 10 numbers between 7-70"
      ],
      "execution_count": 39,
      "outputs": [
        {
          "output_type": "execute_result",
          "data": {
            "text/plain": [
              "array([ 7., 14., 21., 28., 35., 42., 49., 56., 63., 70.])"
            ]
          },
          "metadata": {
            "tags": []
          },
          "execution_count": 39
        }
      ]
    },
    {
      "cell_type": "code",
      "metadata": {
        "id": "rLrDui2Gqy9x",
        "colab_type": "code",
        "colab": {
          "base_uri": "https://localhost:8080/",
          "height": 34
        },
        "outputId": "8939ed6e-0daa-4883-91c8-0243ac9f2cb4"
      },
      "source": [
        "np.array([True, False, True])"
      ],
      "execution_count": 40,
      "outputs": [
        {
          "output_type": "execute_result",
          "data": {
            "text/plain": [
              "array([ True, False,  True])"
            ]
          },
          "metadata": {
            "tags": []
          },
          "execution_count": 40
        }
      ]
    },
    {
      "cell_type": "code",
      "metadata": {
        "id": "xvFDQRaIrNWR",
        "colab_type": "code",
        "colab": {}
      },
      "source": [
        "str_array = np.array(['3.1', '2.1', '1.1'])"
      ],
      "execution_count": 44,
      "outputs": []
    },
    {
      "cell_type": "code",
      "metadata": {
        "id": "UVjZCC8Erays",
        "colab_type": "code",
        "colab": {
          "base_uri": "https://localhost:8080/",
          "height": 34
        },
        "outputId": "1ab5ccb5-3709-4ab7-9527-3b712c85358c"
      },
      "source": [
        "arr = np.array(str_array, dtype='float')\n",
        "arr"
      ],
      "execution_count": 48,
      "outputs": [
        {
          "output_type": "execute_result",
          "data": {
            "text/plain": [
              "array([3.1, 2.1, 1.1])"
            ]
          },
          "metadata": {
            "tags": []
          },
          "execution_count": 48
        }
      ]
    },
    {
      "cell_type": "markdown",
      "metadata": {
        "id": "UlPXe4P-uGHZ",
        "colab_type": "text"
      },
      "source": [
        "## Indexing and Slicing"
      ]
    },
    {
      "cell_type": "code",
      "metadata": {
        "id": "bdQn6sdyrkoy",
        "colab_type": "code",
        "colab": {
          "base_uri": "https://localhost:8080/",
          "height": 102
        },
        "outputId": "30d6c978-2f1f-46e5-d73d-882bc8147f4d"
      },
      "source": [
        "arr3d = np.array([\n",
        "                  [\n",
        "                   [1, 2, 3],\n",
        "                   [4, 5, 6]\n",
        "                  ],\n",
        "                  [\n",
        "                   [7, 8, 9],\n",
        "                   [10, 11, 12]\n",
        "                  ]\n",
        "])\n",
        "print(arr3d)"
      ],
      "execution_count": 50,
      "outputs": [
        {
          "output_type": "stream",
          "text": [
            "[[[ 1  2  3]\n",
            "  [ 4  5  6]]\n",
            "\n",
            " [[ 7  8  9]\n",
            "  [10 11 12]]]\n"
          ],
          "name": "stdout"
        }
      ]
    },
    {
      "cell_type": "code",
      "metadata": {
        "id": "KWViy14EuK9E",
        "colab_type": "code",
        "colab": {
          "base_uri": "https://localhost:8080/",
          "height": 51
        },
        "outputId": "d19e88a7-10eb-4dd6-81bc-dfe55b217a48"
      },
      "source": [
        "print(arr3d[0, 0, 0])   # Access first element\n",
        "print(arr3d[1, 1, 2])   # Access last element"
      ],
      "execution_count": 56,
      "outputs": [
        {
          "output_type": "stream",
          "text": [
            "1\n",
            "12\n"
          ],
          "name": "stdout"
        }
      ]
    },
    {
      "cell_type": "code",
      "metadata": {
        "id": "cDoFMqv7vMi5",
        "colab_type": "code",
        "colab": {
          "base_uri": "https://localhost:8080/",
          "height": 289
        },
        "outputId": "a87c2c8b-bed7-4b64-8a33-dc7065a62c03"
      },
      "source": [
        "print(arr3d[0, :, :])   \n",
        "print(10*'-')\n",
        "print(arr3d[1, :, :])\n",
        "print(10*'-')\n",
        "print(arr3d[1, 0, :])\n",
        "print(10*'-')\n",
        "print(arr3d[1, :, 0:2])\n",
        "print(10*'-')\n",
        "print(arr3d[:, :, 0:2])"
      ],
      "execution_count": 68,
      "outputs": [
        {
          "output_type": "stream",
          "text": [
            "[[1 2 3]\n",
            " [4 5 6]]\n",
            "----------\n",
            "[[ 7  8  9]\n",
            " [10 11 12]]\n",
            "----------\n",
            "[7 8 9]\n",
            "----------\n",
            "[[ 7  8]\n",
            " [10 11]]\n",
            "----------\n",
            "[[[ 1  2]\n",
            "  [ 4  5]]\n",
            "\n",
            " [[ 7  8]\n",
            "  [10 11]]]\n"
          ],
          "name": "stdout"
        }
      ]
    },
    {
      "cell_type": "code",
      "metadata": {
        "id": "Rh2r90wIwTkB",
        "colab_type": "code",
        "colab": {
          "base_uri": "https://localhost:8080/",
          "height": 102
        },
        "outputId": "7fb315bf-4684-4cd3-d52c-60f11a95c024"
      },
      "source": [
        "arr3d % 2 == 0       # to check even number in a array"
      ],
      "execution_count": 69,
      "outputs": [
        {
          "output_type": "execute_result",
          "data": {
            "text/plain": [
              "array([[[False,  True, False],\n",
              "        [ True, False,  True]],\n",
              "\n",
              "       [[False,  True, False],\n",
              "        [ True, False,  True]]])"
            ]
          },
          "metadata": {
            "tags": []
          },
          "execution_count": 69
        }
      ]
    },
    {
      "cell_type": "code",
      "metadata": {
        "id": "bpgCdyb9OP2W",
        "colab_type": "code",
        "colab": {
          "base_uri": "https://localhost:8080/",
          "height": 68
        },
        "outputId": "9c3606c7-35af-4f7b-ade2-869d063bca7a"
      },
      "source": [
        "print(arr3d[arr3d % 2 == 0] )    # find even numbers\n",
        "print(arr3d[arr3d % 2 == 1]  )   # find odd numbers\n",
        "print(arr3d[(arr3d % 2 == 1) & (arr3d > 3)] )    # find odd numbers greater than three"
      ],
      "execution_count": 72,
      "outputs": [
        {
          "output_type": "stream",
          "text": [
            "[ 2  4  6  8 10 12]\n",
            "[ 1  3  5  7  9 11]\n",
            "[ 5  7  9 11]\n"
          ],
          "name": "stdout"
        }
      ]
    },
    {
      "cell_type": "code",
      "metadata": {
        "id": "IujYeZCmO0I-",
        "colab_type": "code",
        "colab": {
          "base_uri": "https://localhost:8080/",
          "height": 204
        },
        "outputId": "487870cd-b63f-4ca2-ae26-123583eac29e"
      },
      "source": [
        "# If you modify slice that will reflect in the array\n",
        "arr_slice = arr3d[:, :, 0:2]\n",
        "print(arr_slice)\n",
        "print(arr_slice[0,0,0])\n",
        "arr_slice[0,0,0] = 1170\n",
        "print(arr_slice)"
      ],
      "execution_count": 76,
      "outputs": [
        {
          "output_type": "stream",
          "text": [
            "[[[ 1  2]\n",
            "  [ 4  5]]\n",
            "\n",
            " [[ 7  8]\n",
            "  [10 11]]]\n",
            "1\n",
            "[[[1170    2]\n",
            "  [   4    5]]\n",
            "\n",
            " [[   7    8]\n",
            "  [  10   11]]]\n"
          ],
          "name": "stdout"
        }
      ]
    },
    {
      "cell_type": "code",
      "metadata": {
        "id": "U_FLTxjCPdcu",
        "colab_type": "code",
        "colab": {
          "base_uri": "https://localhost:8080/",
          "height": 102
        },
        "outputId": "c4ae6793-43a1-4052-fdfd-31d9401875c4"
      },
      "source": [
        "print(arr3d)"
      ],
      "execution_count": 77,
      "outputs": [
        {
          "output_type": "stream",
          "text": [
            "[[[1170    2    3]\n",
            "  [   4    5    6]]\n",
            "\n",
            " [[   7    8    9]\n",
            "  [  10   11   12]]]\n"
          ],
          "name": "stdout"
        }
      ]
    },
    {
      "cell_type": "code",
      "metadata": {
        "id": "lxfEOMwbP2tP",
        "colab_type": "code",
        "colab": {
          "base_uri": "https://localhost:8080/",
          "height": 187
        },
        "outputId": "46366d2f-7e60-4414-d773-e04253226496"
      },
      "source": [
        "arr_slice = np.copy(arr3d[:, :, 0:2])   # deep copy\n",
        "arr_slice[0, 0, 0] = 1\n",
        "print(arr_slice)\n",
        "print(arr3d)"
      ],
      "execution_count": 78,
      "outputs": [
        {
          "output_type": "stream",
          "text": [
            "[[[ 1  2]\n",
            "  [ 4  5]]\n",
            "\n",
            " [[ 7  8]\n",
            "  [10 11]]]\n",
            "[[[1170    2    3]\n",
            "  [   4    5    6]]\n",
            "\n",
            " [[   7    8    9]\n",
            "  [  10   11   12]]]\n"
          ],
          "name": "stdout"
        }
      ]
    },
    {
      "cell_type": "code",
      "metadata": {
        "id": "p7hlaDLFQXg8",
        "colab_type": "code",
        "colab": {
          "base_uri": "https://localhost:8080/",
          "height": 34
        },
        "outputId": "a0bf8ee2-e061-4c5a-f180-bf846b872a00"
      },
      "source": [
        "arr = np.random.randint(1, 10, (7))\n",
        "arr"
      ],
      "execution_count": 81,
      "outputs": [
        {
          "output_type": "execute_result",
          "data": {
            "text/plain": [
              "array([1, 1, 3, 2, 4, 5, 3])"
            ]
          },
          "metadata": {
            "tags": []
          },
          "execution_count": 81
        }
      ]
    },
    {
      "cell_type": "code",
      "metadata": {
        "id": "tR0778OURBay",
        "colab_type": "code",
        "colab": {}
      },
      "source": [
        "my_indices = [1, 3, 4]"
      ],
      "execution_count": 82,
      "outputs": []
    },
    {
      "cell_type": "code",
      "metadata": {
        "id": "YZ9bLMkFRC83",
        "colab_type": "code",
        "colab": {
          "base_uri": "https://localhost:8080/",
          "height": 34
        },
        "outputId": "13edfbcb-5cb9-4fd4-d5e1-b36f5d81168f"
      },
      "source": [
        "arr[my_indices]"
      ],
      "execution_count": 83,
      "outputs": [
        {
          "output_type": "execute_result",
          "data": {
            "text/plain": [
              "array([1, 2, 4])"
            ]
          },
          "metadata": {
            "tags": []
          },
          "execution_count": 83
        }
      ]
    },
    {
      "cell_type": "markdown",
      "metadata": {
        "id": "i2EDL1kpRbez",
        "colab_type": "text"
      },
      "source": [
        "## Operations"
      ]
    },
    {
      "cell_type": "code",
      "metadata": {
        "id": "4cwI8TOVROSS",
        "colab_type": "code",
        "colab": {
          "base_uri": "https://localhost:8080/",
          "height": 136
        },
        "outputId": "5b2b7aa0-c0f1-4a95-c6c6-f198f4cc31c3"
      },
      "source": [
        "arr1 = np.random.rand(3,4)\n",
        "arr2 = np.random.rand(3,4)\n",
        "print(arr1)\n",
        "print(10*\"-\")\n",
        "print(arr2)"
      ],
      "execution_count": 88,
      "outputs": [
        {
          "output_type": "stream",
          "text": [
            "[[0.36157727 0.88764762 0.11416759 0.42388794]\n",
            " [0.74928292 0.33760497 0.40284372 0.96257455]\n",
            " [0.75679546 0.8298889  0.15421203 0.12083383]]\n",
            "----------\n",
            "[[0.57765781 0.6112036  0.84088791 0.07111772]\n",
            " [0.31811723 0.88514564 0.79515401 0.36433593]\n",
            " [0.9564157  0.23876053 0.11752022 0.87939222]]\n"
          ],
          "name": "stdout"
        }
      ]
    },
    {
      "cell_type": "code",
      "metadata": {
        "id": "zUrzaVTeZwMN",
        "colab_type": "code",
        "colab": {
          "base_uri": "https://localhost:8080/",
          "height": 408
        },
        "outputId": "5e2935fc-aac2-4a4c-e0c1-4a98ddf1fdd7"
      },
      "source": [
        "print(arr1 + arr2)\n",
        "print(10*\"-\")\n",
        "print(arr1 * arr2)\n",
        "print(10*\"-\")\n",
        "print(arr1 / arr2)\n",
        "print(10*\"-\")\n",
        "print(np.exp(arr1))\n",
        "print(10*\"-\")\n",
        "print(np.log(np.exp(arr1)))\n",
        "print(10*\"-\")\n",
        "print(np.sqrt(arr1))"
      ],
      "execution_count": 93,
      "outputs": [
        {
          "output_type": "stream",
          "text": [
            "[[0.93923508 1.49885122 0.9550555  0.49500566]\n",
            " [1.06740015 1.22275061 1.19799773 1.32691048]\n",
            " [1.71321116 1.06864942 0.27173224 1.00022605]]\n",
            "----------\n",
            "[[0.20886793 0.54253342 0.09600214 0.03014594]\n",
            " [0.23835981 0.29882957 0.3203228  0.35070049]\n",
            " [0.72381106 0.19814471 0.01812303 0.10626033]]\n",
            "----------\n",
            "[[0.62593679 1.4522945  0.13577028 5.96037049]\n",
            " [2.35536728 0.38141177 0.50662352 2.64199733]\n",
            " [0.79128297 3.4758212  1.31221703 0.13740607]]\n",
            "----------\n",
            "[[1.43559195 2.42940804 1.12093996 1.52789037]\n",
            " [2.1154825  1.40158672 1.49607307 2.61842909]\n",
            " [2.13143499 2.29306396 1.16673824 1.12843738]]\n",
            "----------\n",
            "[[0.36157727 0.88764762 0.11416759 0.42388794]\n",
            " [0.74928292 0.33760497 0.40284372 0.96257455]\n",
            " [0.75679546 0.8298889  0.15421203 0.12083383]]\n",
            "----------\n",
            "[[0.60131296 0.94215053 0.33788694 0.65106677]\n",
            " [0.8656113  0.58103784 0.63469971 0.98110884]\n",
            " [0.86993992 0.91098238 0.39269839 0.3476116 ]]\n"
          ],
          "name": "stdout"
        }
      ]
    },
    {
      "cell_type": "markdown",
      "metadata": {
        "id": "wsMRdQzb3Oes",
        "colab_type": "text"
      },
      "source": [
        "## example of points outside of a circle"
      ]
    },
    {
      "cell_type": "code",
      "metadata": {
        "id": "1drfyQI9aUjL",
        "colab_type": "code",
        "colab": {}
      },
      "source": [
        "ndim = 2\n",
        "npoints = 1000000\n",
        "outside_points = 0"
      ],
      "execution_count": 78,
      "outputs": []
    },
    {
      "cell_type": "code",
      "metadata": {
        "id": "O5vtgrCc3lRI",
        "colab_type": "code",
        "colab": {}
      },
      "source": [
        "points = np.random.rand(npoints, ndim)\n",
        "dfo = np.zeros((npoints, 1))"
      ],
      "execution_count": 79,
      "outputs": []
    },
    {
      "cell_type": "code",
      "metadata": {
        "id": "6LpKXsMX39Ke",
        "colab_type": "code",
        "colab": {
          "base_uri": "https://localhost:8080/",
          "height": 51
        },
        "outputId": "a89d313f-2488-407f-f865-dc7abcd7a1f4"
      },
      "source": [
        "points[0:2,:]"
      ],
      "execution_count": 80,
      "outputs": [
        {
          "output_type": "execute_result",
          "data": {
            "text/plain": [
              "array([[0.71583758, 0.54701165],\n",
              "       [0.70612178, 0.56400189]])"
            ]
          },
          "metadata": {
            "tags": []
          },
          "execution_count": 80
        }
      ]
    },
    {
      "cell_type": "code",
      "metadata": {
        "id": "UXE98MlD4Bmy",
        "colab_type": "code",
        "colab": {
          "base_uri": "https://localhost:8080/",
          "height": 68
        },
        "outputId": "c7c3aa4b-99a2-4698-e06a-14e040a5c750"
      },
      "source": [
        "%%time\n",
        "for i in range(npoints):\n",
        "  for j in range(ndim):\n",
        "    dfo[i] += points[i, j] ** 2\n",
        "  dfo[i] = np.sqrt(dfo[i])\n",
        "  if dfo[i] > 1:\n",
        "    outside_points += 1\n",
        "\n",
        "print('Fraction of points outside is: ', outside_points/npoints)    "
      ],
      "execution_count": 81,
      "outputs": [
        {
          "output_type": "stream",
          "text": [
            "Fraction of points outside is:  0.214274\n",
            "CPU times: user 10.8 s, sys: 13.7 ms, total: 10.8 s\n",
            "Wall time: 10.8 s\n"
          ],
          "name": "stdout"
        }
      ]
    },
    {
      "cell_type": "code",
      "metadata": {
        "id": "-Pf0FWUe40rk",
        "colab_type": "code",
        "colab": {
          "base_uri": "https://localhost:8080/",
          "height": 68
        },
        "outputId": "dfbdf2b7-564d-4afa-8ffe-b4381e62518b"
      },
      "source": [
        "%%time\n",
        "sq_points = points * points\n",
        "dfo = np.sqrt(np.sum(sq_points, axis=1))\n",
        "outside_points = np.sum(dfo > 1)\n",
        "print('Fraction of points outside is: ', outside_points/npoints)   "
      ],
      "execution_count": 83,
      "outputs": [
        {
          "output_type": "stream",
          "text": [
            "Fraction of points outside is:  0.214274\n",
            "CPU times: user 25.5 ms, sys: 5.04 ms, total: 30.5 ms\n",
            "Wall time: 32.2 ms\n"
          ],
          "name": "stdout"
        }
      ]
    },
    {
      "cell_type": "code",
      "metadata": {
        "id": "GQA2H4f3FOQv",
        "colab_type": "code",
        "colab": {
          "base_uri": "https://localhost:8080/",
          "height": 68
        },
        "outputId": "08a5cd31-a850-4350-86d4-2374c1356700"
      },
      "source": [
        "%%time\n",
        "outside_points = np.sum(np.sqrt(np.sum(points * points, axis=1)) > 1)\n",
        "print('Fraction of points outside is: ', outside_points/npoints)  "
      ],
      "execution_count": 84,
      "outputs": [
        {
          "output_type": "stream",
          "text": [
            "Fraction of points outside is:  0.214274\n",
            "CPU times: user 24.8 ms, sys: 0 ns, total: 24.8 ms\n",
            "Wall time: 28.7 ms\n"
          ],
          "name": "stdout"
        }
      ]
    },
    {
      "cell_type": "code",
      "metadata": {
        "id": "Q3QytvRsFfub",
        "colab_type": "code",
        "colab": {
          "base_uri": "https://localhost:8080/",
          "height": 34
        },
        "outputId": "c446019a-3bb9-4b5c-97cd-e5d39c903682"
      },
      "source": [
        "def area_outside_square(npoints, ndim):\n",
        "  points = np.random.rand(npoints, ndim)\n",
        "  outside_points = np.sum(np.sqrt(np.sum(points * points, axis=1)) > 1) / npoints\n",
        "  return outside_points\n",
        "   \n",
        "area_outside_square(1000000, 2)"
      ],
      "execution_count": 87,
      "outputs": [
        {
          "output_type": "execute_result",
          "data": {
            "text/plain": [
              "0.214543"
            ]
          },
          "metadata": {
            "tags": []
          },
          "execution_count": 87
        }
      ]
    },
    {
      "cell_type": "code",
      "metadata": {
        "id": "PTsi5jzAFzdU",
        "colab_type": "code",
        "colab": {
          "base_uri": "https://localhost:8080/",
          "height": 170
        },
        "outputId": "a806fcb8-194a-4778-85dd-e6188155d39c"
      },
      "source": [
        "for i in range(2, 11):\n",
        "  print(i, area_outside_square(1000000, i))"
      ],
      "execution_count": 88,
      "outputs": [
        {
          "output_type": "stream",
          "text": [
            "2 0.214005\n",
            "3 0.476638\n",
            "4 0.691622\n",
            "5 0.835432\n",
            "6 0.918959\n",
            "7 0.963109\n",
            "8 0.98436\n",
            "9 0.993521\n",
            "10 0.997518\n"
          ],
          "name": "stdout"
        }
      ]
    },
    {
      "cell_type": "markdown",
      "metadata": {
        "id": "ZQ53jZ2qVl0W",
        "colab_type": "text"
      },
      "source": [
        "## Broadcasting"
      ]
    },
    {
      "cell_type": "code",
      "metadata": {
        "id": "L3NM9WUpI6mU",
        "colab_type": "code",
        "colab": {
          "base_uri": "https://localhost:8080/",
          "height": 136
        },
        "outputId": "a846a0e6-f65c-4a1c-e945-bb4c0ec58835"
      },
      "source": [
        "arr1 = np.arange(6)\n",
        "print(arr1)\n",
        "print(\"shape: :\", arr1.shape)\n",
        "print('*'*10)\n",
        "# Rearrange arr1 into 2*3 matrix\n",
        "arr1 = arr1.reshape((3, 2))\n",
        "print(arr1)\n",
        "print(\"shape: :\", arr1.shape)"
      ],
      "execution_count": 9,
      "outputs": [
        {
          "output_type": "stream",
          "text": [
            "[0 1 2 3 4 5]\n",
            "shape: : (6,)\n",
            "**********\n",
            "[[0 1]\n",
            " [2 3]\n",
            " [4 5]]\n",
            "shape: : (3, 2)\n"
          ],
          "name": "stdout"
        }
      ]
    },
    {
      "cell_type": "code",
      "metadata": {
        "id": "OYiGpF0Gw_sN",
        "colab_type": "code",
        "colab": {
          "base_uri": "https://localhost:8080/",
          "height": 68
        },
        "outputId": "031460c8-dad3-4cd9-a926-e0157533c5e9"
      },
      "source": [
        "arr2 = np.arange(6).reshape((3, 2))\n",
        "print(arr2)"
      ],
      "execution_count": 19,
      "outputs": [
        {
          "output_type": "stream",
          "text": [
            "[[0 1]\n",
            " [2 3]\n",
            " [4 5]]\n"
          ],
          "name": "stdout"
        }
      ]
    },
    {
      "cell_type": "code",
      "metadata": {
        "id": "7T7V1owWyH96",
        "colab_type": "code",
        "colab": {
          "base_uri": "https://localhost:8080/",
          "height": 68
        },
        "outputId": "f42928f8-69b6-4fbc-93c3-45fb3fd37198"
      },
      "source": [
        "arr1 + arr2"
      ],
      "execution_count": 13,
      "outputs": [
        {
          "output_type": "execute_result",
          "data": {
            "text/plain": [
              "array([[ 0,  2],\n",
              "       [ 4,  6],\n",
              "       [ 8, 10]])"
            ]
          },
          "metadata": {
            "tags": []
          },
          "execution_count": 13
        }
      ]
    },
    {
      "cell_type": "code",
      "metadata": {
        "id": "i9YyjQjOyeCd",
        "colab_type": "code",
        "colab": {
          "base_uri": "https://localhost:8080/",
          "height": 34
        },
        "outputId": "95348ec5-ac88-490c-e444-a77707d26bcb"
      },
      "source": [
        "arr2[0].reshape((1, 2))"
      ],
      "execution_count": 17,
      "outputs": [
        {
          "output_type": "execute_result",
          "data": {
            "text/plain": [
              "array([[0, 1]])"
            ]
          },
          "metadata": {
            "tags": []
          },
          "execution_count": 17
        }
      ]
    },
    {
      "cell_type": "code",
      "metadata": {
        "id": "3csCsniCyf42",
        "colab_type": "code",
        "colab": {
          "base_uri": "https://localhost:8080/",
          "height": 68
        },
        "outputId": "f4368f6a-49c3-4fe6-f71b-8d6104b35feb"
      },
      "source": [
        "arr1 + arr2[0].reshape((1, 2))      # (3, 2) + (1, 2)"
      ],
      "execution_count": 18,
      "outputs": [
        {
          "output_type": "execute_result",
          "data": {
            "text/plain": [
              "array([[0, 2],\n",
              "       [2, 4],\n",
              "       [4, 6]])"
            ]
          },
          "metadata": {
            "tags": []
          },
          "execution_count": 18
        }
      ]
    },
    {
      "cell_type": "code",
      "metadata": {
        "id": "q2cXw4d0zEmg",
        "colab_type": "code",
        "colab": {
          "base_uri": "https://localhost:8080/",
          "height": 68
        },
        "outputId": "60e25a4e-972c-4ae8-f34d-37ff322e4b1d"
      },
      "source": [
        "arr2[:, 0].reshape((3, 1))"
      ],
      "execution_count": 21,
      "outputs": [
        {
          "output_type": "execute_result",
          "data": {
            "text/plain": [
              "array([[0],\n",
              "       [2],\n",
              "       [4]])"
            ]
          },
          "metadata": {
            "tags": []
          },
          "execution_count": 21
        }
      ]
    },
    {
      "cell_type": "code",
      "metadata": {
        "id": "Hzmj3bOPzqn3",
        "colab_type": "code",
        "colab": {
          "base_uri": "https://localhost:8080/",
          "height": 68
        },
        "outputId": "c74f011e-49a9-4662-e3f6-f36ae212ca4a"
      },
      "source": [
        "arr1 + arr2[:, 0].reshape((3, 1))     # (3, 2) + (3, 1)"
      ],
      "execution_count": 22,
      "outputs": [
        {
          "output_type": "execute_result",
          "data": {
            "text/plain": [
              "array([[0, 1],\n",
              "       [4, 5],\n",
              "       [8, 9]])"
            ]
          },
          "metadata": {
            "tags": []
          },
          "execution_count": 22
        }
      ]
    },
    {
      "cell_type": "code",
      "metadata": {
        "id": "427B0FcOz6UE",
        "colab_type": "code",
        "colab": {
          "base_uri": "https://localhost:8080/",
          "height": 68
        },
        "outputId": "8ca30d94-10d6-4dc6-f751-d73acaa0da8f"
      },
      "source": [
        "arr1 + 1     # (3, 2) + (1,)"
      ],
      "execution_count": 23,
      "outputs": [
        {
          "output_type": "execute_result",
          "data": {
            "text/plain": [
              "array([[1, 2],\n",
              "       [3, 4],\n",
              "       [5, 6]])"
            ]
          },
          "metadata": {
            "tags": []
          },
          "execution_count": 23
        }
      ]
    },
    {
      "cell_type": "code",
      "metadata": {
        "id": "HjcLJgl30UXD",
        "colab_type": "code",
        "colab": {
          "base_uri": "https://localhost:8080/",
          "height": 136
        },
        "outputId": "02fbfcc9-a9e5-40eb-f017-96a9e3b05cde"
      },
      "source": [
        "arr1 = np.arange(24).reshape((2, 3, 4))\n",
        "print(arr1)"
      ],
      "execution_count": 25,
      "outputs": [
        {
          "output_type": "stream",
          "text": [
            "[[[ 0  1  2  3]\n",
            "  [ 4  5  6  7]\n",
            "  [ 8  9 10 11]]\n",
            "\n",
            " [[12 13 14 15]\n",
            "  [16 17 18 19]\n",
            "  [20 21 22 23]]]\n"
          ],
          "name": "stdout"
        }
      ]
    },
    {
      "cell_type": "code",
      "metadata": {
        "id": "tAobWkME0khT",
        "colab_type": "code",
        "colab": {}
      },
      "source": [
        "arr2 = np.ones((1, 4))"
      ],
      "execution_count": 26,
      "outputs": []
    },
    {
      "cell_type": "code",
      "metadata": {
        "id": "hlxgLcuz0yQ3",
        "colab_type": "code",
        "colab": {
          "base_uri": "https://localhost:8080/",
          "height": 136
        },
        "outputId": "f3d37a97-1046-477b-a7d1-18fceb7a5042"
      },
      "source": [
        "arr1 + arr2     # (2, 3, 4) + (1, 4)"
      ],
      "execution_count": 27,
      "outputs": [
        {
          "output_type": "execute_result",
          "data": {
            "text/plain": [
              "array([[[ 1.,  2.,  3.,  4.],\n",
              "        [ 5.,  6.,  7.,  8.],\n",
              "        [ 9., 10., 11., 12.]],\n",
              "\n",
              "       [[13., 14., 15., 16.],\n",
              "        [17., 18., 19., 20.],\n",
              "        [21., 22., 23., 24.]]])"
            ]
          },
          "metadata": {
            "tags": []
          },
          "execution_count": 27
        }
      ]
    },
    {
      "cell_type": "code",
      "metadata": {
        "id": "3LlWdAOB0zmo",
        "colab_type": "code",
        "colab": {
          "base_uri": "https://localhost:8080/",
          "height": 34
        },
        "outputId": "f56ad1c4-32ac-4159-fd01-b7f6f75d3f28"
      },
      "source": [
        "arr1 = np.arange(4)\n",
        "arr2 = np.arange(5)\n",
        "\n",
        "print(arr1.shape, arr2.shape)"
      ],
      "execution_count": 28,
      "outputs": [
        {
          "output_type": "stream",
          "text": [
            "(4,) (5,)\n"
          ],
          "name": "stdout"
        }
      ]
    },
    {
      "cell_type": "code",
      "metadata": {
        "id": "sBjAzJRY1STq",
        "colab_type": "code",
        "colab": {
          "base_uri": "https://localhost:8080/",
          "height": 163
        },
        "outputId": "13176134-ff33-4d92-e68c-db84f63ed525"
      },
      "source": [
        "arr1 + arr2  # (4) + (5)"
      ],
      "execution_count": 29,
      "outputs": [
        {
          "output_type": "error",
          "ename": "ValueError",
          "evalue": "ignored",
          "traceback": [
            "\u001b[0;31m---------------------------------------------------------------------------\u001b[0m",
            "\u001b[0;31mValueError\u001b[0m                                Traceback (most recent call last)",
            "\u001b[0;32m<ipython-input-29-d972d21b639e>\u001b[0m in \u001b[0;36m<module>\u001b[0;34m()\u001b[0m\n\u001b[0;32m----> 1\u001b[0;31m \u001b[0marr1\u001b[0m \u001b[0;34m+\u001b[0m \u001b[0marr2\u001b[0m\u001b[0;34m\u001b[0m\u001b[0;34m\u001b[0m\u001b[0m\n\u001b[0m",
            "\u001b[0;31mValueError\u001b[0m: operands could not be broadcast together with shapes (4,) (5,) "
          ]
        }
      ]
    },
    {
      "cell_type": "code",
      "metadata": {
        "id": "L01uB2Zd1Uis",
        "colab_type": "code",
        "colab": {
          "base_uri": "https://localhost:8080/",
          "height": 85
        },
        "outputId": "8484def4-5e60-4fc1-eb2b-4d75c80dadb6"
      },
      "source": [
        "arr1.reshape((4,1)) + arr2     # (4, 1) + (5)"
      ],
      "execution_count": 30,
      "outputs": [
        {
          "output_type": "execute_result",
          "data": {
            "text/plain": [
              "array([[0, 1, 2, 3, 4],\n",
              "       [1, 2, 3, 4, 5],\n",
              "       [2, 3, 4, 5, 6],\n",
              "       [3, 4, 5, 6, 7]])"
            ]
          },
          "metadata": {
            "tags": []
          },
          "execution_count": 30
        }
      ]
    },
    {
      "cell_type": "markdown",
      "metadata": {
        "id": "0TuLuz53eCuQ",
        "colab_type": "text"
      },
      "source": [
        "## File Handling"
      ]
    },
    {
      "cell_type": "code",
      "metadata": {
        "id": "wrpm0rIi1euD",
        "colab_type": "code",
        "colab": {
          "base_uri": "https://localhost:8080/",
          "height": 306
        },
        "outputId": "9b8638ef-02ac-4239-e39a-7e4086d2deb0"
      },
      "source": [
        "planets_small = np.loadtxt(\"planets_small.txt\")"
      ],
      "execution_count": 7,
      "outputs": [
        {
          "output_type": "error",
          "ename": "ValueError",
          "evalue": "ignored",
          "traceback": [
            "\u001b[0;31m---------------------------------------------------------------------------\u001b[0m",
            "\u001b[0;31mValueError\u001b[0m                                Traceback (most recent call last)",
            "\u001b[0;32m<ipython-input-7-6f92f0fddb44>\u001b[0m in \u001b[0;36m<module>\u001b[0;34m()\u001b[0m\n\u001b[0;32m----> 1\u001b[0;31m \u001b[0mplanets_small\u001b[0m \u001b[0;34m=\u001b[0m \u001b[0mnp\u001b[0m\u001b[0;34m.\u001b[0m\u001b[0mloadtxt\u001b[0m\u001b[0;34m(\u001b[0m\u001b[0;34m\"planets_small.txt\"\u001b[0m\u001b[0;34m)\u001b[0m\u001b[0;34m\u001b[0m\u001b[0;34m\u001b[0m\u001b[0m\n\u001b[0m",
            "\u001b[0;32m/usr/local/lib/python3.6/dist-packages/numpy/lib/npyio.py\u001b[0m in \u001b[0;36mloadtxt\u001b[0;34m(fname, dtype, comments, delimiter, converters, skiprows, usecols, unpack, ndmin, encoding, max_rows)\u001b[0m\n\u001b[1;32m   1157\u001b[0m         \u001b[0;31m# converting the data\u001b[0m\u001b[0;34m\u001b[0m\u001b[0;34m\u001b[0m\u001b[0;34m\u001b[0m\u001b[0m\n\u001b[1;32m   1158\u001b[0m         \u001b[0mX\u001b[0m \u001b[0;34m=\u001b[0m \u001b[0;32mNone\u001b[0m\u001b[0;34m\u001b[0m\u001b[0;34m\u001b[0m\u001b[0m\n\u001b[0;32m-> 1159\u001b[0;31m         \u001b[0;32mfor\u001b[0m \u001b[0mx\u001b[0m \u001b[0;32min\u001b[0m \u001b[0mread_data\u001b[0m\u001b[0;34m(\u001b[0m\u001b[0m_loadtxt_chunksize\u001b[0m\u001b[0;34m)\u001b[0m\u001b[0;34m:\u001b[0m\u001b[0;34m\u001b[0m\u001b[0;34m\u001b[0m\u001b[0m\n\u001b[0m\u001b[1;32m   1160\u001b[0m             \u001b[0;32mif\u001b[0m \u001b[0mX\u001b[0m \u001b[0;32mis\u001b[0m \u001b[0;32mNone\u001b[0m\u001b[0;34m:\u001b[0m\u001b[0;34m\u001b[0m\u001b[0;34m\u001b[0m\u001b[0m\n\u001b[1;32m   1161\u001b[0m                 \u001b[0mX\u001b[0m \u001b[0;34m=\u001b[0m \u001b[0mnp\u001b[0m\u001b[0;34m.\u001b[0m\u001b[0marray\u001b[0m\u001b[0;34m(\u001b[0m\u001b[0mx\u001b[0m\u001b[0;34m,\u001b[0m \u001b[0mdtype\u001b[0m\u001b[0;34m)\u001b[0m\u001b[0;34m\u001b[0m\u001b[0;34m\u001b[0m\u001b[0m\n",
            "\u001b[0;32m/usr/local/lib/python3.6/dist-packages/numpy/lib/npyio.py\u001b[0m in \u001b[0;36mread_data\u001b[0;34m(chunk_size)\u001b[0m\n\u001b[1;32m   1085\u001b[0m \u001b[0;34m\u001b[0m\u001b[0m\n\u001b[1;32m   1086\u001b[0m             \u001b[0;31m# Convert each value according to its column and store\u001b[0m\u001b[0;34m\u001b[0m\u001b[0;34m\u001b[0m\u001b[0;34m\u001b[0m\u001b[0m\n\u001b[0;32m-> 1087\u001b[0;31m             \u001b[0mitems\u001b[0m \u001b[0;34m=\u001b[0m \u001b[0;34m[\u001b[0m\u001b[0mconv\u001b[0m\u001b[0;34m(\u001b[0m\u001b[0mval\u001b[0m\u001b[0;34m)\u001b[0m \u001b[0;32mfor\u001b[0m \u001b[0;34m(\u001b[0m\u001b[0mconv\u001b[0m\u001b[0;34m,\u001b[0m \u001b[0mval\u001b[0m\u001b[0;34m)\u001b[0m \u001b[0;32min\u001b[0m \u001b[0mzip\u001b[0m\u001b[0;34m(\u001b[0m\u001b[0mconverters\u001b[0m\u001b[0;34m,\u001b[0m \u001b[0mvals\u001b[0m\u001b[0;34m)\u001b[0m\u001b[0;34m]\u001b[0m\u001b[0;34m\u001b[0m\u001b[0;34m\u001b[0m\u001b[0m\n\u001b[0m\u001b[1;32m   1088\u001b[0m \u001b[0;34m\u001b[0m\u001b[0m\n\u001b[1;32m   1089\u001b[0m             \u001b[0;31m# Then pack it according to the dtype's nesting\u001b[0m\u001b[0;34m\u001b[0m\u001b[0;34m\u001b[0m\u001b[0;34m\u001b[0m\u001b[0m\n",
            "\u001b[0;32m/usr/local/lib/python3.6/dist-packages/numpy/lib/npyio.py\u001b[0m in \u001b[0;36m<listcomp>\u001b[0;34m(.0)\u001b[0m\n\u001b[1;32m   1085\u001b[0m \u001b[0;34m\u001b[0m\u001b[0m\n\u001b[1;32m   1086\u001b[0m             \u001b[0;31m# Convert each value according to its column and store\u001b[0m\u001b[0;34m\u001b[0m\u001b[0;34m\u001b[0m\u001b[0;34m\u001b[0m\u001b[0m\n\u001b[0;32m-> 1087\u001b[0;31m             \u001b[0mitems\u001b[0m \u001b[0;34m=\u001b[0m \u001b[0;34m[\u001b[0m\u001b[0mconv\u001b[0m\u001b[0;34m(\u001b[0m\u001b[0mval\u001b[0m\u001b[0;34m)\u001b[0m \u001b[0;32mfor\u001b[0m \u001b[0;34m(\u001b[0m\u001b[0mconv\u001b[0m\u001b[0;34m,\u001b[0m \u001b[0mval\u001b[0m\u001b[0;34m)\u001b[0m \u001b[0;32min\u001b[0m \u001b[0mzip\u001b[0m\u001b[0;34m(\u001b[0m\u001b[0mconverters\u001b[0m\u001b[0;34m,\u001b[0m \u001b[0mvals\u001b[0m\u001b[0;34m)\u001b[0m\u001b[0;34m]\u001b[0m\u001b[0;34m\u001b[0m\u001b[0;34m\u001b[0m\u001b[0m\n\u001b[0m\u001b[1;32m   1088\u001b[0m \u001b[0;34m\u001b[0m\u001b[0m\n\u001b[1;32m   1089\u001b[0m             \u001b[0;31m# Then pack it according to the dtype's nesting\u001b[0m\u001b[0;34m\u001b[0m\u001b[0;34m\u001b[0m\u001b[0;34m\u001b[0m\u001b[0m\n",
            "\u001b[0;32m/usr/local/lib/python3.6/dist-packages/numpy/lib/npyio.py\u001b[0m in \u001b[0;36mfloatconv\u001b[0;34m(x)\u001b[0m\n\u001b[1;32m    792\u001b[0m         \u001b[0;32mif\u001b[0m \u001b[0;34m'0x'\u001b[0m \u001b[0;32min\u001b[0m \u001b[0mx\u001b[0m\u001b[0;34m:\u001b[0m\u001b[0;34m\u001b[0m\u001b[0;34m\u001b[0m\u001b[0m\n\u001b[1;32m    793\u001b[0m             \u001b[0;32mreturn\u001b[0m \u001b[0mfloat\u001b[0m\u001b[0;34m.\u001b[0m\u001b[0mfromhex\u001b[0m\u001b[0;34m(\u001b[0m\u001b[0mx\u001b[0m\u001b[0;34m)\u001b[0m\u001b[0;34m\u001b[0m\u001b[0;34m\u001b[0m\u001b[0m\n\u001b[0;32m--> 794\u001b[0;31m         \u001b[0;32mreturn\u001b[0m \u001b[0mfloat\u001b[0m\u001b[0;34m(\u001b[0m\u001b[0mx\u001b[0m\u001b[0;34m)\u001b[0m\u001b[0;34m\u001b[0m\u001b[0;34m\u001b[0m\u001b[0m\n\u001b[0m\u001b[1;32m    795\u001b[0m \u001b[0;34m\u001b[0m\u001b[0m\n\u001b[1;32m    796\u001b[0m     \u001b[0mtyp\u001b[0m \u001b[0;34m=\u001b[0m \u001b[0mdtype\u001b[0m\u001b[0;34m.\u001b[0m\u001b[0mtype\u001b[0m\u001b[0;34m\u001b[0m\u001b[0;34m\u001b[0m\u001b[0m\n",
            "\u001b[0;31mValueError\u001b[0m: could not convert string to float: 'MERCURY'"
          ]
        }
      ]
    },
    {
      "cell_type": "code",
      "metadata": {
        "id": "LFh-e1Zw1h1e",
        "colab_type": "code",
        "colab": {
          "base_uri": "https://localhost:8080/",
          "height": 306
        },
        "outputId": "12787396-0eab-4410-a18e-47c00e15b5d6"
      },
      "source": [
        "planets_small = np.loadtxt(\"planets_small.txt\", skiprows=1)"
      ],
      "execution_count": 8,
      "outputs": [
        {
          "output_type": "error",
          "ename": "ValueError",
          "evalue": "ignored",
          "traceback": [
            "\u001b[0;31m---------------------------------------------------------------------------\u001b[0m",
            "\u001b[0;31mValueError\u001b[0m                                Traceback (most recent call last)",
            "\u001b[0;32m<ipython-input-8-0ff3b4620290>\u001b[0m in \u001b[0;36m<module>\u001b[0;34m()\u001b[0m\n\u001b[0;32m----> 1\u001b[0;31m \u001b[0mplanets_small\u001b[0m \u001b[0;34m=\u001b[0m \u001b[0mnp\u001b[0m\u001b[0;34m.\u001b[0m\u001b[0mloadtxt\u001b[0m\u001b[0;34m(\u001b[0m\u001b[0;34m\"planets_small.txt\"\u001b[0m\u001b[0;34m,\u001b[0m \u001b[0mskiprows\u001b[0m\u001b[0;34m=\u001b[0m\u001b[0;36m1\u001b[0m\u001b[0;34m)\u001b[0m\u001b[0;34m\u001b[0m\u001b[0;34m\u001b[0m\u001b[0m\n\u001b[0m",
            "\u001b[0;32m/usr/local/lib/python3.6/dist-packages/numpy/lib/npyio.py\u001b[0m in \u001b[0;36mloadtxt\u001b[0;34m(fname, dtype, comments, delimiter, converters, skiprows, usecols, unpack, ndmin, encoding, max_rows)\u001b[0m\n\u001b[1;32m   1157\u001b[0m         \u001b[0;31m# converting the data\u001b[0m\u001b[0;34m\u001b[0m\u001b[0;34m\u001b[0m\u001b[0;34m\u001b[0m\u001b[0m\n\u001b[1;32m   1158\u001b[0m         \u001b[0mX\u001b[0m \u001b[0;34m=\u001b[0m \u001b[0;32mNone\u001b[0m\u001b[0;34m\u001b[0m\u001b[0;34m\u001b[0m\u001b[0m\n\u001b[0;32m-> 1159\u001b[0;31m         \u001b[0;32mfor\u001b[0m \u001b[0mx\u001b[0m \u001b[0;32min\u001b[0m \u001b[0mread_data\u001b[0m\u001b[0;34m(\u001b[0m\u001b[0m_loadtxt_chunksize\u001b[0m\u001b[0;34m)\u001b[0m\u001b[0;34m:\u001b[0m\u001b[0;34m\u001b[0m\u001b[0;34m\u001b[0m\u001b[0m\n\u001b[0m\u001b[1;32m   1160\u001b[0m             \u001b[0;32mif\u001b[0m \u001b[0mX\u001b[0m \u001b[0;32mis\u001b[0m \u001b[0;32mNone\u001b[0m\u001b[0;34m:\u001b[0m\u001b[0;34m\u001b[0m\u001b[0;34m\u001b[0m\u001b[0m\n\u001b[1;32m   1161\u001b[0m                 \u001b[0mX\u001b[0m \u001b[0;34m=\u001b[0m \u001b[0mnp\u001b[0m\u001b[0;34m.\u001b[0m\u001b[0marray\u001b[0m\u001b[0;34m(\u001b[0m\u001b[0mx\u001b[0m\u001b[0;34m,\u001b[0m \u001b[0mdtype\u001b[0m\u001b[0;34m)\u001b[0m\u001b[0;34m\u001b[0m\u001b[0;34m\u001b[0m\u001b[0m\n",
            "\u001b[0;32m/usr/local/lib/python3.6/dist-packages/numpy/lib/npyio.py\u001b[0m in \u001b[0;36mread_data\u001b[0;34m(chunk_size)\u001b[0m\n\u001b[1;32m   1085\u001b[0m \u001b[0;34m\u001b[0m\u001b[0m\n\u001b[1;32m   1086\u001b[0m             \u001b[0;31m# Convert each value according to its column and store\u001b[0m\u001b[0;34m\u001b[0m\u001b[0;34m\u001b[0m\u001b[0;34m\u001b[0m\u001b[0m\n\u001b[0;32m-> 1087\u001b[0;31m             \u001b[0mitems\u001b[0m \u001b[0;34m=\u001b[0m \u001b[0;34m[\u001b[0m\u001b[0mconv\u001b[0m\u001b[0;34m(\u001b[0m\u001b[0mval\u001b[0m\u001b[0;34m)\u001b[0m \u001b[0;32mfor\u001b[0m \u001b[0;34m(\u001b[0m\u001b[0mconv\u001b[0m\u001b[0;34m,\u001b[0m \u001b[0mval\u001b[0m\u001b[0;34m)\u001b[0m \u001b[0;32min\u001b[0m \u001b[0mzip\u001b[0m\u001b[0;34m(\u001b[0m\u001b[0mconverters\u001b[0m\u001b[0;34m,\u001b[0m \u001b[0mvals\u001b[0m\u001b[0;34m)\u001b[0m\u001b[0;34m]\u001b[0m\u001b[0;34m\u001b[0m\u001b[0;34m\u001b[0m\u001b[0m\n\u001b[0m\u001b[1;32m   1088\u001b[0m \u001b[0;34m\u001b[0m\u001b[0m\n\u001b[1;32m   1089\u001b[0m             \u001b[0;31m# Then pack it according to the dtype's nesting\u001b[0m\u001b[0;34m\u001b[0m\u001b[0;34m\u001b[0m\u001b[0;34m\u001b[0m\u001b[0m\n",
            "\u001b[0;32m/usr/local/lib/python3.6/dist-packages/numpy/lib/npyio.py\u001b[0m in \u001b[0;36m<listcomp>\u001b[0;34m(.0)\u001b[0m\n\u001b[1;32m   1085\u001b[0m \u001b[0;34m\u001b[0m\u001b[0m\n\u001b[1;32m   1086\u001b[0m             \u001b[0;31m# Convert each value according to its column and store\u001b[0m\u001b[0;34m\u001b[0m\u001b[0;34m\u001b[0m\u001b[0;34m\u001b[0m\u001b[0m\n\u001b[0;32m-> 1087\u001b[0;31m             \u001b[0mitems\u001b[0m \u001b[0;34m=\u001b[0m \u001b[0;34m[\u001b[0m\u001b[0mconv\u001b[0m\u001b[0;34m(\u001b[0m\u001b[0mval\u001b[0m\u001b[0;34m)\u001b[0m \u001b[0;32mfor\u001b[0m \u001b[0;34m(\u001b[0m\u001b[0mconv\u001b[0m\u001b[0;34m,\u001b[0m \u001b[0mval\u001b[0m\u001b[0;34m)\u001b[0m \u001b[0;32min\u001b[0m \u001b[0mzip\u001b[0m\u001b[0;34m(\u001b[0m\u001b[0mconverters\u001b[0m\u001b[0;34m,\u001b[0m \u001b[0mvals\u001b[0m\u001b[0;34m)\u001b[0m\u001b[0;34m]\u001b[0m\u001b[0;34m\u001b[0m\u001b[0;34m\u001b[0m\u001b[0m\n\u001b[0m\u001b[1;32m   1088\u001b[0m \u001b[0;34m\u001b[0m\u001b[0m\n\u001b[1;32m   1089\u001b[0m             \u001b[0;31m# Then pack it according to the dtype's nesting\u001b[0m\u001b[0;34m\u001b[0m\u001b[0;34m\u001b[0m\u001b[0;34m\u001b[0m\u001b[0m\n",
            "\u001b[0;32m/usr/local/lib/python3.6/dist-packages/numpy/lib/npyio.py\u001b[0m in \u001b[0;36mfloatconv\u001b[0;34m(x)\u001b[0m\n\u001b[1;32m    792\u001b[0m         \u001b[0;32mif\u001b[0m \u001b[0;34m'0x'\u001b[0m \u001b[0;32min\u001b[0m \u001b[0mx\u001b[0m\u001b[0;34m:\u001b[0m\u001b[0;34m\u001b[0m\u001b[0;34m\u001b[0m\u001b[0m\n\u001b[1;32m    793\u001b[0m             \u001b[0;32mreturn\u001b[0m \u001b[0mfloat\u001b[0m\u001b[0;34m.\u001b[0m\u001b[0mfromhex\u001b[0m\u001b[0;34m(\u001b[0m\u001b[0mx\u001b[0m\u001b[0;34m)\u001b[0m\u001b[0;34m\u001b[0m\u001b[0;34m\u001b[0m\u001b[0m\n\u001b[0;32m--> 794\u001b[0;31m         \u001b[0;32mreturn\u001b[0m \u001b[0mfloat\u001b[0m\u001b[0;34m(\u001b[0m\u001b[0mx\u001b[0m\u001b[0;34m)\u001b[0m\u001b[0;34m\u001b[0m\u001b[0;34m\u001b[0m\u001b[0m\n\u001b[0m\u001b[1;32m    795\u001b[0m \u001b[0;34m\u001b[0m\u001b[0m\n\u001b[1;32m    796\u001b[0m     \u001b[0mtyp\u001b[0m \u001b[0;34m=\u001b[0m \u001b[0mdtype\u001b[0m\u001b[0;34m.\u001b[0m\u001b[0mtype\u001b[0m\u001b[0;34m\u001b[0m\u001b[0;34m\u001b[0m\u001b[0m\n",
            "\u001b[0;31mValueError\u001b[0m: could not convert string to float: 'Mass'"
          ]
        }
      ]
    },
    {
      "cell_type": "code",
      "metadata": {
        "id": "IM2DkwY8eczm",
        "colab_type": "code",
        "colab": {}
      },
      "source": [
        "planets_small = np.loadtxt(\"planets_small.txt\",\n",
        "                           skiprows=1,\n",
        "                           usecols=(1, 2, 3, 4, 5, 6, 7, 8, 9))"
      ],
      "execution_count": 9,
      "outputs": []
    },
    {
      "cell_type": "code",
      "metadata": {
        "id": "K3ynrehTe02l",
        "colab_type": "code",
        "colab": {
          "base_uri": "https://localhost:8080/",
          "height": 119
        },
        "outputId": "d0001718-8c3e-46a7-ac12-eaabe03699d3"
      },
      "source": [
        "planets_small"
      ],
      "execution_count": 10,
      "outputs": [
        {
          "output_type": "execute_result",
          "data": {
            "text/plain": [
              "array([[3.3000e-01, 4.8700e+00, 5.9700e+00, 6.4200e-01, 1.8980e+03,\n",
              "        5.6800e+02, 8.6800e+01, 1.0200e+02, 1.4600e-02],\n",
              "       [5.7900e+01, 1.0820e+02, 1.4960e+02, 2.2790e+02, 7.7860e+02,\n",
              "        1.4335e+03, 2.8725e+03, 4.4951e+03, 5.9064e+03],\n",
              "       [4.2226e+03, 2.8020e+03, 2.4000e+01, 2.4700e+01, 9.9000e+00,\n",
              "        1.0700e+01, 1.7200e+01, 1.6100e+01, 1.5330e+02]])"
            ]
          },
          "metadata": {
            "tags": []
          },
          "execution_count": 10
        }
      ]
    },
    {
      "cell_type": "code",
      "metadata": {
        "id": "-y09pYEie5y-",
        "colab_type": "code",
        "colab": {
          "base_uri": "https://localhost:8080/",
          "height": 51
        },
        "outputId": "526def26-e927-448c-b24a-94caacb9f1d8"
      },
      "source": [
        "print(planets_samll.ndim)\n",
        "print(planets_samll.shape)"
      ],
      "execution_count": 11,
      "outputs": [
        {
          "output_type": "stream",
          "text": [
            "2\n",
            "(3, 9)\n"
          ],
          "name": "stdout"
        }
      ]
    },
    {
      "cell_type": "code",
      "metadata": {
        "id": "9jXHZF7xfMAW",
        "colab_type": "code",
        "colab": {
          "base_uri": "https://localhost:8080/",
          "height": 340
        },
        "outputId": "dc3694cb-21ff-4487-e7d9-1f8e38daeaf8"
      },
      "source": [
        "planets = np.loadtxt(\"planets.txt\",\n",
        "                           skiprows=1,\n",
        "                           usecols=(1, 2, 3, 4, 5, 6, 7, 8, 9))"
      ],
      "execution_count": 12,
      "outputs": [
        {
          "output_type": "error",
          "ename": "ValueError",
          "evalue": "ignored",
          "traceback": [
            "\u001b[0;31m---------------------------------------------------------------------------\u001b[0m",
            "\u001b[0;31mValueError\u001b[0m                                Traceback (most recent call last)",
            "\u001b[0;32m<ipython-input-12-3ad790539963>\u001b[0m in \u001b[0;36m<module>\u001b[0;34m()\u001b[0m\n\u001b[1;32m      1\u001b[0m planets = np.loadtxt(\"planets.txt\",\n\u001b[1;32m      2\u001b[0m                            \u001b[0mskiprows\u001b[0m\u001b[0;34m=\u001b[0m\u001b[0;36m1\u001b[0m\u001b[0;34m,\u001b[0m\u001b[0;34m\u001b[0m\u001b[0;34m\u001b[0m\u001b[0m\n\u001b[0;32m----> 3\u001b[0;31m                            usecols=(1, 2, 3, 4, 5, 6, 7, 8, 9))\n\u001b[0m",
            "\u001b[0;32m/usr/local/lib/python3.6/dist-packages/numpy/lib/npyio.py\u001b[0m in \u001b[0;36mloadtxt\u001b[0;34m(fname, dtype, comments, delimiter, converters, skiprows, usecols, unpack, ndmin, encoding, max_rows)\u001b[0m\n\u001b[1;32m   1157\u001b[0m         \u001b[0;31m# converting the data\u001b[0m\u001b[0;34m\u001b[0m\u001b[0;34m\u001b[0m\u001b[0;34m\u001b[0m\u001b[0m\n\u001b[1;32m   1158\u001b[0m         \u001b[0mX\u001b[0m \u001b[0;34m=\u001b[0m \u001b[0;32mNone\u001b[0m\u001b[0;34m\u001b[0m\u001b[0;34m\u001b[0m\u001b[0m\n\u001b[0;32m-> 1159\u001b[0;31m         \u001b[0;32mfor\u001b[0m \u001b[0mx\u001b[0m \u001b[0;32min\u001b[0m \u001b[0mread_data\u001b[0m\u001b[0;34m(\u001b[0m\u001b[0m_loadtxt_chunksize\u001b[0m\u001b[0;34m)\u001b[0m\u001b[0;34m:\u001b[0m\u001b[0;34m\u001b[0m\u001b[0;34m\u001b[0m\u001b[0m\n\u001b[0m\u001b[1;32m   1160\u001b[0m             \u001b[0;32mif\u001b[0m \u001b[0mX\u001b[0m \u001b[0;32mis\u001b[0m \u001b[0;32mNone\u001b[0m\u001b[0;34m:\u001b[0m\u001b[0;34m\u001b[0m\u001b[0;34m\u001b[0m\u001b[0m\n\u001b[1;32m   1161\u001b[0m                 \u001b[0mX\u001b[0m \u001b[0;34m=\u001b[0m \u001b[0mnp\u001b[0m\u001b[0;34m.\u001b[0m\u001b[0marray\u001b[0m\u001b[0;34m(\u001b[0m\u001b[0mx\u001b[0m\u001b[0;34m,\u001b[0m \u001b[0mdtype\u001b[0m\u001b[0;34m)\u001b[0m\u001b[0;34m\u001b[0m\u001b[0;34m\u001b[0m\u001b[0m\n",
            "\u001b[0;32m/usr/local/lib/python3.6/dist-packages/numpy/lib/npyio.py\u001b[0m in \u001b[0;36mread_data\u001b[0;34m(chunk_size)\u001b[0m\n\u001b[1;32m   1085\u001b[0m \u001b[0;34m\u001b[0m\u001b[0m\n\u001b[1;32m   1086\u001b[0m             \u001b[0;31m# Convert each value according to its column and store\u001b[0m\u001b[0;34m\u001b[0m\u001b[0;34m\u001b[0m\u001b[0;34m\u001b[0m\u001b[0m\n\u001b[0;32m-> 1087\u001b[0;31m             \u001b[0mitems\u001b[0m \u001b[0;34m=\u001b[0m \u001b[0;34m[\u001b[0m\u001b[0mconv\u001b[0m\u001b[0;34m(\u001b[0m\u001b[0mval\u001b[0m\u001b[0;34m)\u001b[0m \u001b[0;32mfor\u001b[0m \u001b[0;34m(\u001b[0m\u001b[0mconv\u001b[0m\u001b[0;34m,\u001b[0m \u001b[0mval\u001b[0m\u001b[0;34m)\u001b[0m \u001b[0;32min\u001b[0m \u001b[0mzip\u001b[0m\u001b[0;34m(\u001b[0m\u001b[0mconverters\u001b[0m\u001b[0;34m,\u001b[0m \u001b[0mvals\u001b[0m\u001b[0;34m)\u001b[0m\u001b[0;34m]\u001b[0m\u001b[0;34m\u001b[0m\u001b[0;34m\u001b[0m\u001b[0m\n\u001b[0m\u001b[1;32m   1088\u001b[0m \u001b[0;34m\u001b[0m\u001b[0m\n\u001b[1;32m   1089\u001b[0m             \u001b[0;31m# Then pack it according to the dtype's nesting\u001b[0m\u001b[0;34m\u001b[0m\u001b[0;34m\u001b[0m\u001b[0;34m\u001b[0m\u001b[0m\n",
            "\u001b[0;32m/usr/local/lib/python3.6/dist-packages/numpy/lib/npyio.py\u001b[0m in \u001b[0;36m<listcomp>\u001b[0;34m(.0)\u001b[0m\n\u001b[1;32m   1085\u001b[0m \u001b[0;34m\u001b[0m\u001b[0m\n\u001b[1;32m   1086\u001b[0m             \u001b[0;31m# Convert each value according to its column and store\u001b[0m\u001b[0;34m\u001b[0m\u001b[0;34m\u001b[0m\u001b[0;34m\u001b[0m\u001b[0m\n\u001b[0;32m-> 1087\u001b[0;31m             \u001b[0mitems\u001b[0m \u001b[0;34m=\u001b[0m \u001b[0;34m[\u001b[0m\u001b[0mconv\u001b[0m\u001b[0;34m(\u001b[0m\u001b[0mval\u001b[0m\u001b[0;34m)\u001b[0m \u001b[0;32mfor\u001b[0m \u001b[0;34m(\u001b[0m\u001b[0mconv\u001b[0m\u001b[0;34m,\u001b[0m \u001b[0mval\u001b[0m\u001b[0;34m)\u001b[0m \u001b[0;32min\u001b[0m \u001b[0mzip\u001b[0m\u001b[0;34m(\u001b[0m\u001b[0mconverters\u001b[0m\u001b[0;34m,\u001b[0m \u001b[0mvals\u001b[0m\u001b[0;34m)\u001b[0m\u001b[0;34m]\u001b[0m\u001b[0;34m\u001b[0m\u001b[0;34m\u001b[0m\u001b[0m\n\u001b[0m\u001b[1;32m   1088\u001b[0m \u001b[0;34m\u001b[0m\u001b[0m\n\u001b[1;32m   1089\u001b[0m             \u001b[0;31m# Then pack it according to the dtype's nesting\u001b[0m\u001b[0;34m\u001b[0m\u001b[0;34m\u001b[0m\u001b[0;34m\u001b[0m\u001b[0m\n",
            "\u001b[0;32m/usr/local/lib/python3.6/dist-packages/numpy/lib/npyio.py\u001b[0m in \u001b[0;36mfloatconv\u001b[0;34m(x)\u001b[0m\n\u001b[1;32m    792\u001b[0m         \u001b[0;32mif\u001b[0m \u001b[0;34m'0x'\u001b[0m \u001b[0;32min\u001b[0m \u001b[0mx\u001b[0m\u001b[0;34m:\u001b[0m\u001b[0;34m\u001b[0m\u001b[0;34m\u001b[0m\u001b[0m\n\u001b[1;32m    793\u001b[0m             \u001b[0;32mreturn\u001b[0m \u001b[0mfloat\u001b[0m\u001b[0;34m.\u001b[0m\u001b[0mfromhex\u001b[0m\u001b[0;34m(\u001b[0m\u001b[0mx\u001b[0m\u001b[0;34m)\u001b[0m\u001b[0;34m\u001b[0m\u001b[0;34m\u001b[0m\u001b[0m\n\u001b[0;32m--> 794\u001b[0;31m         \u001b[0;32mreturn\u001b[0m \u001b[0mfloat\u001b[0m\u001b[0;34m(\u001b[0m\u001b[0mx\u001b[0m\u001b[0;34m)\u001b[0m\u001b[0;34m\u001b[0m\u001b[0;34m\u001b[0m\u001b[0m\n\u001b[0m\u001b[1;32m    795\u001b[0m \u001b[0;34m\u001b[0m\u001b[0m\n\u001b[1;32m    796\u001b[0m     \u001b[0mtyp\u001b[0m \u001b[0;34m=\u001b[0m \u001b[0mdtype\u001b[0m\u001b[0;34m.\u001b[0m\u001b[0mtype\u001b[0m\u001b[0;34m\u001b[0m\u001b[0;34m\u001b[0m\u001b[0m\n",
            "\u001b[0;31mValueError\u001b[0m: could not convert string to float: 'Unknown'"
          ]
        }
      ]
    },
    {
      "cell_type": "code",
      "metadata": {
        "id": "LjSBig6MfpP2",
        "colab_type": "code",
        "colab": {}
      },
      "source": [
        "planets = np.genfromtxt(\"planets.txt\",\n",
        "                           skip_header=1,\n",
        "                           usecols=(1, 2, 3, 4, 5, 6, 7, 8, 9))"
      ],
      "execution_count": 13,
      "outputs": []
    },
    {
      "cell_type": "code",
      "metadata": {
        "id": "kVpfQkrJf17C",
        "colab_type": "code",
        "colab": {
          "base_uri": "https://localhost:8080/",
          "height": 1000
        },
        "outputId": "8466714f-e60b-40fe-8f9b-8c7ab5f26d8d"
      },
      "source": [
        "planets"
      ],
      "execution_count": 14,
      "outputs": [
        {
          "output_type": "execute_result",
          "data": {
            "text/plain": [
              "array([[ 3.30000e-01,  4.87000e+00,  5.97000e+00,  7.30000e-02,\n",
              "         6.42000e-01,  1.89800e+03,  5.68000e+02,  8.68000e+01,\n",
              "         1.02000e+02],\n",
              "       [ 4.87900e+03,  1.21040e+04,  1.27560e+04,  3.47500e+03,\n",
              "         6.79200e+03,  1.42984e+05,  1.20536e+05,  5.11180e+04,\n",
              "         4.95280e+04],\n",
              "       [ 5.42700e+03,  5.24300e+03,  5.51400e+03,  3.34000e+03,\n",
              "         3.93300e+03,  1.32600e+03,  6.87000e+02,  1.27100e+03,\n",
              "         1.63800e+03],\n",
              "       [ 3.70000e+00,  8.90000e+00,  9.80000e+00,  1.60000e+00,\n",
              "         3.70000e+00,  2.31000e+01,  9.00000e+00,  8.70000e+00,\n",
              "         1.10000e+01],\n",
              "       [ 4.30000e+00,  1.04000e+01,  1.12000e+01,  2.40000e+00,\n",
              "         5.00000e+00,  5.95000e+01,  3.55000e+01,  2.13000e+01,\n",
              "         2.35000e+01],\n",
              "       [ 1.40760e+03, -5.83250e+03,  2.39000e+01,  6.55700e+02,\n",
              "         2.46000e+01,  9.90000e+00,  1.07000e+01, -1.72000e+01,\n",
              "         1.61000e+01],\n",
              "       [ 4.22260e+03,  2.80200e+03,  2.40000e+01,  7.08700e+02,\n",
              "         2.47000e+01,  9.90000e+00,  1.07000e+01,  1.72000e+01,\n",
              "         1.61000e+01],\n",
              "       [ 5.79000e+01,  1.08200e+02,  1.49600e+02,  3.84000e-01,\n",
              "         2.27900e+02,  7.78600e+02,  1.43350e+03,  2.87250e+03,\n",
              "         4.49510e+03],\n",
              "       [ 4.60000e+01,  1.07500e+02,  1.47100e+02,  3.63000e-01,\n",
              "         2.06600e+02,  7.40500e+02,  1.35260e+03,  2.74130e+03,\n",
              "         4.44450e+03],\n",
              "       [ 6.98000e+01,  1.08900e+02,  1.52100e+02,  4.06000e-01,\n",
              "         2.49200e+02,  8.16600e+02,  1.51450e+03,  3.00360e+03,\n",
              "         4.54570e+03],\n",
              "       [ 8.80000e+01,  2.24700e+02,  3.65200e+02,  2.73000e+01,\n",
              "         6.87000e+02,  4.33100e+03,  1.07470e+04,  3.05890e+04,\n",
              "         5.98000e+04],\n",
              "       [ 4.74000e+01,  3.50000e+01,  2.98000e+01,  1.00000e+00,\n",
              "         2.41000e+01,  1.31000e+01,  9.70000e+00,  6.80000e+00,\n",
              "         5.40000e+00],\n",
              "       [ 7.00000e+00,  3.40000e+00,  0.00000e+00,  5.10000e+00,\n",
              "         1.90000e+00,  1.30000e+00,  2.50000e+00,  8.00000e-01,\n",
              "         1.80000e+00],\n",
              "       [ 2.05000e-01,  7.00000e-03,  1.70000e-02,  5.50000e-02,\n",
              "         9.40000e-02,  4.90000e-02,  5.70000e-02,  4.60000e-02,\n",
              "         1.10000e-02],\n",
              "       [ 3.40000e-02,  1.77400e+02,  2.34000e+01,  6.70000e+00,\n",
              "         2.52000e+01,  3.10000e+00,  2.67000e+01,  9.78000e+01,\n",
              "         2.83000e+01],\n",
              "       [ 1.67000e+02,  4.64000e+02,  1.50000e+01, -2.00000e+01,\n",
              "        -6.50000e+01, -1.10000e+02, -1.40000e+02, -1.95000e+02,\n",
              "        -2.00000e+02],\n",
              "       [ 0.00000e+00,  9.20000e+01,  1.00000e+00,  0.00000e+00,\n",
              "         1.00000e-02,          nan,          nan,          nan,\n",
              "                 nan],\n",
              "       [ 0.00000e+00,  0.00000e+00,  1.00000e+00,  0.00000e+00,\n",
              "         2.00000e+00,  7.90000e+01,  8.20000e+01,  2.70000e+01,\n",
              "         1.40000e+01],\n",
              "       [ 0.00000e+00,  0.00000e+00,  0.00000e+00,  0.00000e+00,\n",
              "         0.00000e+00,  1.00000e+00,  1.00000e+00,  1.00000e+00,\n",
              "         1.00000e+00],\n",
              "       [ 1.00000e+00,  0.00000e+00,  1.00000e+00,  0.00000e+00,\n",
              "         0.00000e+00,  1.00000e+00,  1.00000e+00,  1.00000e+00,\n",
              "         1.00000e+00]])"
            ]
          },
          "metadata": {
            "tags": []
          },
          "execution_count": 14
        }
      ]
    },
    {
      "cell_type": "code",
      "metadata": {
        "id": "IJL0EK84f4c7",
        "colab_type": "code",
        "colab": {
          "base_uri": "https://localhost:8080/",
          "height": 34
        },
        "outputId": "9d6229f1-e868-446e-e297-a18e668ada2c"
      },
      "source": [
        "print(planets.shape)"
      ],
      "execution_count": 15,
      "outputs": [
        {
          "output_type": "stream",
          "text": [
            "(20, 9)\n"
          ],
          "name": "stdout"
        }
      ]
    },
    {
      "cell_type": "code",
      "metadata": {
        "id": "-5uJTQRUgDd4",
        "colab_type": "code",
        "colab": {
          "base_uri": "https://localhost:8080/",
          "height": 357
        },
        "outputId": "f8dd1ad0-3ce0-4cde-cb6c-6ad3ef94a33f"
      },
      "source": [
        "np.isnan(planets)"
      ],
      "execution_count": 16,
      "outputs": [
        {
          "output_type": "execute_result",
          "data": {
            "text/plain": [
              "array([[False, False, False, False, False, False, False, False, False],\n",
              "       [False, False, False, False, False, False, False, False, False],\n",
              "       [False, False, False, False, False, False, False, False, False],\n",
              "       [False, False, False, False, False, False, False, False, False],\n",
              "       [False, False, False, False, False, False, False, False, False],\n",
              "       [False, False, False, False, False, False, False, False, False],\n",
              "       [False, False, False, False, False, False, False, False, False],\n",
              "       [False, False, False, False, False, False, False, False, False],\n",
              "       [False, False, False, False, False, False, False, False, False],\n",
              "       [False, False, False, False, False, False, False, False, False],\n",
              "       [False, False, False, False, False, False, False, False, False],\n",
              "       [False, False, False, False, False, False, False, False, False],\n",
              "       [False, False, False, False, False, False, False, False, False],\n",
              "       [False, False, False, False, False, False, False, False, False],\n",
              "       [False, False, False, False, False, False, False, False, False],\n",
              "       [False, False, False, False, False, False, False, False, False],\n",
              "       [False, False, False, False, False,  True,  True,  True,  True],\n",
              "       [False, False, False, False, False, False, False, False, False],\n",
              "       [False, False, False, False, False, False, False, False, False],\n",
              "       [False, False, False, False, False, False, False, False, False]])"
            ]
          },
          "metadata": {
            "tags": []
          },
          "execution_count": 16
        }
      ]
    },
    {
      "cell_type": "code",
      "metadata": {
        "id": "_2JQsTjkgMUl",
        "colab_type": "code",
        "colab": {}
      },
      "source": [
        "planets_new = np.nan_to_num(planets, nan=-1)"
      ],
      "execution_count": 17,
      "outputs": []
    },
    {
      "cell_type": "code",
      "metadata": {
        "id": "oYRDH0QaglEm",
        "colab_type": "code",
        "colab": {
          "base_uri": "https://localhost:8080/",
          "height": 1000
        },
        "outputId": "7ce9d23b-ceea-4c15-a76a-716f6a4fe94e"
      },
      "source": [
        "planets_new"
      ],
      "execution_count": 18,
      "outputs": [
        {
          "output_type": "execute_result",
          "data": {
            "text/plain": [
              "array([[ 3.30000e-01,  4.87000e+00,  5.97000e+00,  7.30000e-02,\n",
              "         6.42000e-01,  1.89800e+03,  5.68000e+02,  8.68000e+01,\n",
              "         1.02000e+02],\n",
              "       [ 4.87900e+03,  1.21040e+04,  1.27560e+04,  3.47500e+03,\n",
              "         6.79200e+03,  1.42984e+05,  1.20536e+05,  5.11180e+04,\n",
              "         4.95280e+04],\n",
              "       [ 5.42700e+03,  5.24300e+03,  5.51400e+03,  3.34000e+03,\n",
              "         3.93300e+03,  1.32600e+03,  6.87000e+02,  1.27100e+03,\n",
              "         1.63800e+03],\n",
              "       [ 3.70000e+00,  8.90000e+00,  9.80000e+00,  1.60000e+00,\n",
              "         3.70000e+00,  2.31000e+01,  9.00000e+00,  8.70000e+00,\n",
              "         1.10000e+01],\n",
              "       [ 4.30000e+00,  1.04000e+01,  1.12000e+01,  2.40000e+00,\n",
              "         5.00000e+00,  5.95000e+01,  3.55000e+01,  2.13000e+01,\n",
              "         2.35000e+01],\n",
              "       [ 1.40760e+03, -5.83250e+03,  2.39000e+01,  6.55700e+02,\n",
              "         2.46000e+01,  9.90000e+00,  1.07000e+01, -1.72000e+01,\n",
              "         1.61000e+01],\n",
              "       [ 4.22260e+03,  2.80200e+03,  2.40000e+01,  7.08700e+02,\n",
              "         2.47000e+01,  9.90000e+00,  1.07000e+01,  1.72000e+01,\n",
              "         1.61000e+01],\n",
              "       [ 5.79000e+01,  1.08200e+02,  1.49600e+02,  3.84000e-01,\n",
              "         2.27900e+02,  7.78600e+02,  1.43350e+03,  2.87250e+03,\n",
              "         4.49510e+03],\n",
              "       [ 4.60000e+01,  1.07500e+02,  1.47100e+02,  3.63000e-01,\n",
              "         2.06600e+02,  7.40500e+02,  1.35260e+03,  2.74130e+03,\n",
              "         4.44450e+03],\n",
              "       [ 6.98000e+01,  1.08900e+02,  1.52100e+02,  4.06000e-01,\n",
              "         2.49200e+02,  8.16600e+02,  1.51450e+03,  3.00360e+03,\n",
              "         4.54570e+03],\n",
              "       [ 8.80000e+01,  2.24700e+02,  3.65200e+02,  2.73000e+01,\n",
              "         6.87000e+02,  4.33100e+03,  1.07470e+04,  3.05890e+04,\n",
              "         5.98000e+04],\n",
              "       [ 4.74000e+01,  3.50000e+01,  2.98000e+01,  1.00000e+00,\n",
              "         2.41000e+01,  1.31000e+01,  9.70000e+00,  6.80000e+00,\n",
              "         5.40000e+00],\n",
              "       [ 7.00000e+00,  3.40000e+00,  0.00000e+00,  5.10000e+00,\n",
              "         1.90000e+00,  1.30000e+00,  2.50000e+00,  8.00000e-01,\n",
              "         1.80000e+00],\n",
              "       [ 2.05000e-01,  7.00000e-03,  1.70000e-02,  5.50000e-02,\n",
              "         9.40000e-02,  4.90000e-02,  5.70000e-02,  4.60000e-02,\n",
              "         1.10000e-02],\n",
              "       [ 3.40000e-02,  1.77400e+02,  2.34000e+01,  6.70000e+00,\n",
              "         2.52000e+01,  3.10000e+00,  2.67000e+01,  9.78000e+01,\n",
              "         2.83000e+01],\n",
              "       [ 1.67000e+02,  4.64000e+02,  1.50000e+01, -2.00000e+01,\n",
              "        -6.50000e+01, -1.10000e+02, -1.40000e+02, -1.95000e+02,\n",
              "        -2.00000e+02],\n",
              "       [ 0.00000e+00,  9.20000e+01,  1.00000e+00,  0.00000e+00,\n",
              "         1.00000e-02, -1.00000e+00, -1.00000e+00, -1.00000e+00,\n",
              "        -1.00000e+00],\n",
              "       [ 0.00000e+00,  0.00000e+00,  1.00000e+00,  0.00000e+00,\n",
              "         2.00000e+00,  7.90000e+01,  8.20000e+01,  2.70000e+01,\n",
              "         1.40000e+01],\n",
              "       [ 0.00000e+00,  0.00000e+00,  0.00000e+00,  0.00000e+00,\n",
              "         0.00000e+00,  1.00000e+00,  1.00000e+00,  1.00000e+00,\n",
              "         1.00000e+00],\n",
              "       [ 1.00000e+00,  0.00000e+00,  1.00000e+00,  0.00000e+00,\n",
              "         0.00000e+00,  1.00000e+00,  1.00000e+00,  1.00000e+00,\n",
              "         1.00000e+00]])"
            ]
          },
          "metadata": {
            "tags": []
          },
          "execution_count": 18
        }
      ]
    },
    {
      "cell_type": "code",
      "metadata": {
        "id": "lpTHVI4Gg5fM",
        "colab_type": "code",
        "colab": {}
      },
      "source": [
        "np.savetxt('planets_new.txt', planets_new, delimiter=',')"
      ],
      "execution_count": 19,
      "outputs": []
    },
    {
      "cell_type": "code",
      "metadata": {
        "id": "YpQFrRJDhGU4",
        "colab_type": "code",
        "colab": {}
      },
      "source": [
        "np.save('planets_new', planets_new)"
      ],
      "execution_count": 20,
      "outputs": []
    },
    {
      "cell_type": "code",
      "metadata": {
        "id": "k-IlkFpkhapJ",
        "colab_type": "code",
        "colab": {
          "base_uri": "https://localhost:8080/",
          "height": 119
        },
        "outputId": "66103848-0555-4336-8450-bbdb8746c6d5"
      },
      "source": [
        "!ls -lh"
      ],
      "execution_count": 22,
      "outputs": [
        {
          "output_type": "stream",
          "text": [
            "total 24K\n",
            "-rw-r--r-- 1 root root 1.6K Sep 14 07:30 planets_new.npy\n",
            "-rw-r--r-- 1 root root 4.5K Sep 14 07:29 planets_new.txt\n",
            "-rw-r--r-- 1 root root  254 Sep 14 07:14 planets_small.txt\n",
            "-rw-r--r-- 1 root root 1.5K Sep 14 07:14 planets.txt\n",
            "drwxr-xr-x 1 root root 4.0K Aug 27 16:39 sample_data\n"
          ],
          "name": "stdout"
        }
      ]
    },
    {
      "cell_type": "code",
      "metadata": {
        "id": "hDM3JS6eiAv8",
        "colab_type": "code",
        "colab": {}
      },
      "source": [
        "arr1 = np.random.rand(1000, 10)\n",
        "arr2 = np.random.rand(2000, 5)\n",
        "arr3 = np.random.rand(20, 10000)"
      ],
      "execution_count": 23,
      "outputs": []
    },
    {
      "cell_type": "code",
      "metadata": {
        "id": "-ZjIgyNjirPR",
        "colab_type": "code",
        "colab": {}
      },
      "source": [
        "np.savez(\"many_arrs\", arr1, arr2, arr3)"
      ],
      "execution_count": 24,
      "outputs": []
    },
    {
      "cell_type": "code",
      "metadata": {
        "id": "ZccJN_tIkFDj",
        "colab_type": "code",
        "colab": {
          "base_uri": "https://localhost:8080/",
          "height": 136
        },
        "outputId": "0243f848-2c24-4bce-cafb-e3ad4a72669b"
      },
      "source": [
        "!ls -lh"
      ],
      "execution_count": 33,
      "outputs": [
        {
          "output_type": "stream",
          "text": [
            "total 1.8M\n",
            "-rw-r--r-- 1 root root 1.7M Sep 14 07:36 many_arrs.npz\n",
            "-rw-r--r-- 1 root root 1.6K Sep 14 07:30 planets_new.npy\n",
            "-rw-r--r-- 1 root root 4.5K Sep 14 07:29 planets_new.txt\n",
            "-rw-r--r-- 1 root root  254 Sep 14 07:14 planets_small.txt\n",
            "-rw-r--r-- 1 root root 1.5K Sep 14 07:14 planets.txt\n",
            "drwxr-xr-x 1 root root 4.0K Aug 27 16:39 sample_data\n"
          ],
          "name": "stdout"
        }
      ]
    },
    {
      "cell_type": "code",
      "metadata": {
        "id": "GcLDgoEvi2ko",
        "colab_type": "code",
        "colab": {}
      },
      "source": [
        "arrs = np.load('many_arrs.npz')"
      ],
      "execution_count": 25,
      "outputs": []
    },
    {
      "cell_type": "code",
      "metadata": {
        "id": "zHsEX4a2jG6m",
        "colab_type": "code",
        "colab": {
          "base_uri": "https://localhost:8080/",
          "height": 34
        },
        "outputId": "da33f2b9-d85a-4723-bda0-9636ba20a245"
      },
      "source": [
        "type(arrs)"
      ],
      "execution_count": 26,
      "outputs": [
        {
          "output_type": "execute_result",
          "data": {
            "text/plain": [
              "numpy.lib.npyio.NpzFile"
            ]
          },
          "metadata": {
            "tags": []
          },
          "execution_count": 26
        }
      ]
    },
    {
      "cell_type": "code",
      "metadata": {
        "id": "cccPzrPXjJxv",
        "colab_type": "code",
        "colab": {
          "base_uri": "https://localhost:8080/",
          "height": 34
        },
        "outputId": "a35e98ac-8009-4928-efef-572e60812654"
      },
      "source": [
        "arrs.files"
      ],
      "execution_count": 27,
      "outputs": [
        {
          "output_type": "execute_result",
          "data": {
            "text/plain": [
              "['arr_0', 'arr_1', 'arr_2']"
            ]
          },
          "metadata": {
            "tags": []
          },
          "execution_count": 27
        }
      ]
    },
    {
      "cell_type": "code",
      "metadata": {
        "id": "EtVX7t1mjL3N",
        "colab_type": "code",
        "colab": {
          "base_uri": "https://localhost:8080/",
          "height": 238
        },
        "outputId": "38e0591a-7e2e-498f-8d25-d5e80af99a63"
      },
      "source": [
        "arrs['arr_0']"
      ],
      "execution_count": 30,
      "outputs": [
        {
          "output_type": "execute_result",
          "data": {
            "text/plain": [
              "array([[0.6001878 , 0.15407126, 0.62480416, ..., 0.6638357 , 0.20630952,\n",
              "        0.64575668],\n",
              "       [0.79853725, 0.73532359, 0.08389687, ..., 0.20147766, 0.33732668,\n",
              "        0.23227029],\n",
              "       [0.33400328, 0.54010334, 0.11302655, ..., 0.58842882, 0.66767403,\n",
              "        0.37146185],\n",
              "       ...,\n",
              "       [0.30717726, 0.89343261, 0.972147  , ..., 0.01136805, 0.74560646,\n",
              "        0.83406113],\n",
              "       [0.78570434, 0.77458509, 0.8308329 , ..., 0.43761671, 0.26204134,\n",
              "        0.85086319],\n",
              "       [0.48197353, 0.91697518, 0.86987418, ..., 0.73353933, 0.19899185,\n",
              "        0.2438503 ]])"
            ]
          },
          "metadata": {
            "tags": []
          },
          "execution_count": 30
        }
      ]
    },
    {
      "cell_type": "code",
      "metadata": {
        "id": "BlUffdUCjQLQ",
        "colab_type": "code",
        "colab": {
          "base_uri": "https://localhost:8080/",
          "height": 34
        },
        "outputId": "955e452b-6fcd-4751-cfe8-a498ffe8d3d1"
      },
      "source": [
        "arrs['arr_0'].shape"
      ],
      "execution_count": 32,
      "outputs": [
        {
          "output_type": "execute_result",
          "data": {
            "text/plain": [
              "(1000, 10)"
            ]
          },
          "metadata": {
            "tags": []
          },
          "execution_count": 32
        }
      ]
    },
    {
      "cell_type": "code",
      "metadata": {
        "id": "J8OHmZTajavh",
        "colab_type": "code",
        "colab": {}
      },
      "source": [
        "np.savez_compressed(\"many_arrs_compressed\", arr1, arr2, arr3)"
      ],
      "execution_count": 34,
      "outputs": []
    },
    {
      "cell_type": "code",
      "metadata": {
        "id": "YNOawNIYkNSt",
        "colab_type": "code",
        "colab": {
          "base_uri": "https://localhost:8080/",
          "height": 153
        },
        "outputId": "6094c32d-b6fd-4365-b3b5-4042a780edc9"
      },
      "source": [
        "!ls -lh"
      ],
      "execution_count": 35,
      "outputs": [
        {
          "output_type": "stream",
          "text": [
            "total 3.3M\n",
            "-rw-r--r-- 1 root root 1.6M Sep 14 07:42 many_arrs_compressed.npz\n",
            "-rw-r--r-- 1 root root 1.7M Sep 14 07:36 many_arrs.npz\n",
            "-rw-r--r-- 1 root root 1.6K Sep 14 07:30 planets_new.npy\n",
            "-rw-r--r-- 1 root root 4.5K Sep 14 07:29 planets_new.txt\n",
            "-rw-r--r-- 1 root root  254 Sep 14 07:14 planets_small.txt\n",
            "-rw-r--r-- 1 root root 1.5K Sep 14 07:14 planets.txt\n",
            "drwxr-xr-x 1 root root 4.0K Aug 27 16:39 sample_data\n"
          ],
          "name": "stdout"
        }
      ]
    },
    {
      "cell_type": "code",
      "metadata": {
        "id": "rcD2SOhckOyv",
        "colab_type": "code",
        "colab": {}
      },
      "source": [
        "arr1 = np.zeros((10000, 10000))"
      ],
      "execution_count": 36,
      "outputs": []
    },
    {
      "cell_type": "code",
      "metadata": {
        "id": "DijegFlbkZWB",
        "colab_type": "code",
        "colab": {}
      },
      "source": [
        "np.savez(\"zeros\", arr1)"
      ],
      "execution_count": 37,
      "outputs": []
    },
    {
      "cell_type": "code",
      "metadata": {
        "id": "GrwOGyXskfGp",
        "colab_type": "code",
        "colab": {}
      },
      "source": [
        "np.savez_compressed(\"zeros_copressed\", arr1)"
      ],
      "execution_count": 38,
      "outputs": []
    },
    {
      "cell_type": "code",
      "metadata": {
        "id": "UYvqkGUnklJJ",
        "colab_type": "code",
        "colab": {
          "base_uri": "https://localhost:8080/",
          "height": 187
        },
        "outputId": "8c688eb9-7524-41a1-b94a-bd87c8d837e9"
      },
      "source": [
        "!ls -lh"
      ],
      "execution_count": 39,
      "outputs": [
        {
          "output_type": "stream",
          "text": [
            "total 767M\n",
            "-rw-r--r-- 1 root root 1.6M Sep 14 07:42 many_arrs_compressed.npz\n",
            "-rw-r--r-- 1 root root 1.7M Sep 14 07:36 many_arrs.npz\n",
            "-rw-r--r-- 1 root root 1.6K Sep 14 07:30 planets_new.npy\n",
            "-rw-r--r-- 1 root root 4.5K Sep 14 07:29 planets_new.txt\n",
            "-rw-r--r-- 1 root root  254 Sep 14 07:14 planets_small.txt\n",
            "-rw-r--r-- 1 root root 1.5K Sep 14 07:14 planets.txt\n",
            "drwxr-xr-x 1 root root 4.0K Aug 27 16:39 sample_data\n",
            "-rw-r--r-- 1 root root 760K Sep 14 07:44 zeros_copressed.npz\n",
            "-rw-r--r-- 1 root root 763M Sep 14 07:43 zeros.npz\n"
          ],
          "name": "stdout"
        }
      ]
    },
    {
      "cell_type": "markdown",
      "metadata": {
        "id": "eR0zrR4-CSXP",
        "colab_type": "text"
      },
      "source": [
        "# Stats with NumPy\n"
      ]
    },
    {
      "cell_type": "code",
      "metadata": {
        "id": "hVTIYxvdMTXR",
        "colab_type": "code",
        "colab": {
          "base_uri": "https://localhost:8080/",
          "height": 136
        },
        "outputId": "8e1c5467-e669-43e9-df4b-6e9a90e962cb"
      },
      "source": [
        "arr = np.random.randn(10000000,)      # Draws numbers from normal distribution\n",
        "print(\"Minimum value: \", np.amin(arr))        \n",
        "print(\"Maximum value: \", np.amax(arr))        \n",
        "print(\"Mean value: \", np.mean(arr))           # mean will be 0 because of normal distribution\n",
        "print(\"variance value: \", np.var(arr))        # variance and std will be 1\n",
        "print(\"std value: \", np.std(arr)) \n",
        "print(\"Median value: \", np.median(arr)) \n",
        "print(\"percentile value: \", np.percentile(arr, 50)) "
      ],
      "execution_count": 41,
      "outputs": [
        {
          "output_type": "stream",
          "text": [
            "Minimum value:  -5.225238254431168\n",
            "Maximum value:  5.2863398097461225\n",
            "Mean value:  0.0002030726905131512\n",
            "variance value:  1.0004477829224923\n",
            "std value:  1.0002238664031629\n",
            "Median value:  -1.3952747006648546e-05\n",
            "percentile value:  -1.3952747006648546e-05\n"
          ],
          "name": "stdout"
        }
      ]
    },
    {
      "cell_type": "code",
      "metadata": {
        "id": "tLx0znTokmxu",
        "colab_type": "code",
        "colab": {}
      },
      "source": [
        "arr = np.random.rand(10000000,)      # Draws numbers between 0 and 1"
      ],
      "execution_count": 18,
      "outputs": []
    },
    {
      "cell_type": "code",
      "metadata": {
        "id": "EziKqpPbCq6B",
        "colab_type": "code",
        "colab": {
          "base_uri": "https://localhost:8080/",
          "height": 136
        },
        "outputId": "17df2e44-9d68-4656-86f0-1be6570e2119"
      },
      "source": [
        "print(\"Minimum value: \", np.amin(arr))        # amin will be close to 0 because numbers are chosen between 0 and 1\n",
        "print(\"Maximum value: \", np.amax(arr))        # amax will be close t0 1\n",
        "print(\"Mean value: \", np.mean(arr)) \n",
        "print(\"variance value: \", np.var(arr)) \n",
        "print(\"std value: \", np.std(arr)) \n",
        "print(\"Median value: \", np.median(arr)) \n",
        "print(\"percentile value: \", np.percentile(arr, 50)) "
      ],
      "execution_count": 15,
      "outputs": [
        {
          "output_type": "stream",
          "text": [
            "Minimum value:  2.1467187263368714e-06\n",
            "Maximum value:  0.9999975188536331\n",
            "Mean value:  0.49947000788140394\n",
            "variance value:  0.08311069757216359\n",
            "std value:  0.2882892602442269\n",
            "Median value:  0.4979015621070905\n",
            "percentile value:  0.4979015621070905\n"
          ],
          "name": "stdout"
        }
      ]
    },
    {
      "cell_type": "code",
      "metadata": {
        "id": "A9TblRchFS1t",
        "colab_type": "code",
        "colab": {
          "base_uri": "https://localhost:8080/",
          "height": 68
        },
        "outputId": "f733acdb-3bf8-4ac9-8d28-eacd7e815929"
      },
      "source": [
        "%%time\n",
        "iqr = np.percentile(arr, 75) - np.percentile(arr, 25)\n",
        "print(\"IQR: \", iqr)"
      ],
      "execution_count": 19,
      "outputs": [
        {
          "output_type": "stream",
          "text": [
            "IQR:  0.5001372303179574\n",
            "CPU times: user 284 ms, sys: 41.4 ms, total: 325 ms\n",
            "Wall time: 327 ms\n"
          ],
          "name": "stdout"
        }
      ]
    },
    {
      "cell_type": "code",
      "metadata": {
        "id": "L7RrERqTC6cq",
        "colab_type": "code",
        "colab": {
          "base_uri": "https://localhost:8080/",
          "height": 85
        },
        "outputId": "dc46c2f3-5a60-437c-f30e-3589c74435fd"
      },
      "source": [
        "%%time\n",
        "quartiles = np.percentile(arr, [75, 25])\n",
        "print(quartiles)\n",
        "iqr = quartiles[0] - quartiles[1]\n",
        "print(iqr)"
      ],
      "execution_count": 20,
      "outputs": [
        {
          "output_type": "stream",
          "text": [
            "[0.75011767 0.24998044]\n",
            "0.5001372303179574\n",
            "CPU times: user 211 ms, sys: 0 ns, total: 211 ms\n",
            "Wall time: 210 ms\n"
          ],
          "name": "stdout"
        }
      ]
    },
    {
      "cell_type": "code",
      "metadata": {
        "id": "qTWBeQNVFHnh",
        "colab_type": "code",
        "colab": {
          "base_uri": "https://localhost:8080/",
          "height": 51
        },
        "outputId": "5fd71bf0-c065-457e-e433-4ff37910968f"
      },
      "source": [
        "# z-score\n",
        "(arr-np.mean(arr)) / np.std(arr)"
      ],
      "execution_count": 22,
      "outputs": [
        {
          "output_type": "execute_result",
          "data": {
            "text/plain": [
              "array([ 0.2076759 , -1.61263066, -1.40088913, ..., -1.17242275,\n",
              "       -0.394217  , -0.06273243])"
            ]
          },
          "metadata": {
            "tags": []
          },
          "execution_count": 22
        }
      ]
    },
    {
      "cell_type": "code",
      "metadata": {
        "id": "72A-wfnlGKFR",
        "colab_type": "code",
        "colab": {
          "base_uri": "https://localhost:8080/",
          "height": 102
        },
        "outputId": "8266db5e-a458-4365-bf1a-48f7f3e32eb8"
      },
      "source": [
        "np.histogram(arr)   # first is number of points in the bins\n",
        "                    # Second is bins"
      ],
      "execution_count": 23,
      "outputs": [
        {
          "output_type": "execute_result",
          "data": {
            "text/plain": [
              "(array([1000594, 1000116, 1000975,  998547,  998453,  999886, 1000937,\n",
              "         999248,  999691, 1001553]),\n",
              " array([2.79968515e-08, 1.00000021e-01, 2.00000015e-01, 3.00000008e-01,\n",
              "        4.00000002e-01, 4.99999995e-01, 5.99999989e-01, 6.99999982e-01,\n",
              "        7.99999976e-01, 8.99999969e-01, 9.99999963e-01]))"
            ]
          },
          "metadata": {
            "tags": []
          },
          "execution_count": 23
        }
      ]
    },
    {
      "cell_type": "code",
      "metadata": {
        "id": "NCyGGm8MGkBp",
        "colab_type": "code",
        "colab": {
          "base_uri": "https://localhost:8080/",
          "height": 68
        },
        "outputId": "fc95fd06-30a5-4c1b-da83-974f0b32e019"
      },
      "source": [
        "np.histogram(arr, bins=5)"
      ],
      "execution_count": 24,
      "outputs": [
        {
          "output_type": "execute_result",
          "data": {
            "text/plain": [
              "(array([2000710, 1999522, 1998339, 2000185, 2001244]),\n",
              " array([2.79968515e-08, 2.00000015e-01, 4.00000002e-01, 5.99999989e-01,\n",
              "        7.99999976e-01, 9.99999963e-01]))"
            ]
          },
          "metadata": {
            "tags": []
          },
          "execution_count": 24
        }
      ]
    },
    {
      "cell_type": "code",
      "metadata": {
        "id": "HmexXYZsG9lR",
        "colab_type": "code",
        "colab": {
          "base_uri": "https://localhost:8080/",
          "height": 51
        },
        "outputId": "bb58fde2-a540-4236-8ec8-93f8f9c9b527"
      },
      "source": [
        "np.histogram(arr, bins=[0, 0.25, 0.5, 0.75, 1])"
      ],
      "execution_count": 25,
      "outputs": [
        {
          "output_type": "execute_result",
          "data": {
            "text/plain": [
              "(array([2500188, 2498497, 2500161, 2501154]),\n",
              " array([0.  , 0.25, 0.5 , 0.75, 1.  ]))"
            ]
          },
          "metadata": {
            "tags": []
          },
          "execution_count": 25
        }
      ]
    },
    {
      "cell_type": "code",
      "metadata": {
        "id": "9yeCw8_YHGc5",
        "colab_type": "code",
        "colab": {
          "base_uri": "https://localhost:8080/",
          "height": 34
        },
        "outputId": "bd5ca12a-ff94-4f37-f7b9-b9132f19c2d2"
      },
      "source": [
        "bins=[0, 0.25, 0.5, 0.75, 1]      # first number is in 3rd bin (0.5 - 0.75)\n",
        "np.digitize(arr, bins)            # second number is in 1st bin (0 - 0.25)"
      ],
      "execution_count": 26,
      "outputs": [
        {
          "output_type": "execute_result",
          "data": {
            "text/plain": [
              "array([3, 1, 1, ..., 1, 2, 2])"
            ]
          },
          "metadata": {
            "tags": []
          },
          "execution_count": 26
        }
      ]
    },
    {
      "cell_type": "code",
      "metadata": {
        "id": "vccAMmx6HlDP",
        "colab_type": "code",
        "colab": {
          "base_uri": "https://localhost:8080/",
          "height": 51
        },
        "outputId": "727a1a5f-2b1b-439b-fb7a-f0cd99e31512"
      },
      "source": [
        "arr1 = np.random.randint(0, 10, (10))\n",
        "print(arr1)\n",
        "bins = [0, 6, 10]                    # 1st bin (0 - 6) & 2nd bin (6 - 10)\n",
        "np.digitize(arr1, bins)              # number 6 is in 2nd bin"
      ],
      "execution_count": 29,
      "outputs": [
        {
          "output_type": "stream",
          "text": [
            "[5 2 9 7 6 2 6 7 2 1]\n"
          ],
          "name": "stdout"
        },
        {
          "output_type": "execute_result",
          "data": {
            "text/plain": [
              "array([1, 1, 2, 2, 2, 1, 2, 2, 1, 1])"
            ]
          },
          "metadata": {
            "tags": []
          },
          "execution_count": 29
        }
      ]
    },
    {
      "cell_type": "code",
      "metadata": {
        "id": "DwuM93lUIWN8",
        "colab_type": "code",
        "colab": {
          "base_uri": "https://localhost:8080/",
          "height": 51
        },
        "outputId": "01e1e3c1-d38a-4a18-9136-ec9ad0cca562"
      },
      "source": [
        "print(arr1)\n",
        "bins = [0, 6, 10]                    # 1st bin (0 - 6) & 2nd bin (6 - 10)\n",
        "np.digitize(arr1, bins, right=True)  # number 6 is in 1st bin"
      ],
      "execution_count": 30,
      "outputs": [
        {
          "output_type": "stream",
          "text": [
            "[5 2 9 7 6 2 6 7 2 1]\n"
          ],
          "name": "stdout"
        },
        {
          "output_type": "execute_result",
          "data": {
            "text/plain": [
              "array([1, 1, 2, 2, 1, 1, 1, 2, 1, 1])"
            ]
          },
          "metadata": {
            "tags": []
          },
          "execution_count": 30
        }
      ]
    },
    {
      "cell_type": "code",
      "metadata": {
        "id": "XmeU9Cu8I6kG",
        "colab_type": "code",
        "colab": {}
      },
      "source": [
        "arr1 = np.random.randint(50, 80, 100)      # weight\n",
        "arr2 = np.random.randint(150, 185, 100)    # height\n",
        "arr3 = np.random.randint(17, 22, 100)      # age"
      ],
      "execution_count": 31,
      "outputs": []
    },
    {
      "cell_type": "code",
      "metadata": {
        "id": "569yC31XKFiJ",
        "colab_type": "code",
        "colab": {
          "base_uri": "https://localhost:8080/",
          "height": 34
        },
        "outputId": "cf041b96-3ab0-4a12-e87e-8e7963e1782b"
      },
      "source": [
        "np.concatenate((arr1, arr2, arr3)).shape"
      ],
      "execution_count": 32,
      "outputs": [
        {
          "output_type": "execute_result",
          "data": {
            "text/plain": [
              "(300,)"
            ]
          },
          "metadata": {
            "tags": []
          },
          "execution_count": 32
        }
      ]
    },
    {
      "cell_type": "code",
      "metadata": {
        "id": "3amcpyeuKUVi",
        "colab_type": "code",
        "colab": {
          "base_uri": "https://localhost:8080/",
          "height": 34
        },
        "outputId": "c5732350-839b-4003-e5d5-2e8f19098a62"
      },
      "source": [
        "np.vstack((arr1, arr2, arr3)).shape"
      ],
      "execution_count": 33,
      "outputs": [
        {
          "output_type": "execute_result",
          "data": {
            "text/plain": [
              "(3, 100)"
            ]
          },
          "metadata": {
            "tags": []
          },
          "execution_count": 33
        }
      ]
    },
    {
      "cell_type": "code",
      "metadata": {
        "id": "_7rlfeKKKdJi",
        "colab_type": "code",
        "colab": {}
      },
      "source": [
        "arr2d = np.vstack((arr1, arr2, arr3))"
      ],
      "execution_count": 35,
      "outputs": []
    },
    {
      "cell_type": "code",
      "metadata": {
        "id": "32HNzEMCKoJC",
        "colab_type": "code",
        "colab": {
          "base_uri": "https://localhost:8080/",
          "height": 34
        },
        "outputId": "add09cba-f7a3-4e49-f09b-5895d3dbf526"
      },
      "source": [
        "np.amin(arr2d, axis=1)"
      ],
      "execution_count": 36,
      "outputs": [
        {
          "output_type": "execute_result",
          "data": {
            "text/plain": [
              "array([ 50, 150,  17])"
            ]
          },
          "metadata": {
            "tags": []
          },
          "execution_count": 36
        }
      ]
    },
    {
      "cell_type": "code",
      "metadata": {
        "id": "u9dK6V9eK9RV",
        "colab_type": "code",
        "colab": {
          "base_uri": "https://localhost:8080/",
          "height": 34
        },
        "outputId": "8ce4d6aa-4586-4421-83af-48edf04d8e35"
      },
      "source": [
        "np.amax(arr2d, axis=1)"
      ],
      "execution_count": 38,
      "outputs": [
        {
          "output_type": "execute_result",
          "data": {
            "text/plain": [
              "array([ 79, 184,  21])"
            ]
          },
          "metadata": {
            "tags": []
          },
          "execution_count": 38
        }
      ]
    },
    {
      "cell_type": "code",
      "metadata": {
        "id": "34D8RzeHLPd0",
        "colab_type": "code",
        "colab": {
          "base_uri": "https://localhost:8080/",
          "height": 34
        },
        "outputId": "31c52ee2-6254-49c3-b0e0-f36a5534ed7b"
      },
      "source": [
        "np.mean(arr2d, axis=1)"
      ],
      "execution_count": 40,
      "outputs": [
        {
          "output_type": "execute_result",
          "data": {
            "text/plain": [
              "array([ 65.07, 166.65,  19.13])"
            ]
          },
          "metadata": {
            "tags": []
          },
          "execution_count": 40
        }
      ]
    },
    {
      "cell_type": "markdown",
      "metadata": {
        "id": "z7jdI2e8LnEE",
        "colab_type": "text"
      },
      "source": [
        "# Checking stats rules with NumPy"
      ]
    },
    {
      "cell_type": "markdown",
      "metadata": {
        "id": "c7jtee_sL4qE",
        "colab_type": "text"
      },
      "source": [
        "## mean subtracted array has 0 mean\n",
        "\n"
      ]
    },
    {
      "cell_type": "code",
      "metadata": {
        "id": "WH7Kp-FWLS3H",
        "colab_type": "code",
        "colab": {}
      },
      "source": [
        "arr = np.random.rand(1000)"
      ],
      "execution_count": 45,
      "outputs": []
    },
    {
      "cell_type": "code",
      "metadata": {
        "id": "Pntcgyc2M78E",
        "colab_type": "code",
        "colab": {
          "base_uri": "https://localhost:8080/",
          "height": 34
        },
        "outputId": "dfb06e2d-9212-4fef-933d-1234a99d6147"
      },
      "source": [
        "mean = np.mean(arr)\n",
        "arr1 = arr - mean\n",
        "print(np.mean(arr1))"
      ],
      "execution_count": 46,
      "outputs": [
        {
          "output_type": "stream",
          "text": [
            "-1.7319479184152442e-17\n"
          ],
          "name": "stdout"
        }
      ]
    },
    {
      "cell_type": "markdown",
      "metadata": {
        "id": "HSfwJi05ODmq",
        "colab_type": "text"
      },
      "source": [
        "## Computing mean with smallar set of values"
      ]
    },
    {
      "cell_type": "code",
      "metadata": {
        "id": "KFywWKHmNvmx",
        "colab_type": "code",
        "colab": {}
      },
      "source": [
        "arr = np.random.rand(1000)"
      ],
      "execution_count": 52,
      "outputs": []
    },
    {
      "cell_type": "code",
      "metadata": {
        "id": "U7dbBMi3PCoj",
        "colab_type": "code",
        "colab": {}
      },
      "source": [
        "for k in range(1, 50):\n",
        "  arr1 = arr[0:k]\n",
        "  print(k , np.mean(arr1)) "
      ],
      "execution_count": null,
      "outputs": []
    },
    {
      "cell_type": "code",
      "metadata": {
        "id": "M-K3SZ3PPR0z",
        "colab_type": "code",
        "colab": {
          "base_uri": "https://localhost:8080/",
          "height": 68
        },
        "outputId": "23b32aac-e5b7-4b87-86cf-161b95fa9510"
      },
      "source": [
        "means = np.cumsum(arr) / np.arange(1, 1001)\n",
        "means[0:15]"
      ],
      "execution_count": 56,
      "outputs": [
        {
          "output_type": "execute_result",
          "data": {
            "text/plain": [
              "array([0.63668385, 0.74673168, 0.70181951, 0.62117463, 0.52494719,\n",
              "       0.43952086, 0.48902064, 0.5367312 , 0.49998348, 0.54883787,\n",
              "       0.56932094, 0.58343522, 0.58883108, 0.58573912, 0.60668574])"
            ]
          },
          "metadata": {
            "tags": []
          },
          "execution_count": 56
        }
      ]
    },
    {
      "cell_type": "markdown",
      "metadata": {
        "id": "8c_ohF-pQHhj",
        "colab_type": "text"
      },
      "source": [
        "## Effect of outliers on median and median"
      ]
    },
    {
      "cell_type": "code",
      "metadata": {
        "id": "1KHRxae5PjUz",
        "colab_type": "code",
        "colab": {
          "base_uri": "https://localhost:8080/",
          "height": 51
        },
        "outputId": "5f9e2903-5495-479f-af6c-7c3a857ec834"
      },
      "source": [
        "arr = np.random.randint(1, 100, 100)\n",
        "print(np.mean(arr))\n",
        "print(np.median(arr))"
      ],
      "execution_count": 58,
      "outputs": [
        {
          "output_type": "stream",
          "text": [
            "54.09\n",
            "54.5\n"
          ],
          "name": "stdout"
        }
      ]
    },
    {
      "cell_type": "code",
      "metadata": {
        "id": "OTdkl3ihQbmS",
        "colab_type": "code",
        "colab": {
          "base_uri": "https://localhost:8080/",
          "height": 51
        },
        "outputId": "dfd55eff-ce23-480d-dce6-57ebbb08884e"
      },
      "source": [
        "arr = np.append(arr, [1000, 2000])\n",
        "print(np.mean(arr))                  # mean has changed after adding outliers\n",
        "print(np.median(arr))                # median has not been affected"
      ],
      "execution_count": 60,
      "outputs": [
        {
          "output_type": "stream",
          "text": [
            "82.44117647058823\n",
            "55.0\n"
          ],
          "name": "stdout"
        }
      ]
    },
    {
      "cell_type": "markdown",
      "metadata": {
        "id": "qsveEunuRIBa",
        "colab_type": "text"
      },
      "source": [
        "## Effect of scalling on mean and median"
      ]
    },
    {
      "cell_type": "code",
      "metadata": {
        "id": "90B9AjVuQxGf",
        "colab_type": "code",
        "colab": {
          "base_uri": "https://localhost:8080/",
          "height": 51
        },
        "outputId": "b5ff3156-facb-4291-b78f-42b5d740c70b"
      },
      "source": [
        "arr = np.random.rand(100)\n",
        "print(np.mean(arr))\n",
        "print(np.median(arr))"
      ],
      "execution_count": 72,
      "outputs": [
        {
          "output_type": "stream",
          "text": [
            "0.4741313479637832\n",
            "0.44832454204308997\n"
          ],
          "name": "stdout"
        }
      ]
    },
    {
      "cell_type": "code",
      "metadata": {
        "id": "ZQ_wE9xFRUy6",
        "colab_type": "code",
        "colab": {}
      },
      "source": [
        "arr1 = 2.5 * arr + 0.65"
      ],
      "execution_count": 73,
      "outputs": []
    },
    {
      "cell_type": "code",
      "metadata": {
        "id": "vietRfwvRj9A",
        "colab_type": "code",
        "colab": {
          "base_uri": "https://localhost:8080/",
          "height": 51
        },
        "outputId": "6f5f8823-880c-4928-b918-3ebd2f05c113"
      },
      "source": [
        "print(np.mean(arr1), 2.5 * np.mean(arr) + 0.65)\n",
        "print(np.mean(2.5 * arr + 0.65), 2.5 * np.mean(arr) + 0.65)"
      ],
      "execution_count": 74,
      "outputs": [
        {
          "output_type": "stream",
          "text": [
            "1.8353283699094578 1.8353283699094578\n",
            "1.8353283699094578 1.8353283699094578\n"
          ],
          "name": "stdout"
        }
      ]
    },
    {
      "cell_type": "code",
      "metadata": {
        "id": "vP5rHNJmR3yX",
        "colab_type": "code",
        "colab": {
          "base_uri": "https://localhost:8080/",
          "height": 34
        },
        "outputId": "28cc3279-e64f-4483-f054-067de8cdaaa9"
      },
      "source": [
        "print(np.median(2.5 * arr + 0.65), 2.5 * np.median(arr) + 0.65)"
      ],
      "execution_count": 75,
      "outputs": [
        {
          "output_type": "stream",
          "text": [
            "1.770811355107725 1.7708113551077251\n"
          ],
          "name": "stdout"
        }
      ]
    },
    {
      "cell_type": "code",
      "metadata": {
        "id": "79EpxZv7SMML",
        "colab_type": "code",
        "colab": {
          "base_uri": "https://localhost:8080/",
          "height": 34
        },
        "outputId": "2d090b60-c152-4f0a-fcbf-ebf05604e90f"
      },
      "source": [
        "print(np.var(2.5 * arr + 0.65), 2.5*2.5 * np.var(arr))"
      ],
      "execution_count": 77,
      "outputs": [
        {
          "output_type": "stream",
          "text": [
            "0.555413197690125 0.5554131976901251\n"
          ],
          "name": "stdout"
        }
      ]
    },
    {
      "cell_type": "code",
      "metadata": {
        "id": "YP55hEUvTtp7",
        "colab_type": "code",
        "colab": {
          "base_uri": "https://localhost:8080/",
          "height": 34
        },
        "outputId": "e2248f8b-9129-4893-8a92-298e484d8e7c"
      },
      "source": [
        "print(np.std(2.5 * arr + 0.65), 2.5 * np.std(arr))"
      ],
      "execution_count": 78,
      "outputs": [
        {
          "output_type": "stream",
          "text": [
            "0.7452604898222668 0.7452604898222669\n"
          ],
          "name": "stdout"
        }
      ]
    },
    {
      "cell_type": "code",
      "metadata": {
        "id": "YMzapggfUIki",
        "colab_type": "code",
        "colab": {}
      },
      "source": [
        "arr1 = np.random.rand(100)\n",
        "arr2 = np.random.rand(100)"
      ],
      "execution_count": 80,
      "outputs": []
    },
    {
      "cell_type": "code",
      "metadata": {
        "id": "6n0vQXxkUm85",
        "colab_type": "code",
        "colab": {
          "base_uri": "https://localhost:8080/",
          "height": 34
        },
        "outputId": "988d29e1-a892-44ea-e2ba-5158069c0b98"
      },
      "source": [
        "print(np.mean(0.21 * arr1 - 0.75 * arr2),\n",
        "      0.21 * np.mean(arr1) - 0.75 * np.mean(arr2))"
      ],
      "execution_count": 81,
      "outputs": [
        {
          "output_type": "stream",
          "text": [
            "-0.28474113172995724 -0.2847411317299572\n"
          ],
          "name": "stdout"
        }
      ]
    },
    {
      "cell_type": "markdown",
      "metadata": {
        "id": "RcPVSpgjVXVO",
        "colab_type": "text"
      },
      "source": [
        "# Case Study"
      ]
    },
    {
      "cell_type": "markdown",
      "metadata": {
        "id": "JO0oIL6x4cOi",
        "colab_type": "text"
      },
      "source": [
        "\n",
        "\n",
        "1.   Find mean, median and IQR for Sachin, Rhual and India.\n",
        "2.   Find the histogram of Sachin's scores with 10 bins.\n",
        "3.   Find the mean of Sachin's scores grouped by 25 matches.\n",
        "4.   Find the mean of Sachin's scores where he has scored a century.\n",
        "5.   Find the mean of Sachin's scores when Rahul has scored less than 10.\n",
        "6.   Find the mean of Sachin's scores based on which quartile India's score falls in.\n",
        "7.   For every match find out who has scored more: Sachin or Rahul.\n",
        "8.   How many more runs does Sachin scores on average after having scored x runs.\n",
        "9.   How many matches did Sachin take to score first 1000 runs, next 1000 runs...\n",
        "\n"
      ]
    },
    {
      "cell_type": "code",
      "metadata": {
        "id": "opFgF4_0VC6j",
        "colab_type": "code",
        "colab": {
          "base_uri": "https://localhost:8080/",
          "height": 187
        },
        "outputId": "2b9680bb-0ceb-4606-c0f9-14e8c4ff7d3b"
      },
      "source": [
        "!head /content/cric_data-200320-181217.tsv"
      ],
      "execution_count": 3,
      "outputs": [
        {
          "output_type": "stream",
          "text": [
            "\tSachin Tendulkar\tRahul Dravid\tIndia\n",
            "0\t100\t78\t342\n",
            "1\t11\t62\t191\n",
            "2\t8\t85\t252\n",
            "3\t71\t24\t307\n",
            "4\t104\t17\t229\n",
            "5\t18\t104\t246\n",
            "6\t8\t76\t226\n",
            "7\t86\t74\t288\n",
            "8\t12\t60\t216\n"
          ],
          "name": "stdout"
        }
      ]
    },
    {
      "cell_type": "code",
      "metadata": {
        "id": "vfjytzSk6ZTS",
        "colab_type": "code",
        "colab": {}
      },
      "source": [
        "cric = np.loadtxt(\"/content/cric_data-200320-181217.tsv\", skiprows=1, usecols=[1, 2, 3] , delimiter=\"\\t\")"
      ],
      "execution_count": 4,
      "outputs": []
    },
    {
      "cell_type": "code",
      "metadata": {
        "id": "hdEuEO779NzE",
        "colab_type": "code",
        "colab": {
          "base_uri": "https://localhost:8080/",
          "height": 34
        },
        "outputId": "2b0f5a99-263f-4315-d23b-a40031d1b014"
      },
      "source": [
        "cric.shape"
      ],
      "execution_count": 5,
      "outputs": [
        {
          "output_type": "execute_result",
          "data": {
            "text/plain": [
              "(225, 3)"
            ]
          },
          "metadata": {
            "tags": []
          },
          "execution_count": 5
        }
      ]
    },
    {
      "cell_type": "code",
      "metadata": {
        "id": "lgq-tpMI9Xcc",
        "colab_type": "code",
        "colab": {
          "base_uri": "https://localhost:8080/",
          "height": 170
        },
        "outputId": "204e4ccf-08f3-43f1-8fe2-8bf4b511a549"
      },
      "source": [
        "cric[0:9, :]"
      ],
      "execution_count": 6,
      "outputs": [
        {
          "output_type": "execute_result",
          "data": {
            "text/plain": [
              "array([[100.,  78., 342.],\n",
              "       [ 11.,  62., 191.],\n",
              "       [  8.,  85., 252.],\n",
              "       [ 71.,  24., 307.],\n",
              "       [104.,  17., 229.],\n",
              "       [ 18., 104., 246.],\n",
              "       [  8.,  76., 226.],\n",
              "       [ 86.,  74., 288.],\n",
              "       [ 12.,  60., 216.]])"
            ]
          },
          "metadata": {
            "tags": []
          },
          "execution_count": 6
        }
      ]
    },
    {
      "cell_type": "code",
      "metadata": {
        "id": "P7G1Arop9ubg",
        "colab_type": "code",
        "colab": {
          "base_uri": "https://localhost:8080/",
          "height": 68
        },
        "outputId": "0bacaad1-4418-471b-bc84-ecc7d4fb6609"
      },
      "source": [
        "# Find mean, median and IQR for Sachin, Rhual and India.\n",
        "print(\"mean: \", np.mean(cric, axis=0))\n",
        "print(\"median: \", np.median(cric, axis=0))\n",
        "\n",
        "quartile = np.percentile(cric, [75, 25], axis=0)\n",
        "print(\"IQR: \", quartile[0]-quartile[1])"
      ],
      "execution_count": 7,
      "outputs": [
        {
          "output_type": "stream",
          "text": [
            "mean:  [ 39.87555556  32.06222222 220.79555556]\n",
            "median:  [ 27.  22. 216.]\n",
            "IQR:  [57. 46. 98.]\n"
          ],
          "name": "stdout"
        }
      ]
    },
    {
      "cell_type": "code",
      "metadata": {
        "id": "IBai9EUx-srx",
        "colab_type": "code",
        "colab": {
          "base_uri": "https://localhost:8080/",
          "height": 68
        },
        "outputId": "fef3d1b1-9d21-4a9b-9c2a-ce20aff34d4b"
      },
      "source": [
        "# Find the histogram of Sachin's scores with 10 bins.\n",
        "sachin_runs = cric[:, 0]\n",
        "np.histogram(sachin_runs, bins=10)"
      ],
      "execution_count": 8,
      "outputs": [
        {
          "output_type": "execute_result",
          "data": {
            "text/plain": [
              "(array([99, 36, 28, 16, 11, 17,  8,  8,  1,  1]),\n",
              " array([  0. ,  18.6,  37.2,  55.8,  74.4,  93. , 111.6, 130.2, 148.8,\n",
              "        167.4, 186. ]))"
            ]
          },
          "metadata": {
            "tags": []
          },
          "execution_count": 8
        }
      ]
    },
    {
      "cell_type": "code",
      "metadata": {
        "id": "PhiG5lDQ_gK7",
        "colab_type": "code",
        "colab": {
          "base_uri": "https://localhost:8080/",
          "height": 68
        },
        "outputId": "3e3d3e67-e679-4874-f14f-e2443621e73b"
      },
      "source": [
        "# Find the mean of Sachin's scores grouped by 25 matches\n",
        "print(sachin_runs.shape)\n",
        "print(sachin_runs.reshape(9, 25).shape)\n",
        "\n",
        "sachin_25s = sachin_runs.reshape(9, 25)\n",
        "print(np.mean(sachin_25s, axis=1))"
      ],
      "execution_count": 9,
      "outputs": [
        {
          "output_type": "stream",
          "text": [
            "(225,)\n",
            "(9, 25)\n",
            "[33.96 49.4  38.48 40.16 39.36 38.2  44.6  39.52 35.2 ]\n"
          ],
          "name": "stdout"
        }
      ]
    },
    {
      "cell_type": "code",
      "metadata": {
        "id": "trFWF45lCRSr",
        "colab_type": "code",
        "colab": {
          "base_uri": "https://localhost:8080/",
          "height": 68
        },
        "outputId": "53e07a9a-24fb-4290-fd1f-d7be19e822a8"
      },
      "source": [
        "# Find the mean of Sachin's scores where he has scored a century.\n",
        "sachin_runs = cric[:, 0]\n",
        "print(sachin_runs[sachin_runs >= 100])\n",
        "print(np.mean(sachin_runs[sachin_runs >= 100]))"
      ],
      "execution_count": 10,
      "outputs": [
        {
          "output_type": "stream",
          "text": [
            "[100. 104. 138. 141. 186. 146. 141. 123. 120. 122. 100. 152. 105. 122.\n",
            " 100. 117. 141. 139. 114. 127. 110. 146. 101. 140. 113. 102.]\n",
            "125.0\n"
          ],
          "name": "stdout"
        }
      ]
    },
    {
      "cell_type": "code",
      "metadata": {
        "id": "iPsZ8EHrCZSd",
        "colab_type": "code",
        "colab": {
          "base_uri": "https://localhost:8080/",
          "height": 34
        },
        "outputId": "0fd4f576-11a6-4f35-f86d-5e3a46940947"
      },
      "source": [
        "# Find the mean of Sachin's scores when Rahul has scored less than 10.\n",
        "rahul_runs = cric[:, 1]\n",
        "print(np.mean(sachin_runs[rahul_runs <= 10]))"
      ],
      "execution_count": 11,
      "outputs": [
        {
          "output_type": "stream",
          "text": [
            "40.2112676056338\n"
          ],
          "name": "stdout"
        }
      ]
    },
    {
      "cell_type": "code",
      "metadata": {
        "id": "ETzHs69PCipO",
        "colab_type": "code",
        "colab": {
          "base_uri": "https://localhost:8080/",
          "height": 34
        },
        "outputId": "753a9837-f28b-4421-84cc-2e833262ac6a"
      },
      "source": [
        "# Find the mean of Sachin's scores based on which quartile India's score falls in.\n",
        "india = cric[:, 2]\n",
        "quartiles = np.percentile(india, [25, 50, 75, 100])\n",
        "print(quartiles)"
      ],
      "execution_count": 13,
      "outputs": [
        {
          "output_type": "stream",
          "text": [
            "[175. 216. 273. 499.]\n"
          ],
          "name": "stdout"
        }
      ]
    },
    {
      "cell_type": "markdown",
      "metadata": {
        "id": "Mg3fS9z0MCK0",
        "colab_type": "text"
      },
      "source": [
        "1. if India <= 175 sachin average is ...\n",
        "2. if India <= 216 sachin average is ...\n",
        "3. if India <= 273 sachin average is ...\n",
        "4. if India <= 499 sachin average is ..."
      ]
    },
    {
      "cell_type": "code",
      "metadata": {
        "id": "5MQmpvTdM7ao",
        "colab_type": "code",
        "colab": {
          "base_uri": "https://localhost:8080/",
          "height": 231
        },
        "outputId": "9368e4af-6a29-41ad-aed5-9718a31b2938"
      },
      "source": [
        "print(india.shape)\n",
        "print(quartiles.shape)        # incompatible to broadcasting (225) & (4)\n",
        "\n",
        "india < quartiles"
      ],
      "execution_count": 16,
      "outputs": [
        {
          "output_type": "stream",
          "text": [
            "(225,)\n",
            "(4,)\n"
          ],
          "name": "stdout"
        },
        {
          "output_type": "error",
          "ename": "ValueError",
          "evalue": "ignored",
          "traceback": [
            "\u001b[0;31m---------------------------------------------------------------------------\u001b[0m",
            "\u001b[0;31mValueError\u001b[0m                                Traceback (most recent call last)",
            "\u001b[0;32m<ipython-input-16-24bd8e8e34bc>\u001b[0m in \u001b[0;36m<module>\u001b[0;34m()\u001b[0m\n\u001b[1;32m      2\u001b[0m \u001b[0mprint\u001b[0m\u001b[0;34m(\u001b[0m\u001b[0mquartiles\u001b[0m\u001b[0;34m.\u001b[0m\u001b[0mshape\u001b[0m\u001b[0;34m)\u001b[0m        \u001b[0;31m# cannot be broadcasted (225) & (4)\u001b[0m\u001b[0;34m\u001b[0m\u001b[0;34m\u001b[0m\u001b[0m\n\u001b[1;32m      3\u001b[0m \u001b[0;34m\u001b[0m\u001b[0m\n\u001b[0;32m----> 4\u001b[0;31m \u001b[0mindia\u001b[0m \u001b[0;34m<\u001b[0m \u001b[0mquartiles\u001b[0m\u001b[0;34m\u001b[0m\u001b[0;34m\u001b[0m\u001b[0m\n\u001b[0m",
            "\u001b[0;31mValueError\u001b[0m: operands could not be broadcast together with shapes (225,) (4,) "
          ]
        }
      ]
    },
    {
      "cell_type": "code",
      "metadata": {
        "id": "S25SOyCBNSH-",
        "colab_type": "code",
        "colab": {}
      },
      "source": [
        "quartiles = quartiles.reshape(4, 1)   # now (225) & (4, 1) are compatible"
      ],
      "execution_count": 18,
      "outputs": []
    },
    {
      "cell_type": "code",
      "metadata": {
        "id": "mx6tv6QcN2xr",
        "colab_type": "code",
        "colab": {
          "base_uri": "https://localhost:8080/",
          "height": 34
        },
        "outputId": "ed64c549-c0c9-4933-e5d9-871e451122e3"
      },
      "source": [
        "indices = india < quartiles\n",
        "indices.shape"
      ],
      "execution_count": 24,
      "outputs": [
        {
          "output_type": "execute_result",
          "data": {
            "text/plain": [
              "(4, 225)"
            ]
          },
          "metadata": {
            "tags": []
          },
          "execution_count": 24
        }
      ]
    },
    {
      "cell_type": "code",
      "metadata": {
        "id": "7JXFScJnOERf",
        "colab_type": "code",
        "colab": {
          "base_uri": "https://localhost:8080/",
          "height": 102
        },
        "outputId": "6c2e9934-a92e-4859-9a89-e57e3ce2b628"
      },
      "source": [
        "sachin_runs[indices[0, :]]"
      ],
      "execution_count": 25,
      "outputs": [
        {
          "output_type": "execute_result",
          "data": {
            "text/plain": [
              "array([18., 14.,  0., 62., 46., 65.,  0., 39., 48.,  3., 11., 65., 27.,\n",
              "       28.,  3.,  4., 15., 40.,  5.,  8., 89.,  0.,  0.,  1.,  0.,  0.,\n",
              "       81., 13.,  2., 36., 12., 19.,  0.,  6., 35.,  0., 44.,  3., 47.,\n",
              "       17., 35., 33.,  7.,  9.,  2., 11., 17.,  1., 10.,  0., 23.,  1.,\n",
              "        2., 25.,  0.])"
            ]
          },
          "metadata": {
            "tags": []
          },
          "execution_count": 25
        }
      ]
    },
    {
      "cell_type": "code",
      "metadata": {
        "id": "SFfdQMroO8zg",
        "colab_type": "code",
        "colab": {
          "base_uri": "https://localhost:8080/",
          "height": 85
        },
        "outputId": "eed40ec0-ff17-4906-ae31-0a086466f76f"
      },
      "source": [
        "for i in range(4):\n",
        "  print(i, np.mean(sachin_runs[indices[i, :]]))"
      ],
      "execution_count": 26,
      "outputs": [
        {
          "output_type": "stream",
          "text": [
            "0 19.672727272727272\n",
            "1 28.18018018018018\n",
            "2 31.688622754491018\n",
            "3 39.799107142857146\n"
          ],
          "name": "stdout"
        }
      ]
    },
    {
      "cell_type": "code",
      "metadata": {
        "id": "92-NeyXLC0Yu",
        "colab_type": "code",
        "colab": {
          "base_uri": "https://localhost:8080/",
          "height": 34
        },
        "outputId": "08d04543-1d95-4f68-8ee2-932944c9172b"
      },
      "source": [
        "# For every match find out who has scored more: Sachin or Rahul.\n",
        "snr = cric[:, 0:2]\n",
        "print(snr.shape)\n",
        "\n",
        "is_rahul_higher = np.argmax(snr, axis=1)"
      ],
      "execution_count": 38,
      "outputs": [
        {
          "output_type": "stream",
          "text": [
            "(225, 2)\n"
          ],
          "name": "stdout"
        }
      ]
    },
    {
      "cell_type": "code",
      "metadata": {
        "id": "JNGvwjFGQ7p9",
        "colab_type": "code",
        "colab": {
          "base_uri": "https://localhost:8080/",
          "height": 34
        },
        "outputId": "2de9cc33-28b2-4eaa-d818-dbfcbe92de8f"
      },
      "source": [
        "np.sum(is_rahul_higher) / 225     # 47 percent of the times rahul scored higher"
      ],
      "execution_count": 39,
      "outputs": [
        {
          "output_type": "execute_result",
          "data": {
            "text/plain": [
              "0.4711111111111111"
            ]
          },
          "metadata": {
            "tags": []
          },
          "execution_count": 39
        }
      ]
    },
    {
      "cell_type": "code",
      "metadata": {
        "id": "Tw8BxNxWRUmC",
        "colab_type": "code",
        "colab": {
          "base_uri": "https://localhost:8080/",
          "height": 578
        },
        "outputId": "f348cf1e-b180-4de7-88a7-6cb833f7c17b"
      },
      "source": [
        "np.where(is_rahul_higher == 0, 'Sachin', 'Rahul')"
      ],
      "execution_count": 40,
      "outputs": [
        {
          "output_type": "execute_result",
          "data": {
            "text/plain": [
              "array(['Sachin', 'Rahul', 'Rahul', 'Sachin', 'Sachin', 'Rahul', 'Rahul',\n",
              "       'Sachin', 'Rahul', 'Sachin', 'Rahul', 'Rahul', 'Rahul', 'Sachin',\n",
              "       'Sachin', 'Rahul', 'Rahul', 'Sachin', 'Rahul', 'Rahul', 'Sachin',\n",
              "       'Rahul', 'Sachin', 'Sachin', 'Rahul', 'Sachin', 'Sachin', 'Sachin',\n",
              "       'Sachin', 'Sachin', 'Sachin', 'Sachin', 'Rahul', 'Rahul', 'Sachin',\n",
              "       'Rahul', 'Rahul', 'Sachin', 'Rahul', 'Sachin', 'Sachin', 'Sachin',\n",
              "       'Sachin', 'Rahul', 'Sachin', 'Rahul', 'Rahul', 'Sachin', 'Rahul',\n",
              "       'Sachin', 'Rahul', 'Rahul', 'Rahul', 'Rahul', 'Sachin', 'Rahul',\n",
              "       'Sachin', 'Sachin', 'Rahul', 'Rahul', 'Rahul', 'Sachin', 'Rahul',\n",
              "       'Sachin', 'Sachin', 'Sachin', 'Sachin', 'Rahul', 'Sachin', 'Rahul',\n",
              "       'Rahul', 'Sachin', 'Sachin', 'Rahul', 'Rahul', 'Sachin', 'Rahul',\n",
              "       'Rahul', 'Sachin', 'Rahul', 'Rahul', 'Rahul', 'Rahul', 'Rahul',\n",
              "       'Rahul', 'Sachin', 'Sachin', 'Sachin', 'Rahul', 'Sachin', 'Sachin',\n",
              "       'Sachin', 'Sachin', 'Sachin', 'Sachin', 'Rahul', 'Rahul', 'Sachin',\n",
              "       'Rahul', 'Sachin', 'Sachin', 'Rahul', 'Rahul', 'Rahul', 'Rahul',\n",
              "       'Sachin', 'Rahul', 'Rahul', 'Sachin', 'Sachin', 'Sachin', 'Sachin',\n",
              "       'Rahul', 'Sachin', 'Rahul', 'Sachin', 'Sachin', 'Sachin', 'Rahul',\n",
              "       'Sachin', 'Rahul', 'Sachin', 'Sachin', 'Sachin', 'Sachin', 'Rahul',\n",
              "       'Sachin', 'Rahul', 'Rahul', 'Sachin', 'Sachin', 'Rahul', 'Sachin',\n",
              "       'Rahul', 'Sachin', 'Sachin', 'Sachin', 'Sachin', 'Sachin',\n",
              "       'Sachin', 'Rahul', 'Rahul', 'Rahul', 'Sachin', 'Sachin', 'Sachin',\n",
              "       'Sachin', 'Rahul', 'Sachin', 'Rahul', 'Sachin', 'Sachin', 'Sachin',\n",
              "       'Sachin', 'Rahul', 'Rahul', 'Rahul', 'Sachin', 'Rahul', 'Sachin',\n",
              "       'Rahul', 'Sachin', 'Rahul', 'Sachin', 'Sachin', 'Rahul', 'Sachin',\n",
              "       'Rahul', 'Rahul', 'Sachin', 'Sachin', 'Rahul', 'Sachin', 'Sachin',\n",
              "       'Sachin', 'Sachin', 'Rahul', 'Sachin', 'Rahul', 'Rahul', 'Sachin',\n",
              "       'Sachin', 'Sachin', 'Sachin', 'Rahul', 'Rahul', 'Rahul', 'Sachin',\n",
              "       'Rahul', 'Rahul', 'Rahul', 'Rahul', 'Sachin', 'Rahul', 'Rahul',\n",
              "       'Sachin', 'Rahul', 'Rahul', 'Sachin', 'Rahul', 'Sachin', 'Sachin',\n",
              "       'Sachin', 'Rahul', 'Sachin', 'Rahul', 'Rahul', 'Rahul', 'Sachin',\n",
              "       'Sachin', 'Sachin', 'Rahul', 'Rahul', 'Sachin', 'Rahul', 'Sachin',\n",
              "       'Rahul', 'Rahul', 'Rahul', 'Rahul', 'Sachin', 'Sachin', 'Rahul',\n",
              "       'Sachin', 'Sachin'], dtype='<U6')"
            ]
          },
          "metadata": {
            "tags": []
          },
          "execution_count": 40
        }
      ]
    },
    {
      "cell_type": "code",
      "metadata": {
        "id": "90-dwxV8C4az",
        "colab_type": "code",
        "colab": {
          "base_uri": "https://localhost:8080/",
          "height": 51
        },
        "outputId": "c3d335b6-78cc-4f63-ac2e-e62412b8af53"
      },
      "source": [
        "# How many more runs does Sachin scores on average after having scored x runs.\n",
        "x_arr = np.arange(0, 101, 5)\n",
        "print(x_arr.shape)\n",
        "print(sachin_runs.shape)      # not compatible (21,) & (225,)"
      ],
      "execution_count": 44,
      "outputs": [
        {
          "output_type": "stream",
          "text": [
            "(21,)\n",
            "(225,)\n"
          ],
          "name": "stdout"
        }
      ]
    },
    {
      "cell_type": "code",
      "metadata": {
        "id": "lc0zz0WVSNgj",
        "colab_type": "code",
        "colab": {
          "base_uri": "https://localhost:8080/",
          "height": 34
        },
        "outputId": "23333b95-07bb-4d74-8545-8e97da1f1ae9"
      },
      "source": [
        "x_arr = x_arr.reshape(x_arr.shape[0], 1)\n",
        "print(x_arr.shape)"
      ],
      "execution_count": 47,
      "outputs": [
        {
          "output_type": "stream",
          "text": [
            "(21, 1)\n"
          ],
          "name": "stdout"
        }
      ]
    },
    {
      "cell_type": "code",
      "metadata": {
        "id": "tzqYRAIaSoYf",
        "colab_type": "code",
        "colab": {
          "base_uri": "https://localhost:8080/",
          "height": 34
        },
        "outputId": "7b949177-74f5-4ecd-b4c9-e8d9e12de991"
      },
      "source": [
        "indices = sachin_runs >= x_arr\n",
        "print(indices.shape)"
      ],
      "execution_count": 49,
      "outputs": [
        {
          "output_type": "stream",
          "text": [
            "(21, 225)\n"
          ],
          "name": "stdout"
        }
      ]
    },
    {
      "cell_type": "code",
      "metadata": {
        "id": "Jh4ziGRmS7n_",
        "colab_type": "code",
        "colab": {
          "base_uri": "https://localhost:8080/",
          "height": 374
        },
        "outputId": "2e519530-16d1-4f71-d1b6-e2a2cb21952b"
      },
      "source": [
        "for i in range(x_arr.shape[0]):\n",
        "  print(x_arr[i, 0],\n",
        "        np.mean(sachin_runs[indices[i, :]]) - x_arr[i, 0])"
      ],
      "execution_count": 52,
      "outputs": [
        {
          "output_type": "stream",
          "text": [
            "0 39.87555555555556\n",
            "5 45.61363636363637\n",
            "10 47.48026315789474\n",
            "15 47.45255474452555\n",
            "20 46.824\n",
            "25 44.10084033613445\n",
            "30 45.13461538461539\n",
            "35 43.24742268041237\n",
            "40 44.05882352941177\n",
            "45 43.41558441558442\n",
            "50 43.98529411764706\n",
            "55 42.317460317460316\n",
            "60 38.67213114754098\n",
            "65 37.654545454545456\n",
            "70 37.08163265306122\n",
            "75 34.347826086956516\n",
            "80 30.75\n",
            "85 28.650000000000006\n",
            "90 27.400000000000006\n",
            "95 26.433333333333337\n",
            "100 25.0\n"
          ],
          "name": "stdout"
        }
      ]
    },
    {
      "cell_type": "code",
      "metadata": {
        "id": "9pLqbsEkDLZf",
        "colab_type": "code",
        "colab": {
          "base_uri": "https://localhost:8080/",
          "height": 374
        },
        "outputId": "38f8c37d-54fc-40c2-9ddf-972fa001cda3"
      },
      "source": [
        "# How many matches did Sachin take to score first 1000 runs, next 1000 runs...\n",
        "sachin_runs"
      ],
      "execution_count": 53,
      "outputs": [
        {
          "output_type": "execute_result",
          "data": {
            "text/plain": [
              "array([100.,  11.,   8.,  71., 104.,  18.,   8.,  86.,  12.,  85.,  18.,\n",
              "         4.,   7.,  37.,  14.,   0.,   4.,   0.,  21.,   1.,  62.,   0.,\n",
              "       138.,  38.,   2.,  46.,  65.,   0.,  39.,  48., 141.,  62.,  12.,\n",
              "         1.,  41.,  11.,   3., 186.,  11.,  27.,  27.,  51.,  18.,  32.,\n",
              "       146.,   5.,  45., 141.,  12.,  65.,  27.,   7.,  16.,   2.,  28.,\n",
              "         6., 123., 120.,   7.,   3.,   0.,  81.,   2.,  54., 122.,   4.,\n",
              "        14.,   0., 100.,  15.,   0.,  57.,  99.,  37.,  38.,  32.,  21.,\n",
              "        32.,  40.,   0.,   5.,   8.,   5.,   0.,  50.,  30.,  37.,  89.,\n",
              "         4.,  98.,  83.,  93.,   0.,  52., 152.,   1.,   8.,  93.,  45.,\n",
              "        26.,   0.,   1.,   0.,  16.,  47.,  89.,   3.,   1.,  53.,  16.,\n",
              "         0.,  81.,  14.,  78.,   6., 105., 122.,   9.,   8.,  28.,  35.,\n",
              "        69.,  13.,  97.,  93.,   2.,  36.,  39.,   2.,  29.,  12.,  19.,\n",
              "        34.,   2., 100.,  44.,  82.,   0.,  79.,   6.,   9.,   8.,  23.,\n",
              "        93.,  35.,  63.,  74.,   8., 117.,  39.,  49.,  64.,  43.,  72.,\n",
              "         5.,  17.,   0.,  65.,  20., 141.,  28.,  44.,  27.,  60.,  68.,\n",
              "         3., 139.,  31.,   2.,  44.,  47.,   6.,  17.,  35.,  88., 114.,\n",
              "         7., 127.,   0.,  45.,  33., 110., 146.,   7.,  25.,   9.,   2.,\n",
              "        11.,  17.,  14.,   1.,  45.,  94.,  28.,   4.,  62.,   1.,   9.,\n",
              "        67.,  10.,  99.,  55.,   0.,   1., 101.,   2.,   1.,  16., 140.,\n",
              "        23., 113.,  10.,   1.,  41.,   1.,  28.,   2.,  22.,  29.,   1.,\n",
              "        25., 102.,   0.,  27.,  40.])"
            ]
          },
          "metadata": {
            "tags": []
          },
          "execution_count": 53
        }
      ]
    },
    {
      "cell_type": "code",
      "metadata": {
        "id": "SuSkrG-rVRWV",
        "colab_type": "code",
        "colab": {
          "base_uri": "https://localhost:8080/",
          "height": 340
        },
        "outputId": "f7093a67-ec38-4545-8546-b5f0fe54310d"
      },
      "source": [
        "sachin_cum_score = np.cumsum(sachin_runs)\n",
        "print(sachin_cum_score)"
      ],
      "execution_count": 54,
      "outputs": [
        {
          "output_type": "stream",
          "text": [
            "[ 100.  111.  119.  190.  294.  312.  320.  406.  418.  503.  521.  525.\n",
            "  532.  569.  583.  583.  587.  587.  608.  609.  671.  671.  809.  847.\n",
            "  849.  895.  960.  960.  999. 1047. 1188. 1250. 1262. 1263. 1304. 1315.\n",
            " 1318. 1504. 1515. 1542. 1569. 1620. 1638. 1670. 1816. 1821. 1866. 2007.\n",
            " 2019. 2084. 2111. 2118. 2134. 2136. 2164. 2170. 2293. 2413. 2420. 2423.\n",
            " 2423. 2504. 2506. 2560. 2682. 2686. 2700. 2700. 2800. 2815. 2815. 2872.\n",
            " 2971. 3008. 3046. 3078. 3099. 3131. 3171. 3171. 3176. 3184. 3189. 3189.\n",
            " 3239. 3269. 3306. 3395. 3399. 3497. 3580. 3673. 3673. 3725. 3877. 3878.\n",
            " 3886. 3979. 4024. 4050. 4050. 4051. 4051. 4067. 4114. 4203. 4206. 4207.\n",
            " 4260. 4276. 4276. 4357. 4371. 4449. 4455. 4560. 4682. 4691. 4699. 4727.\n",
            " 4762. 4831. 4844. 4941. 5034. 5036. 5072. 5111. 5113. 5142. 5154. 5173.\n",
            " 5207. 5209. 5309. 5353. 5435. 5435. 5514. 5520. 5529. 5537. 5560. 5653.\n",
            " 5688. 5751. 5825. 5833. 5950. 5989. 6038. 6102. 6145. 6217. 6222. 6239.\n",
            " 6239. 6304. 6324. 6465. 6493. 6537. 6564. 6624. 6692. 6695. 6834. 6865.\n",
            " 6867. 6911. 6958. 6964. 6981. 7016. 7104. 7218. 7225. 7352. 7352. 7397.\n",
            " 7430. 7540. 7686. 7693. 7718. 7727. 7729. 7740. 7757. 7771. 7772. 7817.\n",
            " 7911. 7939. 7943. 8005. 8006. 8015. 8082. 8092. 8191. 8246. 8246. 8247.\n",
            " 8348. 8350. 8351. 8367. 8507. 8530. 8643. 8653. 8654. 8695. 8696. 8724.\n",
            " 8726. 8748. 8777. 8778. 8803. 8905. 8905. 8932. 8972.]\n"
          ],
          "name": "stdout"
        }
      ]
    },
    {
      "cell_type": "code",
      "metadata": {
        "id": "Ovo6oaGGVceg",
        "colab_type": "code",
        "colab": {
          "base_uri": "https://localhost:8080/",
          "height": 51
        },
        "outputId": "b89b92a6-cdf6-4d68-bd6f-94399a46a2ca"
      },
      "source": [
        "np.histogram(sachin_cum_score, bins=np.arange(0, 10000, 1000))"
      ],
      "execution_count": 56,
      "outputs": [
        {
          "output_type": "execute_result",
          "data": {
            "text/plain": [
              "(array([29, 18, 26, 25, 26, 26, 23, 22, 30]),\n",
              " array([   0, 1000, 2000, 3000, 4000, 5000, 6000, 7000, 8000, 9000]))"
            ]
          },
          "metadata": {
            "tags": []
          },
          "execution_count": 56
        }
      ]
    },
    {
      "cell_type": "markdown",
      "metadata": {
        "id": "ZngAtXpZoN3w",
        "colab_type": "text"
      },
      "source": [
        "# Exercise:"
      ]
    },
    {
      "cell_type": "code",
      "metadata": {
        "id": "qolPm9WJaUgO",
        "colab_type": "code",
        "colab": {}
      },
      "source": [
        "# Write a program to multiply two matrices of size  (100,100)  in two methods: (a) by using np.dot(mat_1, mat_2) and (b) by using for-loops. Comapre the time of execution in both the case.\n",
        "\n",
        "mat_1 = np.random.rand(100, 100)\n",
        "mat_2 = np.random.rand(100, 100)\n",
        "result = np.zeros([100, 100])"
      ],
      "execution_count": 20,
      "outputs": []
    },
    {
      "cell_type": "code",
      "metadata": {
        "id": "S_qH99EDpnxe",
        "colab_type": "code",
        "colab": {
          "base_uri": "https://localhost:8080/",
          "height": 51
        },
        "outputId": "b1a3475b-a1b8-4681-eb2e-b3c496504306"
      },
      "source": [
        "%%time\n",
        "for i in range(100):\n",
        "    for j in range(100):\n",
        "        sum = 0\n",
        "        for k in range(100):\n",
        "            sum = sum + mat_1[i][k] * mat_2[k][j]\n",
        "        result[i][j] = sum"
      ],
      "execution_count": 29,
      "outputs": [
        {
          "output_type": "stream",
          "text": [
            "CPU times: user 994 ms, sys: 0 ns, total: 994 ms\n",
            "Wall time: 995 ms\n"
          ],
          "name": "stdout"
        }
      ]
    },
    {
      "cell_type": "code",
      "metadata": {
        "id": "x3rwnnVsqFGK",
        "colab_type": "code",
        "colab": {
          "base_uri": "https://localhost:8080/",
          "height": 34
        },
        "outputId": "288b88f3-af3e-4d1a-ab21-4133771d16b2"
      },
      "source": [
        "result.sum()"
      ],
      "execution_count": 30,
      "outputs": [
        {
          "output_type": "execute_result",
          "data": {
            "text/plain": [
              "248570.16739871414"
            ]
          },
          "metadata": {
            "tags": []
          },
          "execution_count": 30
        }
      ]
    },
    {
      "cell_type": "code",
      "metadata": {
        "id": "-IOqmP6Rr0yQ",
        "colab_type": "code",
        "colab": {
          "base_uri": "https://localhost:8080/",
          "height": 51
        },
        "outputId": "a23bc7a4-ce42-4a04-897b-a8c45f0c18fc"
      },
      "source": [
        "%%time\n",
        "result = np.dot(mat_1, mat_2)"
      ],
      "execution_count": 31,
      "outputs": [
        {
          "output_type": "stream",
          "text": [
            "CPU times: user 1.59 ms, sys: 760 µs, total: 2.35 ms\n",
            "Wall time: 3.13 ms\n"
          ],
          "name": "stdout"
        }
      ]
    },
    {
      "cell_type": "code",
      "metadata": {
        "id": "tIZMRxa3s1SM",
        "colab_type": "code",
        "colab": {
          "base_uri": "https://localhost:8080/",
          "height": 34
        },
        "outputId": "8993bf06-1fa3-4133-9985-8fab6de77e95"
      },
      "source": [
        "result.sum()"
      ],
      "execution_count": 32,
      "outputs": [
        {
          "output_type": "execute_result",
          "data": {
            "text/plain": [
              "248570.16739871414"
            ]
          },
          "metadata": {
            "tags": []
          },
          "execution_count": 32
        }
      ]
    },
    {
      "cell_type": "code",
      "metadata": {
        "id": "aLxJo1rctH7c",
        "colab_type": "code",
        "colab": {}
      },
      "source": [
        ""
      ],
      "execution_count": null,
      "outputs": []
    }
  ]
}