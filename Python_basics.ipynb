{
  "nbformat": 4,
  "nbformat_minor": 0,
  "metadata": {
    "colab": {
      "name": "Python_basics.ipynb",
      "provenance": [],
      "collapsed_sections": []
    },
    "kernelspec": {
      "name": "python3",
      "display_name": "Python 3"
    }
  },
  "cells": [
    {
      "cell_type": "markdown",
      "metadata": {
        "id": "MOnwOazX9h6a",
        "colab_type": "text"
      },
      "source": [
        "**None Type**\n",
        "*and*\n",
        "**Try except**"
      ]
    },
    {
      "cell_type": "code",
      "metadata": {
        "id": "Jnfz0hx6ORZ2",
        "colab_type": "code",
        "colab": {}
      },
      "source": [
        "def input_single_float(prompt):\n",
        "  \"\"\"\n",
        "  This prompts user to input, and then converts this to a single float\n",
        "  \"\"\"\n",
        "  user_input = input(prompt)\n",
        "  output = float(user_input)\n",
        "  return output"
      ],
      "execution_count": 1,
      "outputs": []
    },
    {
      "cell_type": "code",
      "metadata": {
        "id": "VDZUo8OVAcH3",
        "colab_type": "code",
        "colab": {}
      },
      "source": [
        "input_single_float?"
      ],
      "execution_count": 21,
      "outputs": []
    },
    {
      "cell_type": "code",
      "metadata": {
        "id": "C1WszcFMYEH1",
        "colab_type": "code",
        "colab": {
          "base_uri": "https://localhost:8080/",
          "height": 51
        },
        "outputId": "adc27336-76e1-4366-9b44-8d0dd74e1bde"
      },
      "source": [
        "input_single_float(\"Enter PI: \")"
      ],
      "execution_count": 4,
      "outputs": [
        {
          "output_type": "stream",
          "text": [
            "Enter PI: 3.14\n"
          ],
          "name": "stdout"
        },
        {
          "output_type": "execute_result",
          "data": {
            "text/plain": [
              "3.14"
            ]
          },
          "metadata": {
            "tags": []
          },
          "execution_count": 4
        }
      ]
    },
    {
      "cell_type": "code",
      "metadata": {
        "id": "y3O8zRelsQBB",
        "colab_type": "code",
        "colab": {
          "base_uri": "https://localhost:8080/",
          "height": 282
        },
        "outputId": "1d75ec84-bbfb-4474-ecdd-c7401e2fff55"
      },
      "source": [
        "input_single_float(\"Enter PI: \")"
      ],
      "execution_count": 5,
      "outputs": [
        {
          "output_type": "stream",
          "text": [
            "Enter PI: PI\n"
          ],
          "name": "stdout"
        },
        {
          "output_type": "error",
          "ename": "ValueError",
          "evalue": "ignored",
          "traceback": [
            "\u001b[0;31m---------------------------------------------------------------------------\u001b[0m",
            "\u001b[0;31mValueError\u001b[0m                                Traceback (most recent call last)",
            "\u001b[0;32m<ipython-input-5-2bcc4b25fb5c>\u001b[0m in \u001b[0;36m<module>\u001b[0;34m()\u001b[0m\n\u001b[0;32m----> 1\u001b[0;31m \u001b[0minput_single_float\u001b[0m\u001b[0;34m(\u001b[0m\u001b[0;34m\"Enter PI: \"\u001b[0m\u001b[0;34m)\u001b[0m\u001b[0;34m\u001b[0m\u001b[0;34m\u001b[0m\u001b[0m\n\u001b[0m",
            "\u001b[0;32m<ipython-input-1-ad00c48203cc>\u001b[0m in \u001b[0;36minput_single_float\u001b[0;34m(prompt)\u001b[0m\n\u001b[1;32m      4\u001b[0m   \"\"\"\n\u001b[1;32m      5\u001b[0m   \u001b[0muser_input\u001b[0m \u001b[0;34m=\u001b[0m \u001b[0minput\u001b[0m\u001b[0;34m(\u001b[0m\u001b[0mprompt\u001b[0m\u001b[0;34m)\u001b[0m\u001b[0;34m\u001b[0m\u001b[0;34m\u001b[0m\u001b[0m\n\u001b[0;32m----> 6\u001b[0;31m   \u001b[0moutput\u001b[0m \u001b[0;34m=\u001b[0m \u001b[0mfloat\u001b[0m\u001b[0;34m(\u001b[0m\u001b[0muser_input\u001b[0m\u001b[0;34m)\u001b[0m\u001b[0;34m\u001b[0m\u001b[0;34m\u001b[0m\u001b[0m\n\u001b[0m\u001b[1;32m      7\u001b[0m   \u001b[0;32mreturn\u001b[0m \u001b[0moutput\u001b[0m\u001b[0;34m\u001b[0m\u001b[0;34m\u001b[0m\u001b[0m\n",
            "\u001b[0;31mValueError\u001b[0m: could not convert string to float: 'PI'"
          ]
        }
      ]
    },
    {
      "cell_type": "code",
      "metadata": {
        "id": "krExRvVTsmna",
        "colab_type": "code",
        "colab": {}
      },
      "source": [
        "def input_single_float(prompt):\n",
        "  \"\"\"\n",
        "  This prompts user to input, and then converts this to a single float\n",
        "  \"\"\"\n",
        "  user_input = input(prompt)\n",
        "  try:\n",
        "    output = float(user_input)\n",
        "  except ValueError:\n",
        "    print(\"Input value must be float\")\n",
        "  return output"
      ],
      "execution_count": 6,
      "outputs": []
    },
    {
      "cell_type": "code",
      "metadata": {
        "id": "bABOhJeOs7F4",
        "colab_type": "code",
        "colab": {
          "base_uri": "https://localhost:8080/",
          "height": 282
        },
        "outputId": "aa942ad6-650c-4572-abfa-0d17b331a4f2"
      },
      "source": [
        "input_single_float(\"Enter PI: \")"
      ],
      "execution_count": 7,
      "outputs": [
        {
          "output_type": "stream",
          "text": [
            "Enter PI: PI\n",
            "Input value must be float\n"
          ],
          "name": "stdout"
        },
        {
          "output_type": "error",
          "ename": "UnboundLocalError",
          "evalue": "ignored",
          "traceback": [
            "\u001b[0;31m---------------------------------------------------------------------------\u001b[0m",
            "\u001b[0;31mUnboundLocalError\u001b[0m                         Traceback (most recent call last)",
            "\u001b[0;32m<ipython-input-7-2bcc4b25fb5c>\u001b[0m in \u001b[0;36m<module>\u001b[0;34m()\u001b[0m\n\u001b[0;32m----> 1\u001b[0;31m \u001b[0minput_single_float\u001b[0m\u001b[0;34m(\u001b[0m\u001b[0;34m\"Enter PI: \"\u001b[0m\u001b[0;34m)\u001b[0m\u001b[0;34m\u001b[0m\u001b[0;34m\u001b[0m\u001b[0m\n\u001b[0m",
            "\u001b[0;32m<ipython-input-6-769c6aeccc25>\u001b[0m in \u001b[0;36minput_single_float\u001b[0;34m(prompt)\u001b[0m\n\u001b[1;32m      8\u001b[0m   \u001b[0;32mexcept\u001b[0m \u001b[0mValueError\u001b[0m\u001b[0;34m:\u001b[0m\u001b[0;34m\u001b[0m\u001b[0;34m\u001b[0m\u001b[0m\n\u001b[1;32m      9\u001b[0m     \u001b[0mprint\u001b[0m\u001b[0;34m(\u001b[0m\u001b[0;34m\"Input value must be float\"\u001b[0m\u001b[0;34m)\u001b[0m\u001b[0;34m\u001b[0m\u001b[0;34m\u001b[0m\u001b[0m\n\u001b[0;32m---> 10\u001b[0;31m   \u001b[0;32mreturn\u001b[0m \u001b[0moutput\u001b[0m\u001b[0;34m\u001b[0m\u001b[0;34m\u001b[0m\u001b[0m\n\u001b[0m",
            "\u001b[0;31mUnboundLocalError\u001b[0m: local variable 'output' referenced before assignment"
          ]
        }
      ]
    },
    {
      "cell_type": "code",
      "metadata": {
        "id": "mFY-aY0GKKJZ",
        "colab_type": "code",
        "colab": {}
      },
      "source": [
        "def input_single_float(prompt):\n",
        "  \"\"\"\n",
        "  This prompts user to input, and then converts this to a single float\n",
        "  \"\"\"\n",
        "  user_input = input(prompt)\n",
        "  try:\n",
        "    output = float(user_input)\n",
        "  except ValueError:\n",
        "    print(\"Input value must be float\")\n",
        "    output = None\n",
        "  return output"
      ],
      "execution_count": 11,
      "outputs": []
    },
    {
      "cell_type": "code",
      "metadata": {
        "id": "F1wmOg-4LMfS",
        "colab_type": "code",
        "colab": {
          "base_uri": "https://localhost:8080/",
          "height": 51
        },
        "outputId": "afc655ac-ddbb-405c-92d5-b87be6d1f17c"
      },
      "source": [
        "input_single_float(\"Enter PI: \")"
      ],
      "execution_count": 12,
      "outputs": [
        {
          "output_type": "stream",
          "text": [
            "Enter PI: PI\n",
            "Input value must be float\n"
          ],
          "name": "stdout"
        }
      ]
    },
    {
      "cell_type": "code",
      "metadata": {
        "id": "TWnN8PrINgCu",
        "colab_type": "code",
        "colab": {}
      },
      "source": [
        "def input_single_float_inverse(prompt):\n",
        "  \"\"\"\n",
        "  This prompts user to input, and then converts this to a single float\n",
        "  \"\"\"\n",
        "  user_input = input(prompt)\n",
        "  try:\n",
        "    output = 1/float(user_input)\n",
        "  except ValueError:\n",
        "    print(\"Input value must be float\")\n",
        "    output = None\n",
        "  return output"
      ],
      "execution_count": 14,
      "outputs": []
    },
    {
      "cell_type": "code",
      "metadata": {
        "id": "pNZq9prE_yE5",
        "colab_type": "code",
        "colab": {
          "base_uri": "https://localhost:8080/",
          "height": 51
        },
        "outputId": "73907bc5-0672-4a1b-ad7c-994099e89f41"
      },
      "source": [
        "input_single_float_inverse(\"Enter a number: \")"
      ],
      "execution_count": 16,
      "outputs": [
        {
          "output_type": "stream",
          "text": [
            "Enter a number: 10\n"
          ],
          "name": "stdout"
        },
        {
          "output_type": "execute_result",
          "data": {
            "text/plain": [
              "0.1"
            ]
          },
          "metadata": {
            "tags": []
          },
          "execution_count": 16
        }
      ]
    },
    {
      "cell_type": "code",
      "metadata": {
        "id": "KBupk8Ni_4xr",
        "colab_type": "code",
        "colab": {
          "base_uri": "https://localhost:8080/",
          "height": 333
        },
        "outputId": "ac5301b3-a727-47d8-d443-56821dbc3a7d"
      },
      "source": [
        "def input_single_float_inverse(prompt):\n",
        "  \"\"\"\n",
        "  This prompts user to input, and then converts this to a single float\n",
        "  \"\"\"\n",
        "  user_input = input(prompt)\n",
        "  try:\n",
        "    output = 1/float(user_input)\n",
        "  except ValueError:\n",
        "    print(\"Input value must be float\")\n",
        "    output = None\n",
        "  return output\n",
        "\n",
        "input_single_float_inverse(\"Enter a number: \")"
      ],
      "execution_count": 18,
      "outputs": [
        {
          "output_type": "stream",
          "text": [
            "Enter a number: 0\n"
          ],
          "name": "stdout"
        },
        {
          "output_type": "error",
          "ename": "ZeroDivisionError",
          "evalue": "ignored",
          "traceback": [
            "\u001b[0;31m---------------------------------------------------------------------------\u001b[0m",
            "\u001b[0;31mZeroDivisionError\u001b[0m                         Traceback (most recent call last)",
            "\u001b[0;32m<ipython-input-18-40951edd231b>\u001b[0m in \u001b[0;36m<module>\u001b[0;34m()\u001b[0m\n\u001b[1;32m     11\u001b[0m   \u001b[0;32mreturn\u001b[0m \u001b[0moutput\u001b[0m\u001b[0;34m\u001b[0m\u001b[0;34m\u001b[0m\u001b[0m\n\u001b[1;32m     12\u001b[0m \u001b[0;34m\u001b[0m\u001b[0m\n\u001b[0;32m---> 13\u001b[0;31m \u001b[0minput_single_float_inverse\u001b[0m\u001b[0;34m(\u001b[0m\u001b[0;34m\"Enter a number: \"\u001b[0m\u001b[0;34m)\u001b[0m\u001b[0;34m\u001b[0m\u001b[0;34m\u001b[0m\u001b[0m\n\u001b[0m",
            "\u001b[0;32m<ipython-input-18-40951edd231b>\u001b[0m in \u001b[0;36minput_single_float_inverse\u001b[0;34m(prompt)\u001b[0m\n\u001b[1;32m      5\u001b[0m   \u001b[0muser_input\u001b[0m \u001b[0;34m=\u001b[0m \u001b[0minput\u001b[0m\u001b[0;34m(\u001b[0m\u001b[0mprompt\u001b[0m\u001b[0;34m)\u001b[0m\u001b[0;34m\u001b[0m\u001b[0;34m\u001b[0m\u001b[0m\n\u001b[1;32m      6\u001b[0m   \u001b[0;32mtry\u001b[0m\u001b[0;34m:\u001b[0m\u001b[0;34m\u001b[0m\u001b[0;34m\u001b[0m\u001b[0m\n\u001b[0;32m----> 7\u001b[0;31m     \u001b[0moutput\u001b[0m \u001b[0;34m=\u001b[0m \u001b[0;36m1\u001b[0m\u001b[0;34m/\u001b[0m\u001b[0mfloat\u001b[0m\u001b[0;34m(\u001b[0m\u001b[0muser_input\u001b[0m\u001b[0;34m)\u001b[0m\u001b[0;34m\u001b[0m\u001b[0;34m\u001b[0m\u001b[0m\n\u001b[0m\u001b[1;32m      8\u001b[0m   \u001b[0;32mexcept\u001b[0m \u001b[0mValueError\u001b[0m\u001b[0;34m:\u001b[0m\u001b[0;34m\u001b[0m\u001b[0;34m\u001b[0m\u001b[0m\n\u001b[1;32m      9\u001b[0m     \u001b[0mprint\u001b[0m\u001b[0;34m(\u001b[0m\u001b[0;34m\"Input value must be float\"\u001b[0m\u001b[0;34m)\u001b[0m\u001b[0;34m\u001b[0m\u001b[0;34m\u001b[0m\u001b[0m\n",
            "\u001b[0;31mZeroDivisionError\u001b[0m: float division by zero"
          ]
        }
      ]
    },
    {
      "cell_type": "code",
      "metadata": {
        "id": "sApQp4a8_9Fr",
        "colab_type": "code",
        "colab": {
          "base_uri": "https://localhost:8080/",
          "height": 350
        },
        "outputId": "95660ed7-7b9b-4eac-dedf-7a091b6b1bbe"
      },
      "source": [
        "def input_single_float_inverse(prompt):\n",
        "  \"\"\"\n",
        "  This prompts user to input, and then converts this to a single float\n",
        "  \"\"\"\n",
        "  user_input = input(prompt)\n",
        "  try:\n",
        "    output = 1/float(user_input)\n",
        "  except ValueError:\n",
        "    print(\"Input value must be float\")\n",
        "    output = None\n",
        "  except ZeroDivisionError:\n",
        "    print(\"Input value must not be zero\")\n",
        "  return output\n",
        "\n",
        "input_single_float_inverse(\"Enter a number: \")"
      ],
      "execution_count": 19,
      "outputs": [
        {
          "output_type": "stream",
          "text": [
            "Enter a number: 0\n",
            "Input value must not be zero\n"
          ],
          "name": "stdout"
        },
        {
          "output_type": "error",
          "ename": "UnboundLocalError",
          "evalue": "ignored",
          "traceback": [
            "\u001b[0;31m---------------------------------------------------------------------------\u001b[0m",
            "\u001b[0;31mUnboundLocalError\u001b[0m                         Traceback (most recent call last)",
            "\u001b[0;32m<ipython-input-19-2f3197e88b5a>\u001b[0m in \u001b[0;36m<module>\u001b[0;34m()\u001b[0m\n\u001b[1;32m     13\u001b[0m   \u001b[0;32mreturn\u001b[0m \u001b[0moutput\u001b[0m\u001b[0;34m\u001b[0m\u001b[0;34m\u001b[0m\u001b[0m\n\u001b[1;32m     14\u001b[0m \u001b[0;34m\u001b[0m\u001b[0m\n\u001b[0;32m---> 15\u001b[0;31m \u001b[0minput_single_float_inverse\u001b[0m\u001b[0;34m(\u001b[0m\u001b[0;34m\"Enter a number: \"\u001b[0m\u001b[0;34m)\u001b[0m\u001b[0;34m\u001b[0m\u001b[0;34m\u001b[0m\u001b[0m\n\u001b[0m",
            "\u001b[0;32m<ipython-input-19-2f3197e88b5a>\u001b[0m in \u001b[0;36minput_single_float_inverse\u001b[0;34m(prompt)\u001b[0m\n\u001b[1;32m     11\u001b[0m   \u001b[0;32mexcept\u001b[0m \u001b[0mZeroDivisionError\u001b[0m\u001b[0;34m:\u001b[0m\u001b[0;34m\u001b[0m\u001b[0;34m\u001b[0m\u001b[0m\n\u001b[1;32m     12\u001b[0m     \u001b[0mprint\u001b[0m\u001b[0;34m(\u001b[0m\u001b[0;34m\"Input value must not be zero\"\u001b[0m\u001b[0;34m)\u001b[0m\u001b[0;34m\u001b[0m\u001b[0;34m\u001b[0m\u001b[0m\n\u001b[0;32m---> 13\u001b[0;31m   \u001b[0;32mreturn\u001b[0m \u001b[0moutput\u001b[0m\u001b[0;34m\u001b[0m\u001b[0;34m\u001b[0m\u001b[0m\n\u001b[0m\u001b[1;32m     14\u001b[0m \u001b[0;34m\u001b[0m\u001b[0m\n\u001b[1;32m     15\u001b[0m \u001b[0minput_single_float_inverse\u001b[0m\u001b[0;34m(\u001b[0m\u001b[0;34m\"Enter a number: \"\u001b[0m\u001b[0;34m)\u001b[0m\u001b[0;34m\u001b[0m\u001b[0;34m\u001b[0m\u001b[0m\n",
            "\u001b[0;31mUnboundLocalError\u001b[0m: local variable 'output' referenced before assignment"
          ]
        }
      ]
    },
    {
      "cell_type": "code",
      "metadata": {
        "id": "SomFe3GFAOS6",
        "colab_type": "code",
        "colab": {
          "base_uri": "https://localhost:8080/",
          "height": 51
        },
        "outputId": "dbae6fb9-1e73-48c8-ae0d-a650560fa054"
      },
      "source": [
        "def input_single_float_inverse(prompt):\n",
        "  \"\"\"\n",
        "  This prompts user to input, and then converts this to a single float\n",
        "  \"\"\"\n",
        "  user_input = input(prompt)\n",
        "  output = None\n",
        "  try:\n",
        "    output = 1/float(user_input)\n",
        "  except ValueError:\n",
        "    print(\"Input value must be float\")\n",
        "  except ZeroDivisionError:\n",
        "    print(\"Input value must not be zero\")\n",
        "  return output\n",
        "\n",
        "input_single_float_inverse(\"Enter a number: \")"
      ],
      "execution_count": 20,
      "outputs": [
        {
          "output_type": "stream",
          "text": [
            "Enter a number: 0\n",
            "Input value must not be zero\n"
          ],
          "name": "stdout"
        }
      ]
    },
    {
      "cell_type": "markdown",
      "metadata": {
        "id": "ONxcq7-LA-NI",
        "colab_type": "text"
      },
      "source": [
        "# List"
      ]
    },
    {
      "cell_type": "code",
      "metadata": {
        "id": "Nzge8obiATse",
        "colab_type": "code",
        "colab": {}
      },
      "source": [
        "course_name = \"Foundation of Data Science\""
      ],
      "execution_count": 28,
      "outputs": []
    },
    {
      "cell_type": "code",
      "metadata": {
        "id": "f1UyfHaWBR2b",
        "colab_type": "code",
        "colab": {}
      },
      "source": [
        "words = course_name.split()"
      ],
      "execution_count": 41,
      "outputs": []
    },
    {
      "cell_type": "code",
      "metadata": {
        "id": "EGr1gzZLBV1Z",
        "colab_type": "code",
        "colab": {
          "base_uri": "https://localhost:8080/",
          "height": 34
        },
        "outputId": "51cb2f1f-2891-4edb-fab5-e4979cd72b96"
      },
      "source": [
        "print(words)"
      ],
      "execution_count": 42,
      "outputs": [
        {
          "output_type": "stream",
          "text": [
            "['Foundation', 'of', 'Data', 'Science']\n"
          ],
          "name": "stdout"
        }
      ]
    },
    {
      "cell_type": "code",
      "metadata": {
        "id": "0-LAbK1JBYof",
        "colab_type": "code",
        "colab": {}
      },
      "source": [
        "str.split?"
      ],
      "execution_count": 26,
      "outputs": []
    },
    {
      "cell_type": "code",
      "metadata": {
        "id": "y9de2PclVzyf",
        "colab_type": "code",
        "colab": {}
      },
      "source": [
        "def square_matrix_power(A, n):\n",
        "  output = [item[:] for item in A]\n",
        "  temp= [item[:] for item in A]\n",
        "  for i in range(n-1):\n",
        "    output[0][0] = A[0][0] * temp[0][0] + A[0][1] * temp[1][0]\n",
        "    output[0][1] = A[0][0] * temp[0][1] + A[0][1] * temp[1][1]\n",
        "    output[1][0] = A[1][0] * temp[0][0] + A[1][1] * temp[1][0]\n",
        "    output[1][1] = A[1][0] * temp[0][1] + A[1][1] * temp[1][1]\n",
        "    temp= [item[:] for item in output]\n",
        "  return output\n",
        "\n"
      ],
      "execution_count": 33,
      "outputs": []
    },
    {
      "cell_type": "code",
      "metadata": {
        "id": "aUNBFpLcV6ZW",
        "colab_type": "code",
        "colab": {}
      },
      "source": [
        "A = [\n",
        "     [1, 1],\n",
        "     [1, 0]\n",
        "]"
      ],
      "execution_count": 34,
      "outputs": []
    },
    {
      "cell_type": "code",
      "metadata": {
        "id": "AVFCPdUcWBVK",
        "colab_type": "code",
        "colab": {
          "base_uri": "https://localhost:8080/",
          "height": 34
        },
        "outputId": "57d32c4a-9735-4d30-d21f-16989e463684"
      },
      "source": [
        "square_matrix_power(A, 2)"
      ],
      "execution_count": 36,
      "outputs": [
        {
          "output_type": "execute_result",
          "data": {
            "text/plain": [
              "[[2, 1], [1, 1]]"
            ]
          },
          "metadata": {
            "tags": []
          },
          "execution_count": 36
        }
      ]
    },
    {
      "cell_type": "code",
      "metadata": {
        "id": "IdY1sXqdWB5w",
        "colab_type": "code",
        "colab": {
          "base_uri": "https://localhost:8080/",
          "height": 187
        },
        "outputId": "2236d958-cd21-4d16-a03e-eb48ea222bb7"
      },
      "source": [
        "for i in range(0,10):\n",
        "  output = square_matrix_power(A, i)\n",
        "  print(i, output[0][0])"
      ],
      "execution_count": 37,
      "outputs": [
        {
          "output_type": "stream",
          "text": [
            "0 1\n",
            "1 1\n",
            "2 2\n",
            "3 3\n",
            "4 5\n",
            "5 8\n",
            "6 13\n",
            "7 21\n",
            "8 34\n",
            "9 55\n"
          ],
          "name": "stdout"
        }
      ]
    },
    {
      "cell_type": "markdown",
      "metadata": {
        "id": "vp_nM1XZQ8Hr",
        "colab_type": "text"
      },
      "source": [
        "# Tuples, sets and dictionaries\n",
        "\n",
        "**Tuples are best for storing constant data and are faster than lists**\n",
        "\n",
        "**Sets are faster in searching**\n",
        "\n"
      ]
    },
    {
      "cell_type": "markdown",
      "metadata": {
        "id": "_vrOkYwXanvm",
        "colab_type": "text"
      },
      "source": [
        "# Files"
      ]
    },
    {
      "cell_type": "code",
      "metadata": {
        "id": "2uafK7hHPAHH",
        "colab_type": "code",
        "colab": {}
      },
      "source": [
        "%%bash\n",
        "touch poem.txt"
      ],
      "execution_count": 38,
      "outputs": []
    },
    {
      "cell_type": "code",
      "metadata": {
        "id": "LKmIpAPXfH76",
        "colab_type": "code",
        "colab": {}
      },
      "source": [
        "with open(\"poem.txt\", \"w\") as f: \n",
        "  f.writelines([\"twinkle twinkle little star\", \"\\n\", \"how I wonder what you are\"])"
      ],
      "execution_count": 78,
      "outputs": []
    },
    {
      "cell_type": "code",
      "metadata": {
        "id": "8kuS1yjZdAvU",
        "colab_type": "code",
        "colab": {
          "base_uri": "https://localhost:8080/",
          "height": 54
        },
        "outputId": "30441427-aaa5-4466-bb0d-587b02c6483d"
      },
      "source": [
        "with open(\"poem.txt\", \"r\") as f:\n",
        "   output = f.readlines()\n",
        "   print(output)"
      ],
      "execution_count": 2,
      "outputs": [
        {
          "output_type": "stream",
          "text": [
            "['Unending Love by Rabindranath Tagore\\n', '\\n', 'I seem to have loved you in numberless forms, numberless times\\n', 'In life after life, in age after age, forever.\\n', 'My spellbound heart has made and remade the necklace of songs,\\n', 'That you take as a gift, wear round your neck in your many forms,\\n', 'In life after life, in age after age, forever.\\n', '\\n', 'Whenever I hear old chronicles of love, its age-old pain,\\n', 'Its ancient tale of being apart or together.\\n', 'As I stare on and on into the past, in the end you emerge,\\n', 'Clad in the light of a pole-star piercing the darkness of time:\\n', 'You become an image of what is remembered forever.\\n', '\\n', 'You and I have floated here on the stream that brings from the fount.\\n', 'At the heart of time, love of one for another.\\n', 'We have played along side millions of lovers, shared in the same\\n', 'Shy sweetness of meeting, the same distressful tears of farewell-\\n', 'Old love but in shapes that renew and renew forever.\\n', '\\n', 'Today it is heaped at your feet, it has found its end in you\\n', 'The love of all man’s days both past and forever:\\n', 'Universal joy, universal sorrow, universal life.\\n', 'The memories of all loves merging with this one love of ours –\\n', 'And the songs of every poet past and forever.']\n"
          ],
          "name": "stdout"
        }
      ]
    },
    {
      "cell_type": "code",
      "metadata": {
        "id": "cl5e5d2gdLIy",
        "colab_type": "code",
        "colab": {
          "base_uri": "https://localhost:8080/",
          "height": 442
        },
        "outputId": "0d68857b-2981-4e0e-f921-a3a4e0c3c66b"
      },
      "source": [
        "i = 0\n",
        "for line in output:\n",
        "  print(i, '\\t', line.strip())\n",
        "  i += 1"
      ],
      "execution_count": 67,
      "outputs": [
        {
          "output_type": "stream",
          "text": [
            "0 \t Unending Love by Rabindranath Tagore\n",
            "1 \t \n",
            "2 \t I seem to have loved you in numberless forms, numberless times\n",
            "3 \t In life after life, in age after age, forever.\n",
            "4 \t My spellbound heart has made and remade the necklace of songs,\n",
            "5 \t That you take as a gift, wear round your neck in your many forms,\n",
            "6 \t In life after life, in age after age, forever.\n",
            "7 \t \n",
            "8 \t Whenever I hear old chronicles of love, its age-old pain,\n",
            "9 \t Its ancient tale of being apart or together.\n",
            "10 \t As I stare on and on into the past, in the end you emerge,\n",
            "11 \t Clad in the light of a pole-star piercing the darkness of time:\n",
            "12 \t You become an image of what is remembered forever.\n",
            "13 \t \n",
            "14 \t You and I have floated here on the stream that brings from the fount.\n",
            "15 \t At the heart of time, love of one for another.\n",
            "16 \t We have played along side millions of lovers, shared in the same\n",
            "17 \t Shy sweetness of meeting, the same distressful tears of farewell-\n",
            "18 \t Old love but in shapes that renew and renew forever.\n",
            "19 \t \n",
            "20 \t Today it is heaped at your feet, it has found its end in you\n",
            "21 \t The love of all man’s days both past and forever:\n",
            "22 \t Universal joy, universal sorrow, universal life.\n",
            "23 \t The memories of all loves merging with this one love of ours –\n",
            "24 \t And the songs of every poet past and forever.\n"
          ],
          "name": "stdout"
        }
      ]
    },
    {
      "cell_type": "code",
      "metadata": {
        "id": "RHP7dxxN5SfU",
        "colab_type": "code",
        "colab": {
          "base_uri": "https://localhost:8080/",
          "height": 54
        },
        "outputId": "0d89739c-8c40-4b77-bd19-be20fe9c4bef"
      },
      "source": [
        "words = ' '.join(output).lower().split()\n",
        "print(words)"
      ],
      "execution_count": 33,
      "outputs": [
        {
          "output_type": "stream",
          "text": [
            "['unending', 'love', 'by', 'rabindranath', 'tagore', 'i', 'seem', 'to', 'have', 'loved', 'you', 'in', 'numberless', 'forms,', 'numberless', 'times', 'in', 'life', 'after', 'life,', 'in', 'age', 'after', 'age,', 'forever.', 'my', 'spellbound', 'heart', 'has', 'made', 'and', 'remade', 'the', 'necklace', 'of', 'songs,', 'that', 'you', 'take', 'as', 'a', 'gift,', 'wear', 'round', 'your', 'neck', 'in', 'your', 'many', 'forms,', 'in', 'life', 'after', 'life,', 'in', 'age', 'after', 'age,', 'forever.', 'whenever', 'i', 'hear', 'old', 'chronicles', 'of', 'love,', 'its', 'age-old', 'pain,', 'its', 'ancient', 'tale', 'of', 'being', 'apart', 'or', 'together.', 'as', 'i', 'stare', 'on', 'and', 'on', 'into', 'the', 'past,', 'in', 'the', 'end', 'you', 'emerge,', 'clad', 'in', 'the', 'light', 'of', 'a', 'pole-star', 'piercing', 'the', 'darkness', 'of', 'time:', 'you', 'become', 'an', 'image', 'of', 'what', 'is', 'remembered', 'forever.', 'you', 'and', 'i', 'have', 'floated', 'here', 'on', 'the', 'stream', 'that', 'brings', 'from', 'the', 'fount.', 'at', 'the', 'heart', 'of', 'time,', 'love', 'of', 'one', 'for', 'another.', 'we', 'have', 'played', 'along', 'side', 'millions', 'of', 'lovers,', 'shared', 'in', 'the', 'same', 'shy', 'sweetness', 'of', 'meeting,', 'the', 'same', 'distressful', 'tears', 'of', 'farewell-', 'old', 'love', 'but', 'in', 'shapes', 'that', 'renew', 'and', 'renew', 'forever.', 'today', 'it', 'is', 'heaped', 'at', 'your', 'feet,', 'it', 'has', 'found', 'its', 'end', 'in', 'you', 'the', 'love', 'of', 'all', 'man’s', 'days', 'both', 'past', 'and', 'forever:', 'universal', 'joy,', 'universal', 'sorrow,', 'universal', 'life.', 'the', 'memories', 'of', 'all', 'loves', 'merging', 'with', 'this', 'one', 'love', 'of', 'ours', '–', 'and', 'the', 'songs', 'of', 'every', 'poet', 'past', 'and', 'forever.']\n"
          ],
          "name": "stdout"
        }
      ]
    },
    {
      "cell_type": "code",
      "metadata": {
        "id": "uzyQtV9H6RY-",
        "colab_type": "code",
        "colab": {}
      },
      "source": [
        "d = {}\n",
        "for word in words:\n",
        "  d[word] = d.get(word, 0) + 1"
      ],
      "execution_count": 34,
      "outputs": []
    },
    {
      "cell_type": "code",
      "metadata": {
        "id": "AtdH7JVx-WTQ",
        "colab_type": "code",
        "colab": {}
      },
      "source": [
        "from collections import Counter\n",
        "frequent_words_dict = dict(Counter(d).most_common(10))"
      ],
      "execution_count": 48,
      "outputs": []
    },
    {
      "cell_type": "code",
      "metadata": {
        "id": "FAI9-1Sa_zw8",
        "colab_type": "code",
        "colab": {
          "base_uri": "https://localhost:8080/",
          "height": 187
        },
        "outputId": "b5974ac7-e77f-4e1c-c107-ccffc80cb406"
      },
      "source": [
        "for i in frequent_words_dict.keys():\n",
        "  print(i)"
      ],
      "execution_count": 49,
      "outputs": [
        {
          "output_type": "stream",
          "text": [
            "of\n",
            "the\n",
            "in\n",
            "and\n",
            "you\n",
            "love\n",
            "forever.\n",
            "i\n",
            "after\n",
            "have\n"
          ],
          "name": "stdout"
        }
      ]
    },
    {
      "cell_type": "code",
      "metadata": {
        "id": "_poWLYv1-W1I",
        "colab_type": "code",
        "colab": {}
      },
      "source": [
        "with open(\"frequent_words\", 'w') as f:\n",
        "  for i in frequent_words_dict.keys():\n",
        "    f.writelines([i, \"\\n\"])"
      ],
      "execution_count": 50,
      "outputs": []
    },
    {
      "cell_type": "code",
      "metadata": {
        "id": "ablPbow0AM4z",
        "colab_type": "code",
        "colab": {}
      },
      "source": [
        "def find_bigrams(s):\n",
        "    input_list = ''.join(s).lower().split()\n",
        "    print(input_list)\n",
        "    return list(zip(input_list, input_list[1:]))"
      ],
      "execution_count": 102,
      "outputs": []
    },
    {
      "cell_type": "code",
      "metadata": {
        "id": "VoSiXfCyAm1M",
        "colab_type": "code",
        "colab": {
          "base_uri": "https://localhost:8080/",
          "height": 71
        },
        "outputId": "c3f9d7f5-6f79-4df2-eb80-bb954063831a"
      },
      "source": [
        "x = find_bigrams(output)\n",
        "print(x)"
      ],
      "execution_count": 103,
      "outputs": [
        {
          "output_type": "stream",
          "text": [
            "['unending', 'love', 'by', 'rabindranath', 'tagore', 'i', 'seem', 'to', 'have', 'loved', 'you', 'in', 'numberless', 'forms,', 'numberless', 'times', 'in', 'life', 'after', 'life,', 'in', 'age', 'after', 'age,', 'forever.', 'my', 'spellbound', 'heart', 'has', 'made', 'and', 'remade', 'the', 'necklace', 'of', 'songs,', 'that', 'you', 'take', 'as', 'a', 'gift,', 'wear', 'round', 'your', 'neck', 'in', 'your', 'many', 'forms,', 'in', 'life', 'after', 'life,', 'in', 'age', 'after', 'age,', 'forever.', 'whenever', 'i', 'hear', 'old', 'chronicles', 'of', 'love,', 'its', 'age-old', 'pain,', 'its', 'ancient', 'tale', 'of', 'being', 'apart', 'or', 'together.', 'as', 'i', 'stare', 'on', 'and', 'on', 'into', 'the', 'past,', 'in', 'the', 'end', 'you', 'emerge,', 'clad', 'in', 'the', 'light', 'of', 'a', 'pole-star', 'piercing', 'the', 'darkness', 'of', 'time:', 'you', 'become', 'an', 'image', 'of', 'what', 'is', 'remembered', 'forever.', 'you', 'and', 'i', 'have', 'floated', 'here', 'on', 'the', 'stream', 'that', 'brings', 'from', 'the', 'fount.', 'at', 'the', 'heart', 'of', 'time,', 'love', 'of', 'one', 'for', 'another.', 'we', 'have', 'played', 'along', 'side', 'millions', 'of', 'lovers,', 'shared', 'in', 'the', 'same', 'shy', 'sweetness', 'of', 'meeting,', 'the', 'same', 'distressful', 'tears', 'of', 'farewell-', 'old', 'love', 'but', 'in', 'shapes', 'that', 'renew', 'and', 'renew', 'forever.', 'today', 'it', 'is', 'heaped', 'at', 'your', 'feet,', 'it', 'has', 'found', 'its', 'end', 'in', 'you', 'the', 'love', 'of', 'all', 'man’s', 'days', 'both', 'past', 'and', 'forever:', 'universal', 'joy,', 'universal', 'sorrow,', 'universal', 'life.', 'the', 'memories', 'of', 'all', 'loves', 'merging', 'with', 'this', 'one', 'love', 'of', 'ours', '–', 'and', 'the', 'songs', 'of', 'every', 'poet', 'past', 'and', 'forever.']\n",
            "[('unending', 'love'), ('love', 'by'), ('by', 'rabindranath'), ('rabindranath', 'tagore'), ('tagore', 'i'), ('i', 'seem'), ('seem', 'to'), ('to', 'have'), ('have', 'loved'), ('loved', 'you'), ('you', 'in'), ('in', 'numberless'), ('numberless', 'forms,'), ('forms,', 'numberless'), ('numberless', 'times'), ('times', 'in'), ('in', 'life'), ('life', 'after'), ('after', 'life,'), ('life,', 'in'), ('in', 'age'), ('age', 'after'), ('after', 'age,'), ('age,', 'forever.'), ('forever.', 'my'), ('my', 'spellbound'), ('spellbound', 'heart'), ('heart', 'has'), ('has', 'made'), ('made', 'and'), ('and', 'remade'), ('remade', 'the'), ('the', 'necklace'), ('necklace', 'of'), ('of', 'songs,'), ('songs,', 'that'), ('that', 'you'), ('you', 'take'), ('take', 'as'), ('as', 'a'), ('a', 'gift,'), ('gift,', 'wear'), ('wear', 'round'), ('round', 'your'), ('your', 'neck'), ('neck', 'in'), ('in', 'your'), ('your', 'many'), ('many', 'forms,'), ('forms,', 'in'), ('in', 'life'), ('life', 'after'), ('after', 'life,'), ('life,', 'in'), ('in', 'age'), ('age', 'after'), ('after', 'age,'), ('age,', 'forever.'), ('forever.', 'whenever'), ('whenever', 'i'), ('i', 'hear'), ('hear', 'old'), ('old', 'chronicles'), ('chronicles', 'of'), ('of', 'love,'), ('love,', 'its'), ('its', 'age-old'), ('age-old', 'pain,'), ('pain,', 'its'), ('its', 'ancient'), ('ancient', 'tale'), ('tale', 'of'), ('of', 'being'), ('being', 'apart'), ('apart', 'or'), ('or', 'together.'), ('together.', 'as'), ('as', 'i'), ('i', 'stare'), ('stare', 'on'), ('on', 'and'), ('and', 'on'), ('on', 'into'), ('into', 'the'), ('the', 'past,'), ('past,', 'in'), ('in', 'the'), ('the', 'end'), ('end', 'you'), ('you', 'emerge,'), ('emerge,', 'clad'), ('clad', 'in'), ('in', 'the'), ('the', 'light'), ('light', 'of'), ('of', 'a'), ('a', 'pole-star'), ('pole-star', 'piercing'), ('piercing', 'the'), ('the', 'darkness'), ('darkness', 'of'), ('of', 'time:'), ('time:', 'you'), ('you', 'become'), ('become', 'an'), ('an', 'image'), ('image', 'of'), ('of', 'what'), ('what', 'is'), ('is', 'remembered'), ('remembered', 'forever.'), ('forever.', 'you'), ('you', 'and'), ('and', 'i'), ('i', 'have'), ('have', 'floated'), ('floated', 'here'), ('here', 'on'), ('on', 'the'), ('the', 'stream'), ('stream', 'that'), ('that', 'brings'), ('brings', 'from'), ('from', 'the'), ('the', 'fount.'), ('fount.', 'at'), ('at', 'the'), ('the', 'heart'), ('heart', 'of'), ('of', 'time,'), ('time,', 'love'), ('love', 'of'), ('of', 'one'), ('one', 'for'), ('for', 'another.'), ('another.', 'we'), ('we', 'have'), ('have', 'played'), ('played', 'along'), ('along', 'side'), ('side', 'millions'), ('millions', 'of'), ('of', 'lovers,'), ('lovers,', 'shared'), ('shared', 'in'), ('in', 'the'), ('the', 'same'), ('same', 'shy'), ('shy', 'sweetness'), ('sweetness', 'of'), ('of', 'meeting,'), ('meeting,', 'the'), ('the', 'same'), ('same', 'distressful'), ('distressful', 'tears'), ('tears', 'of'), ('of', 'farewell-'), ('farewell-', 'old'), ('old', 'love'), ('love', 'but'), ('but', 'in'), ('in', 'shapes'), ('shapes', 'that'), ('that', 'renew'), ('renew', 'and'), ('and', 'renew'), ('renew', 'forever.'), ('forever.', 'today'), ('today', 'it'), ('it', 'is'), ('is', 'heaped'), ('heaped', 'at'), ('at', 'your'), ('your', 'feet,'), ('feet,', 'it'), ('it', 'has'), ('has', 'found'), ('found', 'its'), ('its', 'end'), ('end', 'in'), ('in', 'you'), ('you', 'the'), ('the', 'love'), ('love', 'of'), ('of', 'all'), ('all', 'man’s'), ('man’s', 'days'), ('days', 'both'), ('both', 'past'), ('past', 'and'), ('and', 'forever:'), ('forever:', 'universal'), ('universal', 'joy,'), ('joy,', 'universal'), ('universal', 'sorrow,'), ('sorrow,', 'universal'), ('universal', 'life.'), ('life.', 'the'), ('the', 'memories'), ('memories', 'of'), ('of', 'all'), ('all', 'loves'), ('loves', 'merging'), ('merging', 'with'), ('with', 'this'), ('this', 'one'), ('one', 'love'), ('love', 'of'), ('of', 'ours'), ('ours', '–'), ('–', 'and'), ('and', 'the'), ('the', 'songs'), ('songs', 'of'), ('of', 'every'), ('every', 'poet'), ('poet', 'past'), ('past', 'and'), ('and', 'forever.')]\n"
          ],
          "name": "stdout"
        }
      ]
    },
    {
      "cell_type": "code",
      "metadata": {
        "id": "M1Vulid9IeBW",
        "colab_type": "code",
        "colab": {}
      },
      "source": [
        "bigrams = []\n",
        "for i in x:\n",
        "  bigrams.append(' '.join(list(i)))\n"
      ],
      "execution_count": 104,
      "outputs": []
    },
    {
      "cell_type": "code",
      "metadata": {
        "id": "Rv4awaa8JPTx",
        "colab_type": "code",
        "colab": {
          "base_uri": "https://localhost:8080/",
          "height": 1000
        },
        "outputId": "a4e33eb2-622e-421c-97ca-114ae6dd103e"
      },
      "source": [
        "bigrams"
      ],
      "execution_count": 105,
      "outputs": [
        {
          "output_type": "execute_result",
          "data": {
            "text/plain": [
              "['unending love',\n",
              " 'love by',\n",
              " 'by rabindranath',\n",
              " 'rabindranath tagore',\n",
              " 'tagore i',\n",
              " 'i seem',\n",
              " 'seem to',\n",
              " 'to have',\n",
              " 'have loved',\n",
              " 'loved you',\n",
              " 'you in',\n",
              " 'in numberless',\n",
              " 'numberless forms,',\n",
              " 'forms, numberless',\n",
              " 'numberless times',\n",
              " 'times in',\n",
              " 'in life',\n",
              " 'life after',\n",
              " 'after life,',\n",
              " 'life, in',\n",
              " 'in age',\n",
              " 'age after',\n",
              " 'after age,',\n",
              " 'age, forever.',\n",
              " 'forever. my',\n",
              " 'my spellbound',\n",
              " 'spellbound heart',\n",
              " 'heart has',\n",
              " 'has made',\n",
              " 'made and',\n",
              " 'and remade',\n",
              " 'remade the',\n",
              " 'the necklace',\n",
              " 'necklace of',\n",
              " 'of songs,',\n",
              " 'songs, that',\n",
              " 'that you',\n",
              " 'you take',\n",
              " 'take as',\n",
              " 'as a',\n",
              " 'a gift,',\n",
              " 'gift, wear',\n",
              " 'wear round',\n",
              " 'round your',\n",
              " 'your neck',\n",
              " 'neck in',\n",
              " 'in your',\n",
              " 'your many',\n",
              " 'many forms,',\n",
              " 'forms, in',\n",
              " 'in life',\n",
              " 'life after',\n",
              " 'after life,',\n",
              " 'life, in',\n",
              " 'in age',\n",
              " 'age after',\n",
              " 'after age,',\n",
              " 'age, forever.',\n",
              " 'forever. whenever',\n",
              " 'whenever i',\n",
              " 'i hear',\n",
              " 'hear old',\n",
              " 'old chronicles',\n",
              " 'chronicles of',\n",
              " 'of love,',\n",
              " 'love, its',\n",
              " 'its age-old',\n",
              " 'age-old pain,',\n",
              " 'pain, its',\n",
              " 'its ancient',\n",
              " 'ancient tale',\n",
              " 'tale of',\n",
              " 'of being',\n",
              " 'being apart',\n",
              " 'apart or',\n",
              " 'or together.',\n",
              " 'together. as',\n",
              " 'as i',\n",
              " 'i stare',\n",
              " 'stare on',\n",
              " 'on and',\n",
              " 'and on',\n",
              " 'on into',\n",
              " 'into the',\n",
              " 'the past,',\n",
              " 'past, in',\n",
              " 'in the',\n",
              " 'the end',\n",
              " 'end you',\n",
              " 'you emerge,',\n",
              " 'emerge, clad',\n",
              " 'clad in',\n",
              " 'in the',\n",
              " 'the light',\n",
              " 'light of',\n",
              " 'of a',\n",
              " 'a pole-star',\n",
              " 'pole-star piercing',\n",
              " 'piercing the',\n",
              " 'the darkness',\n",
              " 'darkness of',\n",
              " 'of time:',\n",
              " 'time: you',\n",
              " 'you become',\n",
              " 'become an',\n",
              " 'an image',\n",
              " 'image of',\n",
              " 'of what',\n",
              " 'what is',\n",
              " 'is remembered',\n",
              " 'remembered forever.',\n",
              " 'forever. you',\n",
              " 'you and',\n",
              " 'and i',\n",
              " 'i have',\n",
              " 'have floated',\n",
              " 'floated here',\n",
              " 'here on',\n",
              " 'on the',\n",
              " 'the stream',\n",
              " 'stream that',\n",
              " 'that brings',\n",
              " 'brings from',\n",
              " 'from the',\n",
              " 'the fount.',\n",
              " 'fount. at',\n",
              " 'at the',\n",
              " 'the heart',\n",
              " 'heart of',\n",
              " 'of time,',\n",
              " 'time, love',\n",
              " 'love of',\n",
              " 'of one',\n",
              " 'one for',\n",
              " 'for another.',\n",
              " 'another. we',\n",
              " 'we have',\n",
              " 'have played',\n",
              " 'played along',\n",
              " 'along side',\n",
              " 'side millions',\n",
              " 'millions of',\n",
              " 'of lovers,',\n",
              " 'lovers, shared',\n",
              " 'shared in',\n",
              " 'in the',\n",
              " 'the same',\n",
              " 'same shy',\n",
              " 'shy sweetness',\n",
              " 'sweetness of',\n",
              " 'of meeting,',\n",
              " 'meeting, the',\n",
              " 'the same',\n",
              " 'same distressful',\n",
              " 'distressful tears',\n",
              " 'tears of',\n",
              " 'of farewell-',\n",
              " 'farewell- old',\n",
              " 'old love',\n",
              " 'love but',\n",
              " 'but in',\n",
              " 'in shapes',\n",
              " 'shapes that',\n",
              " 'that renew',\n",
              " 'renew and',\n",
              " 'and renew',\n",
              " 'renew forever.',\n",
              " 'forever. today',\n",
              " 'today it',\n",
              " 'it is',\n",
              " 'is heaped',\n",
              " 'heaped at',\n",
              " 'at your',\n",
              " 'your feet,',\n",
              " 'feet, it',\n",
              " 'it has',\n",
              " 'has found',\n",
              " 'found its',\n",
              " 'its end',\n",
              " 'end in',\n",
              " 'in you',\n",
              " 'you the',\n",
              " 'the love',\n",
              " 'love of',\n",
              " 'of all',\n",
              " 'all man’s',\n",
              " 'man’s days',\n",
              " 'days both',\n",
              " 'both past',\n",
              " 'past and',\n",
              " 'and forever:',\n",
              " 'forever: universal',\n",
              " 'universal joy,',\n",
              " 'joy, universal',\n",
              " 'universal sorrow,',\n",
              " 'sorrow, universal',\n",
              " 'universal life.',\n",
              " 'life. the',\n",
              " 'the memories',\n",
              " 'memories of',\n",
              " 'of all',\n",
              " 'all loves',\n",
              " 'loves merging',\n",
              " 'merging with',\n",
              " 'with this',\n",
              " 'this one',\n",
              " 'one love',\n",
              " 'love of',\n",
              " 'of ours',\n",
              " 'ours –',\n",
              " '– and',\n",
              " 'and the',\n",
              " 'the songs',\n",
              " 'songs of',\n",
              " 'of every',\n",
              " 'every poet',\n",
              " 'poet past',\n",
              " 'past and',\n",
              " 'and forever.']"
            ]
          },
          "metadata": {
            "tags": []
          },
          "execution_count": 105
        }
      ]
    },
    {
      "cell_type": "code",
      "metadata": {
        "id": "0baHJaRYGKG9",
        "colab_type": "code",
        "colab": {}
      },
      "source": [
        "bigram_dict = {}\n",
        "for item in bigrams:\n",
        "  bigram_dict[item] = bigram_dict.get(item, 0) + 1"
      ],
      "execution_count": 106,
      "outputs": []
    },
    {
      "cell_type": "code",
      "metadata": {
        "id": "biPmfzL7LXuv",
        "colab_type": "code",
        "colab": {
          "base_uri": "https://localhost:8080/",
          "height": 1000
        },
        "outputId": "471f3bba-6338-46c4-f0ec-ebce04d8ca21"
      },
      "source": [
        "bigram_dict "
      ],
      "execution_count": 107,
      "outputs": [
        {
          "output_type": "execute_result",
          "data": {
            "text/plain": [
              "{'a gift,': 1,\n",
              " 'a pole-star': 1,\n",
              " 'after age,': 2,\n",
              " 'after life,': 2,\n",
              " 'age after': 2,\n",
              " 'age, forever.': 2,\n",
              " 'age-old pain,': 1,\n",
              " 'all loves': 1,\n",
              " 'all man’s': 1,\n",
              " 'along side': 1,\n",
              " 'an image': 1,\n",
              " 'ancient tale': 1,\n",
              " 'and forever.': 1,\n",
              " 'and forever:': 1,\n",
              " 'and i': 1,\n",
              " 'and on': 1,\n",
              " 'and remade': 1,\n",
              " 'and renew': 1,\n",
              " 'and the': 1,\n",
              " 'another. we': 1,\n",
              " 'apart or': 1,\n",
              " 'as a': 1,\n",
              " 'as i': 1,\n",
              " 'at the': 1,\n",
              " 'at your': 1,\n",
              " 'become an': 1,\n",
              " 'being apart': 1,\n",
              " 'both past': 1,\n",
              " 'brings from': 1,\n",
              " 'but in': 1,\n",
              " 'by rabindranath': 1,\n",
              " 'chronicles of': 1,\n",
              " 'clad in': 1,\n",
              " 'darkness of': 1,\n",
              " 'days both': 1,\n",
              " 'distressful tears': 1,\n",
              " 'emerge, clad': 1,\n",
              " 'end in': 1,\n",
              " 'end you': 1,\n",
              " 'every poet': 1,\n",
              " 'farewell- old': 1,\n",
              " 'feet, it': 1,\n",
              " 'floated here': 1,\n",
              " 'for another.': 1,\n",
              " 'forever. my': 1,\n",
              " 'forever. today': 1,\n",
              " 'forever. whenever': 1,\n",
              " 'forever. you': 1,\n",
              " 'forever: universal': 1,\n",
              " 'forms, in': 1,\n",
              " 'forms, numberless': 1,\n",
              " 'found its': 1,\n",
              " 'fount. at': 1,\n",
              " 'from the': 1,\n",
              " 'gift, wear': 1,\n",
              " 'has found': 1,\n",
              " 'has made': 1,\n",
              " 'have floated': 1,\n",
              " 'have loved': 1,\n",
              " 'have played': 1,\n",
              " 'heaped at': 1,\n",
              " 'hear old': 1,\n",
              " 'heart has': 1,\n",
              " 'heart of': 1,\n",
              " 'here on': 1,\n",
              " 'i have': 1,\n",
              " 'i hear': 1,\n",
              " 'i seem': 1,\n",
              " 'i stare': 1,\n",
              " 'image of': 1,\n",
              " 'in age': 2,\n",
              " 'in life': 2,\n",
              " 'in numberless': 1,\n",
              " 'in shapes': 1,\n",
              " 'in the': 3,\n",
              " 'in you': 1,\n",
              " 'in your': 1,\n",
              " 'into the': 1,\n",
              " 'is heaped': 1,\n",
              " 'is remembered': 1,\n",
              " 'it has': 1,\n",
              " 'it is': 1,\n",
              " 'its age-old': 1,\n",
              " 'its ancient': 1,\n",
              " 'its end': 1,\n",
              " 'joy, universal': 1,\n",
              " 'life after': 2,\n",
              " 'life, in': 2,\n",
              " 'life. the': 1,\n",
              " 'light of': 1,\n",
              " 'love but': 1,\n",
              " 'love by': 1,\n",
              " 'love of': 3,\n",
              " 'love, its': 1,\n",
              " 'loved you': 1,\n",
              " 'lovers, shared': 1,\n",
              " 'loves merging': 1,\n",
              " 'made and': 1,\n",
              " 'many forms,': 1,\n",
              " 'man’s days': 1,\n",
              " 'meeting, the': 1,\n",
              " 'memories of': 1,\n",
              " 'merging with': 1,\n",
              " 'millions of': 1,\n",
              " 'my spellbound': 1,\n",
              " 'neck in': 1,\n",
              " 'necklace of': 1,\n",
              " 'numberless forms,': 1,\n",
              " 'numberless times': 1,\n",
              " 'of a': 1,\n",
              " 'of all': 2,\n",
              " 'of being': 1,\n",
              " 'of every': 1,\n",
              " 'of farewell-': 1,\n",
              " 'of love,': 1,\n",
              " 'of lovers,': 1,\n",
              " 'of meeting,': 1,\n",
              " 'of one': 1,\n",
              " 'of ours': 1,\n",
              " 'of songs,': 1,\n",
              " 'of time,': 1,\n",
              " 'of time:': 1,\n",
              " 'of what': 1,\n",
              " 'old chronicles': 1,\n",
              " 'old love': 1,\n",
              " 'on and': 1,\n",
              " 'on into': 1,\n",
              " 'on the': 1,\n",
              " 'one for': 1,\n",
              " 'one love': 1,\n",
              " 'or together.': 1,\n",
              " 'ours –': 1,\n",
              " 'pain, its': 1,\n",
              " 'past and': 2,\n",
              " 'past, in': 1,\n",
              " 'piercing the': 1,\n",
              " 'played along': 1,\n",
              " 'poet past': 1,\n",
              " 'pole-star piercing': 1,\n",
              " 'rabindranath tagore': 1,\n",
              " 'remade the': 1,\n",
              " 'remembered forever.': 1,\n",
              " 'renew and': 1,\n",
              " 'renew forever.': 1,\n",
              " 'round your': 1,\n",
              " 'same distressful': 1,\n",
              " 'same shy': 1,\n",
              " 'seem to': 1,\n",
              " 'shapes that': 1,\n",
              " 'shared in': 1,\n",
              " 'shy sweetness': 1,\n",
              " 'side millions': 1,\n",
              " 'songs of': 1,\n",
              " 'songs, that': 1,\n",
              " 'sorrow, universal': 1,\n",
              " 'spellbound heart': 1,\n",
              " 'stare on': 1,\n",
              " 'stream that': 1,\n",
              " 'sweetness of': 1,\n",
              " 'tagore i': 1,\n",
              " 'take as': 1,\n",
              " 'tale of': 1,\n",
              " 'tears of': 1,\n",
              " 'that brings': 1,\n",
              " 'that renew': 1,\n",
              " 'that you': 1,\n",
              " 'the darkness': 1,\n",
              " 'the end': 1,\n",
              " 'the fount.': 1,\n",
              " 'the heart': 1,\n",
              " 'the light': 1,\n",
              " 'the love': 1,\n",
              " 'the memories': 1,\n",
              " 'the necklace': 1,\n",
              " 'the past,': 1,\n",
              " 'the same': 2,\n",
              " 'the songs': 1,\n",
              " 'the stream': 1,\n",
              " 'this one': 1,\n",
              " 'time, love': 1,\n",
              " 'time: you': 1,\n",
              " 'times in': 1,\n",
              " 'to have': 1,\n",
              " 'today it': 1,\n",
              " 'together. as': 1,\n",
              " 'unending love': 1,\n",
              " 'universal joy,': 1,\n",
              " 'universal life.': 1,\n",
              " 'universal sorrow,': 1,\n",
              " 'we have': 1,\n",
              " 'wear round': 1,\n",
              " 'what is': 1,\n",
              " 'whenever i': 1,\n",
              " 'with this': 1,\n",
              " 'you and': 1,\n",
              " 'you become': 1,\n",
              " 'you emerge,': 1,\n",
              " 'you in': 1,\n",
              " 'you take': 1,\n",
              " 'you the': 1,\n",
              " 'your feet,': 1,\n",
              " 'your many': 1,\n",
              " 'your neck': 1,\n",
              " '– and': 1}"
            ]
          },
          "metadata": {
            "tags": []
          },
          "execution_count": 107
        }
      ]
    },
    {
      "cell_type": "code",
      "metadata": {
        "id": "cZ-PoTEnFG1u",
        "colab_type": "code",
        "colab": {}
      },
      "source": [
        "from collections import Counter\n",
        "frequent_bigram_dict = dict(Counter(bigram_dict).most_common(10))"
      ],
      "execution_count": 110,
      "outputs": []
    },
    {
      "cell_type": "code",
      "metadata": {
        "id": "zmBbV8EBH-Px",
        "colab_type": "code",
        "colab": {
          "base_uri": "https://localhost:8080/",
          "height": 187
        },
        "outputId": "8d28fd77-19eb-44e9-f1ac-57e8bc330865"
      },
      "source": [
        "frequent_bigram_dict"
      ],
      "execution_count": 111,
      "outputs": [
        {
          "output_type": "execute_result",
          "data": {
            "text/plain": [
              "{'after age,': 2,\n",
              " 'after life,': 2,\n",
              " 'age after': 2,\n",
              " 'age, forever.': 2,\n",
              " 'in age': 2,\n",
              " 'in life': 2,\n",
              " 'in the': 3,\n",
              " 'life after': 2,\n",
              " 'life, in': 2,\n",
              " 'love of': 3}"
            ]
          },
          "metadata": {
            "tags": []
          },
          "execution_count": 111
        }
      ]
    },
    {
      "cell_type": "code",
      "metadata": {
        "id": "gfAjTRLZHo_8",
        "colab_type": "code",
        "colab": {}
      },
      "source": [
        "with open(\"frequent_bigrams\", 'w') as f:\n",
        "  for i in frequent_bigram_dict.keys():\n",
        "    f.writelines([i, \"\\n\"])"
      ],
      "execution_count": 100,
      "outputs": []
    },
    {
      "cell_type": "code",
      "metadata": {
        "id": "6g8iM4OIjx4_",
        "colab_type": "code",
        "colab": {}
      },
      "source": [
        "# l = [11,13,14,17,19,20,27,29,29,30,31,34]\n",
        "l = [6,17,19,21,23,24,26,27,29,31,33,58]"
      ],
      "execution_count": 10,
      "outputs": []
    },
    {
      "cell_type": "code",
      "metadata": {
        "id": "IcGsVWHUJWRk",
        "colab_type": "code",
        "colab": {
          "base_uri": "https://localhost:8080/",
          "height": 51
        },
        "outputId": "2db49e06-75f4-4855-bfee-7c23beb1dd70"
      },
      "source": [
        "sum = 0\n",
        "for item in l:\n",
        "  sum += item\n",
        "\n",
        "print(sum)\n",
        "x_bar = round(sum/len(l), 2)\n",
        "print(x_bar)"
      ],
      "execution_count": 11,
      "outputs": [
        {
          "output_type": "stream",
          "text": [
            "314\n",
            "26.17\n"
          ],
          "name": "stdout"
        }
      ]
    },
    {
      "cell_type": "code",
      "metadata": {
        "id": "b60pHR34JWzJ",
        "colab_type": "code",
        "colab": {
          "base_uri": "https://localhost:8080/",
          "height": 34
        },
        "outputId": "3dab7063-98f3-466c-c97e-9d10b8cd4a26"
      },
      "source": [
        "len(l)"
      ],
      "execution_count": 15,
      "outputs": [
        {
          "output_type": "execute_result",
          "data": {
            "text/plain": [
              "12"
            ]
          },
          "metadata": {
            "tags": []
          },
          "execution_count": 15
        }
      ]
    },
    {
      "cell_type": "code",
      "metadata": {
        "id": "vRQpblqHKLzi",
        "colab_type": "code",
        "colab": {
          "base_uri": "https://localhost:8080/",
          "height": 34
        },
        "outputId": "d82368b1-ab78-4c9f-b28c-4321d3e6b423"
      },
      "source": [
        "x = range(5)\n",
        "print(x)"
      ],
      "execution_count": 22,
      "outputs": [
        {
          "output_type": "stream",
          "text": [
            "range(0, 5)\n"
          ],
          "name": "stdout"
        }
      ]
    },
    {
      "cell_type": "code",
      "metadata": {
        "id": "6kyvFbwIKdX3",
        "colab_type": "code",
        "colab": {}
      },
      "source": [
        "N = 10\n",
        "list_ = list(range(N))"
      ],
      "execution_count": 38,
      "outputs": []
    },
    {
      "cell_type": "code",
      "metadata": {
        "id": "tcJzwAkBWAPE",
        "colab_type": "code",
        "colab": {}
      },
      "source": [
        "square = [40-list_[i] for i in list_]"
      ],
      "execution_count": 36,
      "outputs": []
    },
    {
      "cell_type": "code",
      "metadata": {
        "id": "8bZ9ubHCXURN",
        "colab_type": "code",
        "colab": {
          "base_uri": "https://localhost:8080/",
          "height": 34
        },
        "outputId": "260eac07-5a72-41f5-da00-5b02863ecee0"
      },
      "source": [
        "square"
      ],
      "execution_count": 37,
      "outputs": [
        {
          "output_type": "execute_result",
          "data": {
            "text/plain": [
              "[40, 39, 38, 37, 36, 35, 34, 33, 32, 31]"
            ]
          },
          "metadata": {
            "tags": []
          },
          "execution_count": 37
        }
      ]
    },
    {
      "cell_type": "code",
      "metadata": {
        "id": "FAsh-XN3ZLAx",
        "colab_type": "code",
        "colab": {}
      },
      "source": [
        "list_sum = sum(list_)"
      ],
      "execution_count": 43,
      "outputs": []
    },
    {
      "cell_type": "code",
      "metadata": {
        "id": "j08sj1WobO-9",
        "colab_type": "code",
        "colab": {
          "base_uri": "https://localhost:8080/",
          "height": 34
        },
        "outputId": "bffb4741-f3d7-4980-b60a-3cae75bf7b52"
      },
      "source": [
        "list_sum"
      ],
      "execution_count": 44,
      "outputs": [
        {
          "output_type": "execute_result",
          "data": {
            "text/plain": [
              "45"
            ]
          },
          "metadata": {
            "tags": []
          },
          "execution_count": 44
        }
      ]
    },
    {
      "cell_type": "code",
      "metadata": {
        "id": "D44fbwx2bobl",
        "colab_type": "code",
        "colab": {
          "base_uri": "https://localhost:8080/",
          "height": 34
        },
        "outputId": "6d0551ea-2277-42fe-9fc3-24eb6bb6e220"
      },
      "source": [
        "sum"
      ],
      "execution_count": 42,
      "outputs": [
        {
          "output_type": "execute_result",
          "data": {
            "text/plain": [
              "<function sum>"
            ]
          },
          "metadata": {
            "tags": []
          },
          "execution_count": 42
        }
      ]
    },
    {
      "cell_type": "code",
      "metadata": {
        "id": "_s_kLGJEb3m5",
        "colab_type": "code",
        "colab": {}
      },
      "source": [
        ""
      ],
      "execution_count": null,
      "outputs": []
    }
  ]
}